{
  "cells": [
    {
      "cell_type": "markdown",
      "metadata": {
        "id": "view-in-github",
        "colab_type": "text"
      },
      "source": [
        "<a href=\"https://colab.research.google.com/github/MariaMitrankova/Community-Detection-in-Procurement/blob/main/Cartel_and_Corruption_Analysis.ipynb\" target=\"_parent\"><img src=\"https://colab.research.google.com/assets/colab-badge.svg\" alt=\"Open In Colab\"/></a>"
      ]
    },
    {
      "cell_type": "markdown",
      "source": [
        "This is a second part of the paper, includes applications for community detection in practice."
      ],
      "metadata": {
        "id": "V_iY-vllO5bA"
      }
    },
    {
      "cell_type": "markdown",
      "source": [
        "Load Dataset"
      ],
      "metadata": {
        "id": "jISVsRmLn8CX"
      }
    },
    {
      "cell_type": "code",
      "execution_count": 1,
      "metadata": {
        "id": "_M1BJTFVirYK",
        "colab": {
          "base_uri": "https://localhost:8080/"
        },
        "outputId": "f4150c7e-57aa-412a-99cc-83e3d87f4694"
      },
      "outputs": [
        {
          "output_type": "stream",
          "name": "stderr",
          "text": [
            "/usr/local/lib/python3.7/dist-packages/IPython/core/interactiveshell.py:2882: DtypeWarning: Columns (5,8,22,25,30,31) have mixed types.Specify dtype option on import or set low_memory=False.\n",
            "  exec(code_obj, self.user_global_ns, self.user_ns)\n"
          ]
        }
      ],
      "source": [
        "import pandas as pd\n",
        "auctions = pd.read_csv(\"/content/drive/MyDrive/Maria Mitrankova/updated.csv\")"
      ]
    },
    {
      "cell_type": "code",
      "execution_count": 2,
      "metadata": {
        "id": "hUSAm9DtQjMv"
      },
      "outputs": [],
      "source": [
        "auctions['start_date'] = pd.to_datetime(auctions['start_date'])"
      ]
    },
    {
      "cell_type": "code",
      "source": [
        "auctions['date'] = pd.to_datetime(auctions['date'])\n",
        "auctions['end_date'] = pd.to_datetime(auctions['end_date'])"
      ],
      "metadata": {
        "id": "flL01vcjD3o5"
      },
      "execution_count": 3,
      "outputs": []
    },
    {
      "cell_type": "code",
      "execution_count": null,
      "metadata": {
        "colab": {
          "base_uri": "https://localhost:8080/",
          "height": 490
        },
        "id": "nSzVIpvi6dHD",
        "outputId": "3d0591f3-5502-4a0b-f926-ee581c5086f6"
      },
      "outputs": [
        {
          "data": {
            "text/html": [
              "\n",
              "  <div id=\"df-821b8e1c-8355-4a95-910f-fffa68dc3a97\">\n",
              "    <div class=\"colab-df-container\">\n",
              "      <div>\n",
              "<style scoped>\n",
              "    .dataframe tbody tr th:only-of-type {\n",
              "        vertical-align: middle;\n",
              "    }\n",
              "\n",
              "    .dataframe tbody tr th {\n",
              "        vertical-align: top;\n",
              "    }\n",
              "\n",
              "    .dataframe thead th {\n",
              "        text-align: right;\n",
              "    }\n",
              "</style>\n",
              "<table border=\"1\" class=\"dataframe\">\n",
              "  <thead>\n",
              "    <tr style=\"text-align: right;\">\n",
              "      <th></th>\n",
              "      <th>Unnamed: 0</th>\n",
              "      <th>purchase_number</th>\n",
              "      <th>region</th>\n",
              "      <th>procurer_reg_num</th>\n",
              "      <th>max_price</th>\n",
              "      <th>currency</th>\n",
              "      <th>start_date</th>\n",
              "      <th>end_date</th>\n",
              "      <th>prolong_date</th>\n",
              "      <th>n_commission_members</th>\n",
              "      <th>...</th>\n",
              "      <th>won</th>\n",
              "      <th>con.win</th>\n",
              "      <th>sel_num</th>\n",
              "      <th>sel.period</th>\n",
              "      <th>au.reserve</th>\n",
              "      <th>au.duration</th>\n",
              "      <th>auciton_id</th>\n",
              "      <th>com_n</th>\n",
              "      <th>sus</th>\n",
              "      <th>com</th>\n",
              "    </tr>\n",
              "  </thead>\n",
              "  <tbody>\n",
              "    <tr>\n",
              "      <th>0</th>\n",
              "      <td>1299922</td>\n",
              "      <td>3.421000e+17</td>\n",
              "      <td>Samarskaja_obl</td>\n",
              "      <td>3.421000e+09</td>\n",
              "      <td>163463.3</td>\n",
              "      <td>NaN</td>\n",
              "      <td>2014-01-28 08:00:00</td>\n",
              "      <td>2014-01-31 16:00:00</td>\n",
              "      <td>NaN</td>\n",
              "      <td>4</td>\n",
              "      <td>...</td>\n",
              "      <td>True</td>\n",
              "      <td>0.999999</td>\n",
              "      <td>1</td>\n",
              "      <td>1</td>\n",
              "      <td>0.326927</td>\n",
              "      <td>3</td>\n",
              "      <td>603231</td>\n",
              "      <td>0</td>\n",
              "      <td>False</td>\n",
              "      <td>False</td>\n",
              "    </tr>\n",
              "    <tr>\n",
              "      <th>1</th>\n",
              "      <td>829607</td>\n",
              "      <td>3.323003e+17</td>\n",
              "      <td>Nizhegorodskaja_obl</td>\n",
              "      <td>3.323003e+09</td>\n",
              "      <td>95690.0</td>\n",
              "      <td>NaN</td>\n",
              "      <td>2014-02-10 08:00:00</td>\n",
              "      <td>2014-02-13 16:30:00</td>\n",
              "      <td>NaN</td>\n",
              "      <td>5</td>\n",
              "      <td>...</td>\n",
              "      <td>False</td>\n",
              "      <td>0.000000</td>\n",
              "      <td>193</td>\n",
              "      <td>1966</td>\n",
              "      <td>0.191380</td>\n",
              "      <td>3</td>\n",
              "      <td>373738</td>\n",
              "      <td>0</td>\n",
              "      <td>False</td>\n",
              "      <td>False</td>\n",
              "    </tr>\n",
              "    <tr>\n",
              "      <th>2</th>\n",
              "      <td>829606</td>\n",
              "      <td>3.323003e+17</td>\n",
              "      <td>Nizhegorodskaja_obl</td>\n",
              "      <td>3.323003e+09</td>\n",
              "      <td>95690.0</td>\n",
              "      <td>NaN</td>\n",
              "      <td>2014-02-10 08:00:00</td>\n",
              "      <td>2014-02-13 16:30:00</td>\n",
              "      <td>NaN</td>\n",
              "      <td>5</td>\n",
              "      <td>...</td>\n",
              "      <td>True</td>\n",
              "      <td>0.034483</td>\n",
              "      <td>47</td>\n",
              "      <td>2599</td>\n",
              "      <td>0.191380</td>\n",
              "      <td>3</td>\n",
              "      <td>373738</td>\n",
              "      <td>0</td>\n",
              "      <td>False</td>\n",
              "      <td>False</td>\n",
              "    </tr>\n",
              "    <tr>\n",
              "      <th>3</th>\n",
              "      <td>829608</td>\n",
              "      <td>3.323003e+17</td>\n",
              "      <td>Nizhegorodskaja_obl</td>\n",
              "      <td>3.323003e+09</td>\n",
              "      <td>95690.0</td>\n",
              "      <td>NaN</td>\n",
              "      <td>2014-02-10 08:00:00</td>\n",
              "      <td>2014-02-13 16:30:00</td>\n",
              "      <td>NaN</td>\n",
              "      <td>5</td>\n",
              "      <td>...</td>\n",
              "      <td>False</td>\n",
              "      <td>0.000000</td>\n",
              "      <td>42</td>\n",
              "      <td>2497</td>\n",
              "      <td>0.191380</td>\n",
              "      <td>3</td>\n",
              "      <td>373738</td>\n",
              "      <td>0</td>\n",
              "      <td>False</td>\n",
              "      <td>False</td>\n",
              "    </tr>\n",
              "    <tr>\n",
              "      <th>4</th>\n",
              "      <td>829609</td>\n",
              "      <td>3.323003e+17</td>\n",
              "      <td>Nizhegorodskaja_obl</td>\n",
              "      <td>3.323003e+09</td>\n",
              "      <td>95690.0</td>\n",
              "      <td>NaN</td>\n",
              "      <td>2014-02-10 08:00:00</td>\n",
              "      <td>2014-02-13 16:30:00</td>\n",
              "      <td>NaN</td>\n",
              "      <td>5</td>\n",
              "      <td>...</td>\n",
              "      <td>False</td>\n",
              "      <td>0.000000</td>\n",
              "      <td>258</td>\n",
              "      <td>2123</td>\n",
              "      <td>0.191380</td>\n",
              "      <td>3</td>\n",
              "      <td>373738</td>\n",
              "      <td>0</td>\n",
              "      <td>False</td>\n",
              "      <td>False</td>\n",
              "    </tr>\n",
              "  </tbody>\n",
              "</table>\n",
              "<p>5 rows × 46 columns</p>\n",
              "</div>\n",
              "      <button class=\"colab-df-convert\" onclick=\"convertToInteractive('df-821b8e1c-8355-4a95-910f-fffa68dc3a97')\"\n",
              "              title=\"Convert this dataframe to an interactive table.\"\n",
              "              style=\"display:none;\">\n",
              "        \n",
              "  <svg xmlns=\"http://www.w3.org/2000/svg\" height=\"24px\"viewBox=\"0 0 24 24\"\n",
              "       width=\"24px\">\n",
              "    <path d=\"M0 0h24v24H0V0z\" fill=\"none\"/>\n",
              "    <path d=\"M18.56 5.44l.94 2.06.94-2.06 2.06-.94-2.06-.94-.94-2.06-.94 2.06-2.06.94zm-11 1L8.5 8.5l.94-2.06 2.06-.94-2.06-.94L8.5 2.5l-.94 2.06-2.06.94zm10 10l.94 2.06.94-2.06 2.06-.94-2.06-.94-.94-2.06-.94 2.06-2.06.94z\"/><path d=\"M17.41 7.96l-1.37-1.37c-.4-.4-.92-.59-1.43-.59-.52 0-1.04.2-1.43.59L10.3 9.45l-7.72 7.72c-.78.78-.78 2.05 0 2.83L4 21.41c.39.39.9.59 1.41.59.51 0 1.02-.2 1.41-.59l7.78-7.78 2.81-2.81c.8-.78.8-2.07 0-2.86zM5.41 20L4 18.59l7.72-7.72 1.47 1.35L5.41 20z\"/>\n",
              "  </svg>\n",
              "      </button>\n",
              "      \n",
              "  <style>\n",
              "    .colab-df-container {\n",
              "      display:flex;\n",
              "      flex-wrap:wrap;\n",
              "      gap: 12px;\n",
              "    }\n",
              "\n",
              "    .colab-df-convert {\n",
              "      background-color: #E8F0FE;\n",
              "      border: none;\n",
              "      border-radius: 50%;\n",
              "      cursor: pointer;\n",
              "      display: none;\n",
              "      fill: #1967D2;\n",
              "      height: 32px;\n",
              "      padding: 0 0 0 0;\n",
              "      width: 32px;\n",
              "    }\n",
              "\n",
              "    .colab-df-convert:hover {\n",
              "      background-color: #E2EBFA;\n",
              "      box-shadow: 0px 1px 2px rgba(60, 64, 67, 0.3), 0px 1px 3px 1px rgba(60, 64, 67, 0.15);\n",
              "      fill: #174EA6;\n",
              "    }\n",
              "\n",
              "    [theme=dark] .colab-df-convert {\n",
              "      background-color: #3B4455;\n",
              "      fill: #D2E3FC;\n",
              "    }\n",
              "\n",
              "    [theme=dark] .colab-df-convert:hover {\n",
              "      background-color: #434B5C;\n",
              "      box-shadow: 0px 1px 3px 1px rgba(0, 0, 0, 0.15);\n",
              "      filter: drop-shadow(0px 1px 2px rgba(0, 0, 0, 0.3));\n",
              "      fill: #FFFFFF;\n",
              "    }\n",
              "  </style>\n",
              "\n",
              "      <script>\n",
              "        const buttonEl =\n",
              "          document.querySelector('#df-821b8e1c-8355-4a95-910f-fffa68dc3a97 button.colab-df-convert');\n",
              "        buttonEl.style.display =\n",
              "          google.colab.kernel.accessAllowed ? 'block' : 'none';\n",
              "\n",
              "        async function convertToInteractive(key) {\n",
              "          const element = document.querySelector('#df-821b8e1c-8355-4a95-910f-fffa68dc3a97');\n",
              "          const dataTable =\n",
              "            await google.colab.kernel.invokeFunction('convertToInteractive',\n",
              "                                                     [key], {});\n",
              "          if (!dataTable) return;\n",
              "\n",
              "          const docLinkHtml = 'Like what you see? Visit the ' +\n",
              "            '<a target=\"_blank\" href=https://colab.research.google.com/notebooks/data_table.ipynb>data table notebook</a>'\n",
              "            + ' to learn more about interactive tables.';\n",
              "          element.innerHTML = '';\n",
              "          dataTable['output_type'] = 'display_data';\n",
              "          await google.colab.output.renderOutput(dataTable, element);\n",
              "          const docLink = document.createElement('div');\n",
              "          docLink.innerHTML = docLinkHtml;\n",
              "          element.appendChild(docLink);\n",
              "        }\n",
              "      </script>\n",
              "    </div>\n",
              "  </div>\n",
              "  "
            ],
            "text/plain": [
              "   Unnamed: 0  purchase_number               region  procurer_reg_num  \\\n",
              "0     1299922     3.421000e+17       Samarskaja_obl      3.421000e+09   \n",
              "1      829607     3.323003e+17  Nizhegorodskaja_obl      3.323003e+09   \n",
              "2      829606     3.323003e+17  Nizhegorodskaja_obl      3.323003e+09   \n",
              "3      829608     3.323003e+17  Nizhegorodskaja_obl      3.323003e+09   \n",
              "4      829609     3.323003e+17  Nizhegorodskaja_obl      3.323003e+09   \n",
              "\n",
              "   max_price currency          start_date             end_date prolong_date  \\\n",
              "0   163463.3      NaN 2014-01-28 08:00:00  2014-01-31 16:00:00          NaN   \n",
              "1    95690.0      NaN 2014-02-10 08:00:00  2014-02-13 16:30:00          NaN   \n",
              "2    95690.0      NaN 2014-02-10 08:00:00  2014-02-13 16:30:00          NaN   \n",
              "3    95690.0      NaN 2014-02-10 08:00:00  2014-02-13 16:30:00          NaN   \n",
              "4    95690.0      NaN 2014-02-10 08:00:00  2014-02-13 16:30:00          NaN   \n",
              "\n",
              "   n_commission_members  ...    won   con.win sel_num  sel.period  au.reserve  \\\n",
              "0                     4  ...   True  0.999999       1           1    0.326927   \n",
              "1                     5  ...  False  0.000000     193        1966    0.191380   \n",
              "2                     5  ...   True  0.034483      47        2599    0.191380   \n",
              "3                     5  ...  False  0.000000      42        2497    0.191380   \n",
              "4                     5  ...  False  0.000000     258        2123    0.191380   \n",
              "\n",
              "   au.duration  auciton_id  com_n    sus    com  \n",
              "0            3      603231      0  False  False  \n",
              "1            3      373738      0  False  False  \n",
              "2            3      373738      0  False  False  \n",
              "3            3      373738      0  False  False  \n",
              "4            3      373738      0  False  False  \n",
              "\n",
              "[5 rows x 46 columns]"
            ]
          },
          "execution_count": 5,
          "metadata": {},
          "output_type": "execute_result"
        }
      ],
      "source": [
        "auctions.head()"
      ]
    },
    {
      "cell_type": "code",
      "execution_count": null,
      "metadata": {
        "colab": {
          "base_uri": "https://localhost:8080/"
        },
        "id": "8DA9HZWV6NbL",
        "outputId": "7f921e0e-1341-4e46-d193-f64ef12e0c63"
      },
      "outputs": [
        {
          "data": {
            "text/plain": [
              "Timedelta('8 days 01:00:00')"
            ]
          },
          "execution_count": 44,
          "metadata": {},
          "output_type": "execute_result"
        }
      ],
      "source": [
        "auctions[auctions['com_n'] != -1].groupby(['participant_inn'])['start_date'].diff().median()"
      ]
    },
    {
      "cell_type": "code",
      "execution_count": 4,
      "metadata": {
        "id": "vA4d80BVQ3ch"
      },
      "outputs": [],
      "source": [
        "auctions['year'] = auctions['start_date'].dt.year"
      ]
    },
    {
      "cell_type": "code",
      "execution_count": null,
      "metadata": {
        "colab": {
          "base_uri": "https://localhost:8080/"
        },
        "id": "bcWDkfSaQafH",
        "outputId": "81e1e727-addd-4b5a-db6e-25e52aad4d21"
      },
      "outputs": [
        {
          "data": {
            "text/plain": [
              "1.825618000722506"
            ]
          },
          "execution_count": 10,
          "metadata": {},
          "output_type": "execute_result"
        }
      ],
      "source": [
        "auctions.groupby('com_n')['year'].nunique().mean()"
      ]
    },
    {
      "cell_type": "code",
      "execution_count": null,
      "metadata": {
        "colab": {
          "base_uri": "https://localhost:8080/",
          "height": 490
        },
        "id": "g4KJMsZGjGH0",
        "outputId": "09ef4b75-def5-4539-bf57-b9386924a7eb"
      },
      "outputs": [
        {
          "data": {
            "text/html": [
              "\n",
              "  <div id=\"df-5e417942-fc22-442f-9aaf-699ac2f24ea0\">\n",
              "    <div class=\"colab-df-container\">\n",
              "      <div>\n",
              "<style scoped>\n",
              "    .dataframe tbody tr th:only-of-type {\n",
              "        vertical-align: middle;\n",
              "    }\n",
              "\n",
              "    .dataframe tbody tr th {\n",
              "        vertical-align: top;\n",
              "    }\n",
              "\n",
              "    .dataframe thead th {\n",
              "        text-align: right;\n",
              "    }\n",
              "</style>\n",
              "<table border=\"1\" class=\"dataframe\">\n",
              "  <thead>\n",
              "    <tr style=\"text-align: right;\">\n",
              "      <th></th>\n",
              "      <th>Unnamed: 0</th>\n",
              "      <th>purchase_number</th>\n",
              "      <th>region</th>\n",
              "      <th>procurer_reg_num</th>\n",
              "      <th>max_price</th>\n",
              "      <th>currency</th>\n",
              "      <th>start_date</th>\n",
              "      <th>end_date</th>\n",
              "      <th>prolong_date</th>\n",
              "      <th>n_commission_members</th>\n",
              "      <th>...</th>\n",
              "      <th>won</th>\n",
              "      <th>con.win</th>\n",
              "      <th>sel_num</th>\n",
              "      <th>sel.period</th>\n",
              "      <th>au.reserve</th>\n",
              "      <th>au.duration</th>\n",
              "      <th>auciton_id</th>\n",
              "      <th>com_n</th>\n",
              "      <th>sus</th>\n",
              "      <th>com</th>\n",
              "    </tr>\n",
              "  </thead>\n",
              "  <tbody>\n",
              "    <tr>\n",
              "      <th>0</th>\n",
              "      <td>1299922</td>\n",
              "      <td>3.421000e+17</td>\n",
              "      <td>Samarskaja_obl</td>\n",
              "      <td>3.421000e+09</td>\n",
              "      <td>163463.3</td>\n",
              "      <td>NaN</td>\n",
              "      <td>2014-01-28 08:00:00</td>\n",
              "      <td>2014-01-31 16:00:00</td>\n",
              "      <td>NaN</td>\n",
              "      <td>4</td>\n",
              "      <td>...</td>\n",
              "      <td>True</td>\n",
              "      <td>0.999999</td>\n",
              "      <td>1</td>\n",
              "      <td>1</td>\n",
              "      <td>0.326927</td>\n",
              "      <td>3</td>\n",
              "      <td>603231</td>\n",
              "      <td>0</td>\n",
              "      <td>False</td>\n",
              "      <td>False</td>\n",
              "    </tr>\n",
              "    <tr>\n",
              "      <th>1</th>\n",
              "      <td>829607</td>\n",
              "      <td>3.323003e+17</td>\n",
              "      <td>Nizhegorodskaja_obl</td>\n",
              "      <td>3.323003e+09</td>\n",
              "      <td>95690.0</td>\n",
              "      <td>NaN</td>\n",
              "      <td>2014-02-10 08:00:00</td>\n",
              "      <td>2014-02-13 16:30:00</td>\n",
              "      <td>NaN</td>\n",
              "      <td>5</td>\n",
              "      <td>...</td>\n",
              "      <td>False</td>\n",
              "      <td>0.000000</td>\n",
              "      <td>193</td>\n",
              "      <td>1966</td>\n",
              "      <td>0.191380</td>\n",
              "      <td>3</td>\n",
              "      <td>373738</td>\n",
              "      <td>0</td>\n",
              "      <td>False</td>\n",
              "      <td>False</td>\n",
              "    </tr>\n",
              "    <tr>\n",
              "      <th>2</th>\n",
              "      <td>829606</td>\n",
              "      <td>3.323003e+17</td>\n",
              "      <td>Nizhegorodskaja_obl</td>\n",
              "      <td>3.323003e+09</td>\n",
              "      <td>95690.0</td>\n",
              "      <td>NaN</td>\n",
              "      <td>2014-02-10 08:00:00</td>\n",
              "      <td>2014-02-13 16:30:00</td>\n",
              "      <td>NaN</td>\n",
              "      <td>5</td>\n",
              "      <td>...</td>\n",
              "      <td>True</td>\n",
              "      <td>0.034483</td>\n",
              "      <td>47</td>\n",
              "      <td>2599</td>\n",
              "      <td>0.191380</td>\n",
              "      <td>3</td>\n",
              "      <td>373738</td>\n",
              "      <td>0</td>\n",
              "      <td>False</td>\n",
              "      <td>False</td>\n",
              "    </tr>\n",
              "    <tr>\n",
              "      <th>3</th>\n",
              "      <td>829608</td>\n",
              "      <td>3.323003e+17</td>\n",
              "      <td>Nizhegorodskaja_obl</td>\n",
              "      <td>3.323003e+09</td>\n",
              "      <td>95690.0</td>\n",
              "      <td>NaN</td>\n",
              "      <td>2014-02-10 08:00:00</td>\n",
              "      <td>2014-02-13 16:30:00</td>\n",
              "      <td>NaN</td>\n",
              "      <td>5</td>\n",
              "      <td>...</td>\n",
              "      <td>False</td>\n",
              "      <td>0.000000</td>\n",
              "      <td>42</td>\n",
              "      <td>2497</td>\n",
              "      <td>0.191380</td>\n",
              "      <td>3</td>\n",
              "      <td>373738</td>\n",
              "      <td>0</td>\n",
              "      <td>False</td>\n",
              "      <td>False</td>\n",
              "    </tr>\n",
              "    <tr>\n",
              "      <th>4</th>\n",
              "      <td>829609</td>\n",
              "      <td>3.323003e+17</td>\n",
              "      <td>Nizhegorodskaja_obl</td>\n",
              "      <td>3.323003e+09</td>\n",
              "      <td>95690.0</td>\n",
              "      <td>NaN</td>\n",
              "      <td>2014-02-10 08:00:00</td>\n",
              "      <td>2014-02-13 16:30:00</td>\n",
              "      <td>NaN</td>\n",
              "      <td>5</td>\n",
              "      <td>...</td>\n",
              "      <td>False</td>\n",
              "      <td>0.000000</td>\n",
              "      <td>258</td>\n",
              "      <td>2123</td>\n",
              "      <td>0.191380</td>\n",
              "      <td>3</td>\n",
              "      <td>373738</td>\n",
              "      <td>0</td>\n",
              "      <td>False</td>\n",
              "      <td>False</td>\n",
              "    </tr>\n",
              "  </tbody>\n",
              "</table>\n",
              "<p>5 rows × 46 columns</p>\n",
              "</div>\n",
              "      <button class=\"colab-df-convert\" onclick=\"convertToInteractive('df-5e417942-fc22-442f-9aaf-699ac2f24ea0')\"\n",
              "              title=\"Convert this dataframe to an interactive table.\"\n",
              "              style=\"display:none;\">\n",
              "        \n",
              "  <svg xmlns=\"http://www.w3.org/2000/svg\" height=\"24px\"viewBox=\"0 0 24 24\"\n",
              "       width=\"24px\">\n",
              "    <path d=\"M0 0h24v24H0V0z\" fill=\"none\"/>\n",
              "    <path d=\"M18.56 5.44l.94 2.06.94-2.06 2.06-.94-2.06-.94-.94-2.06-.94 2.06-2.06.94zm-11 1L8.5 8.5l.94-2.06 2.06-.94-2.06-.94L8.5 2.5l-.94 2.06-2.06.94zm10 10l.94 2.06.94-2.06 2.06-.94-2.06-.94-.94-2.06-.94 2.06-2.06.94z\"/><path d=\"M17.41 7.96l-1.37-1.37c-.4-.4-.92-.59-1.43-.59-.52 0-1.04.2-1.43.59L10.3 9.45l-7.72 7.72c-.78.78-.78 2.05 0 2.83L4 21.41c.39.39.9.59 1.41.59.51 0 1.02-.2 1.41-.59l7.78-7.78 2.81-2.81c.8-.78.8-2.07 0-2.86zM5.41 20L4 18.59l7.72-7.72 1.47 1.35L5.41 20z\"/>\n",
              "  </svg>\n",
              "      </button>\n",
              "      \n",
              "  <style>\n",
              "    .colab-df-container {\n",
              "      display:flex;\n",
              "      flex-wrap:wrap;\n",
              "      gap: 12px;\n",
              "    }\n",
              "\n",
              "    .colab-df-convert {\n",
              "      background-color: #E8F0FE;\n",
              "      border: none;\n",
              "      border-radius: 50%;\n",
              "      cursor: pointer;\n",
              "      display: none;\n",
              "      fill: #1967D2;\n",
              "      height: 32px;\n",
              "      padding: 0 0 0 0;\n",
              "      width: 32px;\n",
              "    }\n",
              "\n",
              "    .colab-df-convert:hover {\n",
              "      background-color: #E2EBFA;\n",
              "      box-shadow: 0px 1px 2px rgba(60, 64, 67, 0.3), 0px 1px 3px 1px rgba(60, 64, 67, 0.15);\n",
              "      fill: #174EA6;\n",
              "    }\n",
              "\n",
              "    [theme=dark] .colab-df-convert {\n",
              "      background-color: #3B4455;\n",
              "      fill: #D2E3FC;\n",
              "    }\n",
              "\n",
              "    [theme=dark] .colab-df-convert:hover {\n",
              "      background-color: #434B5C;\n",
              "      box-shadow: 0px 1px 3px 1px rgba(0, 0, 0, 0.15);\n",
              "      filter: drop-shadow(0px 1px 2px rgba(0, 0, 0, 0.3));\n",
              "      fill: #FFFFFF;\n",
              "    }\n",
              "  </style>\n",
              "\n",
              "      <script>\n",
              "        const buttonEl =\n",
              "          document.querySelector('#df-5e417942-fc22-442f-9aaf-699ac2f24ea0 button.colab-df-convert');\n",
              "        buttonEl.style.display =\n",
              "          google.colab.kernel.accessAllowed ? 'block' : 'none';\n",
              "\n",
              "        async function convertToInteractive(key) {\n",
              "          const element = document.querySelector('#df-5e417942-fc22-442f-9aaf-699ac2f24ea0');\n",
              "          const dataTable =\n",
              "            await google.colab.kernel.invokeFunction('convertToInteractive',\n",
              "                                                     [key], {});\n",
              "          if (!dataTable) return;\n",
              "\n",
              "          const docLinkHtml = 'Like what you see? Visit the ' +\n",
              "            '<a target=\"_blank\" href=https://colab.research.google.com/notebooks/data_table.ipynb>data table notebook</a>'\n",
              "            + ' to learn more about interactive tables.';\n",
              "          element.innerHTML = '';\n",
              "          dataTable['output_type'] = 'display_data';\n",
              "          await google.colab.output.renderOutput(dataTable, element);\n",
              "          const docLink = document.createElement('div');\n",
              "          docLink.innerHTML = docLinkHtml;\n",
              "          element.appendChild(docLink);\n",
              "        }\n",
              "      </script>\n",
              "    </div>\n",
              "  </div>\n",
              "  "
            ],
            "text/plain": [
              "   Unnamed: 0  purchase_number               region  procurer_reg_num  \\\n",
              "0     1299922     3.421000e+17       Samarskaja_obl      3.421000e+09   \n",
              "1      829607     3.323003e+17  Nizhegorodskaja_obl      3.323003e+09   \n",
              "2      829606     3.323003e+17  Nizhegorodskaja_obl      3.323003e+09   \n",
              "3      829608     3.323003e+17  Nizhegorodskaja_obl      3.323003e+09   \n",
              "4      829609     3.323003e+17  Nizhegorodskaja_obl      3.323003e+09   \n",
              "\n",
              "   max_price currency           start_date             end_date prolong_date  \\\n",
              "0   163463.3      NaN  2014-01-28 08:00:00  2014-01-31 16:00:00          NaN   \n",
              "1    95690.0      NaN  2014-02-10 08:00:00  2014-02-13 16:30:00          NaN   \n",
              "2    95690.0      NaN  2014-02-10 08:00:00  2014-02-13 16:30:00          NaN   \n",
              "3    95690.0      NaN  2014-02-10 08:00:00  2014-02-13 16:30:00          NaN   \n",
              "4    95690.0      NaN  2014-02-10 08:00:00  2014-02-13 16:30:00          NaN   \n",
              "\n",
              "   n_commission_members  ...    won   con.win sel_num  sel.period  au.reserve  \\\n",
              "0                     4  ...   True  0.999999       1           1    0.326927   \n",
              "1                     5  ...  False  0.000000     193        1966    0.191380   \n",
              "2                     5  ...   True  0.034483      47        2599    0.191380   \n",
              "3                     5  ...  False  0.000000      42        2497    0.191380   \n",
              "4                     5  ...  False  0.000000     258        2123    0.191380   \n",
              "\n",
              "   au.duration  auciton_id  com_n    sus    com  \n",
              "0            3      603231      0  False  False  \n",
              "1            3      373738      0  False  False  \n",
              "2            3      373738      0  False  False  \n",
              "3            3      373738      0  False  False  \n",
              "4            3      373738      0  False  False  \n",
              "\n",
              "[5 rows x 46 columns]"
            ]
          },
          "execution_count": 2,
          "metadata": {},
          "output_type": "execute_result"
        }
      ],
      "source": [
        "auctions.head()"
      ]
    },
    {
      "cell_type": "code",
      "execution_count": 5,
      "metadata": {
        "id": "2B2m2rPmjJyc"
      },
      "outputs": [],
      "source": [
        "import matplotlib.pyplot as plt\n"
      ]
    },
    {
      "cell_type": "code",
      "execution_count": 10,
      "metadata": {
        "id": "8-lu_aeE-S5t"
      },
      "outputs": [],
      "source": [
        "auctions.loc[(~auctions['participant_inn'].isin(gr_ns['participant_inn'])), ['com_n']] = -1"
      ]
    },
    {
      "cell_type": "code",
      "execution_count": 15,
      "metadata": {
        "id": "7scY4Zq99cAg"
      },
      "outputs": [],
      "source": [
        "auctions = auctions[auctions['com_n'] != -1] # remove only single-bidders firms"
      ]
    },
    {
      "cell_type": "code",
      "execution_count": null,
      "metadata": {
        "id": "d2F1wh_nwbNS"
      },
      "outputs": [],
      "source": [
        "import networkx as nx\n",
        "!pip install cdlib\n",
        "from cdlib import algorithms"
      ]
    },
    {
      "cell_type": "markdown",
      "source": [
        "Distribution of metrics in competitive vs. noncompetitive markets"
      ],
      "metadata": {
        "id": "NonxVaujoDAs"
      }
    },
    {
      "cell_type": "code",
      "execution_count": null,
      "metadata": {
        "colab": {
          "base_uri": "https://localhost:8080/",
          "height": 283
        },
        "id": "7HRcs580lAni",
        "outputId": "e2d877f1-57b1-41e7-9d22-f4c30b44dac3"
      },
      "outputs": [
        {
          "data": {
            "text/plain": [
              "<matplotlib.legend.Legend at 0x7fd971e876d0>"
            ]
          },
          "execution_count": 33,
          "metadata": {},
          "output_type": "execute_result"
        },
        {
          "data": {
            "image/png": "[encoded data removed]",
            "text/plain": [
              "<Figure size 432x288 with 1 Axes>"
            ]
          },
          "metadata": {},
          "output_type": "display_data"
        }
      ],
      "source": [
        "fig, ax = plt.subplots(1,1)\n",
        "auctions[(~auctions['sus']) & (auctions['single']) & (auctions['com_n'] != -1)].groupby(['com_n'])['con.win'].mean().plot.density(color='green', ax=ax, label='Normal Markets')\n",
        "auctions[(auctions['sus']) & (auctions['single']) & (auctions['sel_num'] > 1) & (auctions['com_n'] != -1)].groupby(['com_n'])['con.win'].mean().plot.density(color='red', ax=ax, label='Uncompetitive Markets')\n",
        "ax.legend()"
      ]
    },
    {
      "cell_type": "code",
      "execution_count": null,
      "metadata": {
        "colab": {
          "base_uri": "https://localhost:8080/",
          "height": 283
        },
        "id": "p6JFY4w7Zaa1",
        "outputId": "96e23b22-a651-4ad4-be37-010bbf45f508"
      },
      "outputs": [
        {
          "data": {
            "text/plain": [
              "<matplotlib.legend.Legend at 0x7fd971ee1e10>"
            ]
          },
          "execution_count": 34,
          "metadata": {},
          "output_type": "execute_result"
        },
        {
          "data": {
            "image/png": "[encoded data removed]",
            "text/plain": [
              "<Figure size 432x288 with 1 Axes>"
            ]
          },
          "metadata": {},
          "output_type": "display_data"
        }
      ],
      "source": [
        "fig, ax = plt.subplots(1,1)\n",
        "ax.set_xlim([0,50])\n",
        "auctions[(~auctions['sus']) & (auctions['single']) & (auctions['com_n'] != -1)].groupby(['com_n'])['sel_num'].mean().plot.density(color='green', ax=ax, label='Normal Markets')\n",
        "auctions[(auctions['sus']) & (auctions['single']) & (auctions['sel_num'] > 1) & (auctions['com_n'] != -1)].groupby(['com_n'])['sel_num'].mean().plot.density(color='red', ax=ax, label='Uncompetitive Markets')\n",
        "ax.legend()"
      ]
    },
    {
      "cell_type": "code",
      "execution_count": null,
      "metadata": {
        "colab": {
          "base_uri": "https://localhost:8080/"
        },
        "id": "UNt8YBNJgTO5",
        "outputId": "5fdf701e-d8f9-4d75-bb9a-ea821395c4f9"
      },
      "outputs": [
        {
          "data": {
            "text/plain": [
              "2005"
            ]
          },
          "execution_count": 35,
          "metadata": {},
          "output_type": "execute_result"
        }
      ],
      "source": [
        "auctions[auctions['sus'] & (auctions['com_n'] != -1)]['com_n'].nunique()"
      ]
    },
    {
      "cell_type": "code",
      "execution_count": null,
      "metadata": {
        "colab": {
          "base_uri": "https://localhost:8080/",
          "height": 283
        },
        "id": "pOMYagJi_k4J",
        "outputId": "7c86e9af-c181-447f-aac4-3b3e2f3a1dd5"
      },
      "outputs": [
        {
          "data": {
            "text/plain": [
              "<matplotlib.legend.Legend at 0x7fd9390acd50>"
            ]
          },
          "execution_count": 126,
          "metadata": {},
          "output_type": "execute_result"
        },
        {
          "data": {
            "image/png": "[encoded data removed]",
            "text/plain": [
              "<Figure size 432x288 with 1 Axes>"
            ]
          },
          "metadata": {},
          "output_type": "display_data"
        }
      ],
      "source": [
        "fig, ax = plt.subplots(1,1)\n",
        "ax.set_xlim([0.9,1])\n",
        "auctions[(~auctions['sus']) & (auctions['single']) & (auctions['com_n'] != -1)].groupby(['com_n'])['bid_price'].mean().plot.density(color='green', ax=ax, label='Normal Markets')\n",
        "auctions[(auctions['sus']) & (auctions['single']) & (auctions['sel_num'] > 1) & (auctions['com_n'] != -1)].groupby(['com_n'])['bid_price'].mean().plot.density(color='red', ax=ax, label='Noncompetitive Markets')\n",
        "plt.legend()"
      ]
    },
    {
      "cell_type": "code",
      "execution_count": null,
      "metadata": {
        "colab": {
          "base_uri": "https://localhost:8080/"
        },
        "id": "gxXTZv6RyPEk",
        "outputId": "6a88beac-cf8a-4eec-8528-65fbd3a12880"
      },
      "outputs": [
        {
          "name": "stdout",
          "output_type": "stream",
          "text": [
            "0.9552790587730157 0.10583125397575209 0.9935767916120197\n",
            "0.9628193854221175 0.08436137089754439 0.9628193854221175\n"
          ]
        },
        {
          "data": {
            "text/plain": [
              "MannwhitneyuResult(statistic=5671055.0, pvalue=1.3796884735631112e-06)"
            ]
          },
          "execution_count": 37,
          "metadata": {},
          "output_type": "execute_result"
        }
      ],
      "source": [
        "print(auctions[(~auctions['sus']) & (auctions['single']) & (auctions['com_n'] != -1)].groupby(['com_n'])['bid_price'].mean().mean(), auctions[(~auctions['sus']) & (auctions['single']) & (auctions['com_n'] != -1)].groupby(['com_n'])['bid_price'].mean().std(), auctions[(~auctions['sus']) & (auctions['single']) & (auctions['com_n'] != -1)].groupby(['com_n'])['bid_price'].mean().median())\n",
        "print(auctions[(auctions['sus']) & (auctions['single']) & (auctions['sel_num'] > 1) & (auctions['com_n'] != -1)].groupby(['com_n'])['bid_price'].mean().mean(), auctions[(auctions['sus']) & (auctions['single']) & (auctions['sel_num'] > 1) & (auctions['com_n'] != -1)].groupby(['com_n'])['bid_price'].mean().std(), auctions[(auctions['sus']) & (auctions['single']) & (auctions['com_n'] != -1)].groupby(['com_n'])['bid_price'].mean().mean())\n",
        "mannwhitneyu(auctions[(auctions['sus']) & (auctions['single']) & (auctions['sel_num'] > 1) & (auctions['com_n'] != -1)].groupby(['com_n'])['bid_price'].mean(), auctions[(~auctions['sus']) & (auctions['single']) & (auctions['sel_num'] > 1) & (auctions['com_n'] != -1)].groupby(['com_n'])['bid_price'].mean())"
      ]
    },
    {
      "cell_type": "code",
      "execution_count": null,
      "metadata": {
        "colab": {
          "base_uri": "https://localhost:8080/"
        },
        "id": "kmgjKxBMy4Nq",
        "outputId": "029d19c0-f2a6-4211-8145-794143591854"
      },
      "outputs": [
        {
          "name": "stdout",
          "output_type": "stream",
          "text": [
            "2 days 01:30:27.521379907 2 days 00:50:50.643169315 1 days 12:23:29.217362491\n",
            "2 days 07:44:05.409363449 1 days 12:09:32.087915196 2 days 02:53:58.647058823\n"
          ]
        },
        {
          "data": {
            "text/plain": [
              "MannwhitneyuResult(statistic=4998114.5, pvalue=7.845880699092166e-34)"
            ]
          },
          "execution_count": 38,
          "metadata": {},
          "output_type": "execute_result"
        }
      ],
      "source": [
        "print(auctions[(~auctions['sus']) & (auctions['single']) & (auctions['com_n'] != -1)].groupby(['com_n'])['bid_date'].mean().mean(), auctions[(~auctions['sus']) & (auctions['single']) & (auctions['com_n'] != -1)].groupby(['com_n'])['bid_date'].mean().std(), auctions[(~auctions['sus']) & (auctions['single']) & (auctions['com_n'] != -1)].groupby(['com_n'])['bid_date'].mean().median())\n",
        "print(auctions[(auctions['sus']) & (auctions['single']) & (auctions['sel_num'] > 1) & (auctions['com_n'] != -1)].groupby(['com_n'])['bid_date'].mean().mean(), auctions[(auctions['sus']) & (auctions['single']) & (auctions['sel_num'] > 1) & (auctions['com_n'] != -1)].groupby(['com_n'])['bid_date'].mean().std(), auctions[(auctions['sus']) & (auctions['single']) & (auctions['com_n'] != -1)].groupby(['com_n'])['bid_date'].mean().median())\n",
        "mannwhitneyu(auctions[(auctions['sus']) & (auctions['single']) & (auctions['sel_num'] > 1) & (auctions['com_n'] != -1)].groupby(['com_n'])['bid_date'].mean(), auctions[(~auctions['sus']) & (auctions['single']) & (auctions['sel_num'] > 1) & (auctions['com_n'] != -1)].groupby(['com_n'])['bid_date'].mean())"
      ]
    },
    {
      "cell_type": "code",
      "execution_count": null,
      "metadata": {
        "colab": {
          "base_uri": "https://localhost:8080/"
        },
        "id": "5cG0gKAsz2df",
        "outputId": "5b7cc5ee-9706-47ea-9b8c-4244b550e09d"
      },
      "outputs": [
        {
          "output_type": "stream",
          "name": "stdout",
          "text": [
            "0.7873634791483152 0.26634359284875875 0.999999000001\n",
            "0.6912274161607703 0.2788067198308037 0.6999998833333527\n"
          ]
        },
        {
          "output_type": "execute_result",
          "data": {
            "text/plain": [
              "MannwhitneyuResult(statistic=5688845.5, pvalue=4.18588329296211e-06)"
            ]
          },
          "metadata": {},
          "execution_count": 6
        }
      ],
      "source": [
        "from scipy.stats import mannwhitneyu\n",
        "print(auctions[(~auctions['sus']) & (auctions['single']) & (auctions['com_n'] != -1)].groupby(['com_n'])['con.win'].mean().mean(), auctions[(~auctions['sus']) & (auctions['single']) & (auctions['com_n'] != -1)].groupby(['com_n'])['con.win'].mean().std(), auctions[(~auctions['sus']) & (auctions['single']) & (auctions['com_n'] != -1)].groupby(['com_n'])['con.win'].mean().median())\n",
        "print(auctions[(auctions['sus']) & (auctions['single']) & (auctions['sel_num'] > 1) & (auctions['com_n'] != -1)].groupby(['com_n'])['con.win'].mean().mean(), auctions[(auctions['sus']) & (auctions['single']) & (auctions['sel_num'] > 1) & (auctions['com_n'] != -1)].groupby(['com_n'])['con.win'].mean().std(), auctions[(auctions['sus']) & (auctions['single']) & (auctions['com_n'] != -1)].groupby(['com_n'])['con.win'].mean().median())\n",
        "mannwhitneyu(auctions[(auctions['sus']) & (auctions['single']) & (auctions['sel_num'] > 1) & (auctions['com_n'] != -1)].groupby(['com_n'])['con.win'].mean(), auctions[(~auctions['sus']) & (auctions['single']) & (auctions['sel_num'] > 1) & (auctions['com_n'] != -1)].groupby(['com_n'])['con.win'].mean())"
      ]
    },
    {
      "cell_type": "code",
      "source": [
        "auctions['sev_times'] = auctions.groupby('com_n')['auction_id'].transform('nunique') > 1"
      ],
      "metadata": {
        "id": "UDZ_nOi1txMt"
      },
      "execution_count": null,
      "outputs": []
    },
    {
      "cell_type": "code",
      "execution_count": null,
      "metadata": {
        "colab": {
          "base_uri": "https://localhost:8080/"
        },
        "id": "zefEIqAq-zC2",
        "outputId": "e765acef-d938-4e7a-b837-3fec0f209969"
      },
      "outputs": [
        {
          "name": "stdout",
          "output_type": "stream",
          "text": [
            "7.29827377061092 93.21953951011878 3.0\n",
            "8.345282442520144 11.00584104296092 6.0\n"
          ]
        },
        {
          "data": {
            "text/plain": [
              "MannwhitneyuResult(statistic=2408409.0, pvalue=0.0)"
            ]
          },
          "execution_count": 6,
          "metadata": {},
          "output_type": "execute_result"
        }
      ],
      "source": [
        "from scipy.stats import mannwhitneyu\n",
        "print(auctions[(~auctions['sus']) & (auctions['single']) & (auctions['com_n'] != -1)].groupby(['com_n'])['sel_num'].mean().mean(), auctions[(~auctions['sus']) & (auctions['single']) & (auctions['com_n'] != -1)].groupby(['com_n'])['sel_num'].mean().std(), auctions[(~auctions['sus']) & (auctions['single']) & (auctions['com_n'] != -1)].groupby(['com_n'])['sel_num'].mean().median())\n",
        "print(auctions[(auctions['sus']) & (auctions['single']) & (auctions['sel_num'] > 1) & (auctions['com_n'] != -1)].groupby(['com_n'])['sel_num'].mean().mean(), auctions[(auctions['sus']) & (auctions['single']) & (auctions['sel_num'] > 1) & (auctions['com_n'] != -1)].groupby(['com_n'])['sel_num'].mean().std(), auctions[(auctions['sus']) & (auctions['single']) & (auctions['com_n'] != -1)].groupby(['com_n'])['sel_num'].mean().median())\n",
        "mannwhitneyu(auctions[(auctions['sus']) & (auctions['single']) & (auctions['sel_num'] > 1) & (auctions['com_n'] != -1)].groupby(['com_n'])['sel_num'].mean(), auctions[(~auctions['sus']) & (auctions['single']) & (auctions['sel_num'] > 1) & (auctions['com_n'] != -1)].groupby(['com_n'])['sel_num'].mean())"
      ]
    },
    {
      "cell_type": "code",
      "execution_count": null,
      "metadata": {
        "colab": {
          "base_uri": "https://localhost:8080/"
        },
        "id": "pSvIB7afYqUQ",
        "outputId": "763a6d17-96b6-4a30-af6d-752e2e4c466c"
      },
      "outputs": [
        {
          "name": "stdout",
          "output_type": "stream",
          "text": [
            "7.717404846203268 2.500171148036499 7.0\n",
            "7.85346011950237 1.7223894874265315 7.666666666666667\n"
          ]
        },
        {
          "data": {
            "text/plain": [
              "MannwhitneyuResult(statistic=5379263.0, pvalue=1.4517470447924991e-15)"
            ]
          },
          "execution_count": 41,
          "metadata": {},
          "output_type": "execute_result"
        }
      ],
      "source": [
        "from scipy.stats import mannwhitneyu\n",
        "print(auctions[(~auctions['sus']) & (auctions['single']) & (auctions['com_n'] != -1)].groupby(['com_n'])['au.duration'].mean().mean(), auctions[(~auctions['sus']) & (auctions['single']) & (auctions['com_n'] != -1)].groupby(['com_n'])['au.duration'].mean().std(), auctions[(~auctions['sus']) & (auctions['single']) & (auctions['com_n'] != -1)].groupby(['com_n'])['au.duration'].mean().median())\n",
        "print(auctions[(auctions['sus']) & (auctions['single']) & (auctions['sel_num'] > 1) & (auctions['com_n'] != -1)].groupby(['com_n'])['au.duration'].mean().mean(), auctions[(auctions['sus']) & (auctions['single']) & (auctions['sel_num'] > 1) & (auctions['com_n'] != -1)].groupby(['com_n'])['au.duration'].mean().std(), auctions[(auctions['sus']) & (auctions['single']) & (auctions['com_n'] != -1)].groupby(['com_n'])['au.duration'].mean().median())\n",
        "mannwhitneyu(auctions[(auctions['sus']) & (auctions['single']) & (auctions['sel_num'] > 1) & (auctions['com_n'] != -1)].groupby(['com_n'])['au.duration'].mean(), auctions[(~auctions['sus']) & (auctions['single']) & (auctions['sel_num'] > 1) & (auctions['com_n'] != -1)].groupby(['com_n'])['au.duration'].mean())"
      ]
    },
    {
      "cell_type": "code",
      "execution_count": null,
      "metadata": {
        "colab": {
          "base_uri": "https://localhost:8080/",
          "height": 283
        },
        "id": "oWmjhJ9mmLB0",
        "outputId": "aa960448-ddbf-4378-d596-4c00bc15a2ca"
      },
      "outputs": [
        {
          "data": {
            "text/plain": [
              "<matplotlib.legend.Legend at 0x7fd93a829d10>"
            ]
          },
          "execution_count": 124,
          "metadata": {},
          "output_type": "execute_result"
        },
        {
          "data": {
            "image/png": "[encoded data removed]",
            "text/plain": [
              "<Figure size 432x288 with 1 Axes>"
            ]
          },
          "metadata": {},
          "output_type": "display_data"
        }
      ],
      "source": [
        "fig, ax = plt.subplots(1,1)\n",
        "ax.set_xlim([0,20])\n",
        "auctions[(~auctions['sus']) & (auctions['single']) & (auctions['com_n'] != -1)].groupby(['com_n'])['au.duration'].mean().plot.density(color='green', ax=ax, label='Normal Markets')\n",
        "auctions[(auctions['sus']) & (auctions['single']) & (auctions['com_n'] != -1)].groupby(['com_n'])['au.duration'].mean().plot.density(color='red', ax=ax, label='Noncompetitive Markets')\n",
        "ax.legend()"
      ]
    },
    {
      "cell_type": "code",
      "execution_count": null,
      "metadata": {
        "colab": {
          "base_uri": "https://localhost:8080/",
          "height": 307
        },
        "id": "cEjVPZItphPY",
        "outputId": "e54ca176-682b-4754-b057-c6fa28e695b9"
      },
      "outputs": [
        {
          "data": {
            "text/plain": [
              "<matplotlib.legend.Legend at 0x7fd9390e13d0>"
            ]
          },
          "execution_count": 125,
          "metadata": {},
          "output_type": "execute_result"
        },
        {
          "data": {
            "image/png": "[encoded data removed]",
            "text/plain": [
              "<Figure size 432x288 with 1 Axes>"
            ]
          },
          "metadata": {},
          "output_type": "display_data"
        }
      ],
      "source": [
        "fig, ax = plt.subplots(1,1)\n",
        "ax.set_xlim([0,1e6])\n",
        "auctions[(~auctions['sus']) & (auctions['single']) & (auctions['com_n'] != -1)].groupby(['com_n'])['bid_date'].mean().dt.total_seconds().astype(int).plot.density(color='green', ax=ax, label='Normal Markets')\n",
        "auctions[(auctions['sus']) & (auctions['single']) & (auctions['com_n'] != -1)].groupby(['com_n'])['bid_date'].mean().dt.total_seconds().astype(int).plot.density(color='red', ax=ax, label='Noncompetitive Markets')\n",
        "plt.legend()"
      ]
    },
    {
      "cell_type": "code",
      "execution_count": null,
      "metadata": {
        "id": "JuTWsxOPQg31"
      },
      "outputs": [],
      "source": [
        "auctions['bid_date'] = auctions['end_date'] - auctions['date']"
      ]
    },
    {
      "cell_type": "code",
      "execution_count": 6,
      "metadata": {
        "id": "mA20aOEQqFEU"
      },
      "outputs": [],
      "source": [
        "auctions['bid_date'] = pd.to_timedelta(auctions['bid_date'])"
      ]
    },
    {
      "cell_type": "code",
      "execution_count": null,
      "metadata": {
        "colab": {
          "base_uri": "https://localhost:8080/",
          "height": 283
        },
        "id": "sPkGQ3USmaos",
        "outputId": "38bc8903-a9ea-47d7-fdea-636744d49330"
      },
      "outputs": [
        {
          "data": {
            "text/plain": [
              "<matplotlib.legend.Legend at 0x7fd97965dfd0>"
            ]
          },
          "execution_count": 44,
          "metadata": {},
          "output_type": "execute_result"
        },
        {
          "data": {
            "image/png": "[encoded data removed]",
            "text/plain": [
              "<Figure size 432x288 with 1 Axes>"
            ]
          },
          "metadata": {},
          "output_type": "display_data"
        }
      ],
      "source": [
        "fig, ax = plt.subplots(1,1)\n",
        "ax.set_xlim([-1,50])\n",
        "auctions[(~auctions['sus']) & (auctions['single'])  & (auctions['com_n'] != -1)].groupby(['com_n'])['sel_num'].median().plot.density(color='green', ax=ax, label='Normal Markets')\n",
        "auctions[(auctions['sus']) & (auctions['single']) & (auctions['com_n'] != -1)].groupby(['com_n'])['sel_num'].median().plot.density(color='red', ax=ax, label='Uncompetitive Markets')\n",
        "ax.legend()"
      ]
    },
    {
      "cell_type": "code",
      "execution_count": null,
      "metadata": {
        "colab": {
          "base_uri": "https://localhost:8080/"
        },
        "id": "aSq7BdbSuPmS",
        "outputId": "69aff780-1a3f-4a31-f7b2-b7359a4d5150"
      },
      "outputs": [
        {
          "data": {
            "text/plain": [
              "code_1  code_2\n",
              "32.0    50.0      4795\n",
              "86.0    90.0      3887\n",
              "21.0    20.0      2599\n",
              "33.0    12.0      2437\n",
              "20.0    59.0      2436\n",
              "                  ... \n",
              "71.0    10.0         1\n",
              "18.0    23.0         1\n",
              "38.0    32.0         1\n",
              "36.0    61.0         1\n",
              "28.0    71.0         1\n",
              "Length: 758, dtype: int64"
            ]
          },
          "execution_count": 60,
          "metadata": {},
          "output_type": "execute_result"
        }
      ],
      "source": [
        "auctions[(~auctions['sus']) & (auctions['single'])][['code_1', 'code_2']].value_counts()"
      ]
    },
    {
      "cell_type": "code",
      "execution_count": 118,
      "metadata": {
        "id": "rFmkhDrcvmeH"
      },
      "outputs": [],
      "source": [
        "auctions['code'] = auctions['code_1'].map(str) + auctions['code_2'].map(str)"
      ]
    },
    {
      "cell_type": "code",
      "execution_count": null,
      "metadata": {
        "id": "xDEqia0ewv50"
      },
      "outputs": [],
      "source": [
        "gr = auctions[['participant_inn', 'auction_id']]\n",
        "gr_ns = gr[gr.groupby('auction_id')['auction_id'].transform('size') > 1]\n",
        "gr_ns\n"
      ]
    },
    {
      "cell_type": "code",
      "execution_count": 9,
      "metadata": {
        "colab": {
          "base_uri": "https://localhost:8080/"
        },
        "id": "AQsMZ1Y9xK6Z",
        "outputId": "136a9fb7-5b45-469e-cf18-cb2e4f8b079d"
      },
      "outputs": [
        {
          "output_type": "execute_result",
          "data": {
            "text/plain": [
              "406372"
            ]
          },
          "metadata": {},
          "execution_count": 9
        }
      ],
      "source": [
        "G_nw = nx.Graph()\n",
        "G_nw.add_nodes_from(gr_ns['participant_inn'], bipartite=0)\n",
        "dct  = gr_ns.groupby('auction_id')['participant_inn'].apply(list).to_dict()\n",
        "for a in dct:\n",
        "  for i in range(len(dct[a])):\n",
        "    for j in range(i+1, len(dct[a])):\n",
        "      if G_nw.has_edge(dct[a][i], dct[a][j]):\n",
        "                # we added this one before, just increase the weight by one\n",
        "        G_nw[dct[a][i]][dct[a][j]]['weight'] += 1\n",
        "      else:\n",
        "                # new edge. add with weight=1\n",
        "        G_nw.add_edge(dct[a][i], dct[a][j], weight=1)\n",
        "len(G_nw) "
      ]
    },
    {
      "cell_type": "markdown",
      "source": [
        "Create features for cartel risk measure"
      ],
      "metadata": {
        "id": "P_DvtjBhovo6"
      }
    },
    {
      "cell_type": "code",
      "execution_count": 161,
      "metadata": {
        "id": "T-Nu2M3V7gyV"
      },
      "outputs": [],
      "source": [
        "auctions['one_com'] = auctions.groupby('auction_id')['com_n'].transform('nunique') == 1\n",
        "auctions['cv_price'] = auctions[auctions['one_com'] & auctions['won']].groupby('com_n')['bid_price'].transform('std')\n"
      ]
    },
    {
      "cell_type": "code",
      "execution_count": 162,
      "metadata": {
        "id": "NQoOpQVQANKF"
      },
      "outputs": [],
      "source": [
        "auctions['cv_price'] = auctions['cv_price'] / auctions[auctions['one_com'] & auctions['won']].groupby('com_n')['bid_price'].transform('mean')\n",
        "auctions['cv_price'] = auctions['cv_price'].fillna(0)"
      ]
    },
    {
      "cell_type": "code",
      "execution_count": 13,
      "metadata": {
        "id": "Oi59TCjuAqiX"
      },
      "outputs": [],
      "source": [
        "auctions['cv_bidding'] = auctions[auctions['one_com']].groupby(['com_n', 'auction_id'])['price'].transform('std')\n",
        "auctions['cv_bidding'] = auctions['cv_bidding'] / (auctions[auctions['one_com']].groupby(['com_n', 'auction_id'])['price'].transform('mean') + 1e-6)\n",
        "auctions['cv_bidding'] = auctions.groupby('com_n')['cv_bidding'].transform('mean')\n",
        "auctions['cv_bidding'] = auctions['cv_bidding'].fillna(0)"
      ]
    },
    {
      "cell_type": "code",
      "source": [
        "auctions['bid_date']= (auctions['bid_date']).dt.total_seconds()\n",
        "\n",
        "auctions['cv_date'] = auctions[auctions['one_com']].groupby(['com_n', 'auction_id'])['bid_date'].transform('std')\n",
        "auctions['cv_date'] = auctions['cv_date'] / (auctions[auctions['one_com']].groupby(['com_n', 'auction_id'])['bid_date'].transform('mean') + 1e-6)\n",
        "auctions['cv_date'] = auctions.groupby('com_n')['cv_date'].transform('mean')\n",
        "auctions['cv_date'] = auctions['cv_date'].fillna(0)"
      ],
      "metadata": {
        "id": "ZOaTh98NBZF-"
      },
      "execution_count": 14,
      "outputs": []
    },
    {
      "cell_type": "code",
      "execution_count": null,
      "metadata": {
        "id": "P46gmWw-Q1bs"
      },
      "outputs": [],
      "source": [
        "auctions['code'] = auctions['code_1'].map(str) + auctions['code_2'].map(str)"
      ]
    },
    {
      "cell_type": "code",
      "source": [
        "auctions['year'].max()"
      ],
      "metadata": {
        "colab": {
          "base_uri": "https://localhost:8080/"
        },
        "id": "tLI8qFLRbaup",
        "outputId": "89b154d4-c206-4ea8-8031-caa4bd7149ba"
      },
      "execution_count": null,
      "outputs": [
        {
          "output_type": "execute_result",
          "data": {
            "text/plain": [
              "1990"
            ]
          },
          "metadata": {},
          "execution_count": 12
        }
      ]
    },
    {
      "cell_type": "markdown",
      "source": [
        "Stability Metric"
      ],
      "metadata": {
        "id": "AlXLxJbjpU1I"
      }
    },
    {
      "cell_type": "code",
      "execution_count": 16,
      "metadata": {
        "id": "Cs8cKwfP9GHN"
      },
      "outputs": [],
      "source": [
        "auctions['year'] = auctions['start_date'].dt.year\n",
        "auctions['month'] = auctions['start_date'].dt.month\n",
        "\n",
        "def stability(com_n):\n",
        "  comsx = auctions[(auctions['com_n'] == com_n) & auctions['one_com']]\n",
        "  start_y = comsx['year'].min()\n",
        "  end_y = comsx['year'].max()\n",
        "  firms_l = []\n",
        "  for k in range(start_y, end_y):\n",
        "    for j in range(1, 13):\n",
        "      firms = comsx[(comsx['year'] == k) & (comsx['month'] == j)]['participant_inn'].unique().tolist()\n",
        "      if len(firms) > 0:\n",
        "        firms_l.append(set(firms))\n",
        "\n",
        "  ns_w = []\n",
        "  if len(firms_l) <= 1:\n",
        "    return [1]\n",
        "  \n",
        "  #print(len(firms_l))\n",
        "  for i in range(len(firms_l)-1):\n",
        "    ws1 = []\n",
        "    com1 = G_nw.subgraph(firms_l[i] | firms_l[i+1]).copy()\n",
        "    for e in com1.edges():\n",
        "      if e[0] in firms_l[i] and e[1] in firms_l[i]:\n",
        "        ws1.append(com1.get_edge_data(*e)['weight'])\n",
        "      else:\n",
        "        ws1.append(0)\n",
        "    ws1 = np.array(ws1, dtype=np.float64)\n",
        "  #  print(ws1)\n",
        "    ws2 = []\n",
        "    # com2 = G_n.subgraph(communs[k+1][found[c]]).copy()\n",
        "    for e in com1.edges():\n",
        "      if e[0] in firms_l[i+1] and e[1] in firms_l[i+1]:\n",
        "        ws2.append(com1.get_edge_data(*e)['weight'])\n",
        "      else:\n",
        "        ws2.append(0)\n",
        "    ws2 = np.array(ws2, dtype=np.float64)\n",
        "    ws1_dm = ws1 - np.mean(ws1)\n",
        "    ws2_dm = ws2 - np.mean(ws2)\n",
        "    # print(ws1_dm.sum(), ws2_dm.sum())\n",
        "    wes = (ws1_dm * ws2_dm).sum() / ((((ws1_dm ** 2).sum() * (ws2_dm ** 2).sum()) ** 0.5) + 1e-6)\n",
        "    ns_w.append(wes)\n",
        "  \n",
        "  # nes_w_y.append(ns_w)\n",
        "  return ns_w"
      ]
    },
    {
      "cell_type": "code",
      "execution_count": 17,
      "metadata": {
        "colab": {
          "base_uri": "https://localhost:8080/"
        },
        "id": "0IQyE_5r9Hwi",
        "outputId": "81c3799b-9ba2-4642-a0f9-adb065701255"
      },
      "outputs": [
        {
          "output_type": "stream",
          "name": "stderr",
          "text": [
            "100%|██████████| 19376/19376 [10:21<00:00, 31.19it/s]\n"
          ]
        }
      ],
      "source": [
        "from tqdm import tqdm\n",
        "import numpy as np \n",
        "\n",
        "stabls1 = []\n",
        "for i in tqdm(range(19376)):\n",
        "  stabls1.append(stability(i))"
      ]
    },
    {
      "cell_type": "code",
      "execution_count": null,
      "metadata": {
        "id": "eyO-1rzvHl2R"
      },
      "outputs": [],
      "source": [
        "from tqdm import tqdm\n",
        "import numpy as np \n",
        "\n",
        "stabls2 = []\n",
        "for i in tqdm(range(19376)):\n",
        "  stabls2.append(stability(i))"
      ]
    },
    {
      "cell_type": "code",
      "execution_count": 19,
      "metadata": {
        "id": "BJ5I4iXnJaNT"
      },
      "outputs": [],
      "source": [
        "stabls = np.array(stabls2)\n",
        "mylen = np.vectorize(len)\n",
        "mysum = np.vectorize(sum)\n",
        "stable = [sum(stabls[i])/len(stabls[i]) for i in range(len(stabls))]\n",
        "mean_st = (mysum(stabls)/mylen(stabls)).mean()"
      ]
    },
    {
      "cell_type": "code",
      "execution_count": 22,
      "metadata": {
        "id": "P0ClCx2Vewu0"
      },
      "outputs": [],
      "source": [
        "mean_st = stable[151:].mean()"
      ]
    },
    {
      "cell_type": "code",
      "source": [
        "mean_st"
      ],
      "metadata": {
        "colab": {
          "base_uri": "https://localhost:8080/"
        },
        "id": "Z4sXOu59nQcR",
        "outputId": "956730ba-8ebe-447d-f8d0-6107423b2c33"
      },
      "execution_count": null,
      "outputs": [
        {
          "output_type": "execute_result",
          "data": {
            "text/plain": [
              "0.7272558357969221"
            ]
          },
          "metadata": {},
          "execution_count": 138
        }
      ]
    },
    {
      "cell_type": "code",
      "source": [
        "firms = auctions[auctions['is_cartel_firm']==1]['firm'].unique().tolist()"
      ],
      "metadata": {
        "id": "5sfE1Ly7lctC"
      },
      "execution_count": null,
      "outputs": []
    },
    {
      "cell_type": "code",
      "execution_count": 23,
      "metadata": {
        "colab": {
          "base_uri": "https://localhost:8080/",
          "height": 852
        },
        "id": "ZB31gsdi9UMF",
        "outputId": "56559367-cd64-4dd7-e7b9-b6964908a263"
      },
      "outputs": [
        {
          "output_type": "execute_result",
          "data": {
            "text/plain": [
              "         Unnamed: 0  purchase_number                         region  \\\n",
              "32          1658429     3.023000e+17                 Burjatija_Resp   \n",
              "33          1658430     3.023000e+17                 Burjatija_Resp   \n",
              "46          2495439     1.873000e+17  Khanty-Mansijskij_AO-Jugra_AO   \n",
              "48          2495438     1.873000e+17  Khanty-Mansijskij_AO-Jugra_AO   \n",
              "49          2495440     1.873000e+17  Khanty-Mansijskij_AO-Jugra_AO   \n",
              "...             ...              ...                            ...   \n",
              "3375510     3700457     3.463000e+17                  Lipeckaja_obl   \n",
              "3375578     3160696     3.303000e+17               Vologodskaja_obl   \n",
              "3375725     3202809     3.731001e+17                         Moskva   \n",
              "3375726     3202808     3.731001e+17                         Moskva   \n",
              "3375727     3298605     3.422000e+17                 Samarskaja_obl   \n",
              "\n",
              "         procurer_reg_num  max_price currency          start_date  \\\n",
              "32           3.023000e+09  248650.99      NaN 2014-04-21 08:00:00   \n",
              "33           3.023000e+09  248650.99      NaN 2014-04-21 08:00:00   \n",
              "46           1.873000e+09  445200.00      NaN 2014-05-07 09:00:00   \n",
              "48           1.873000e+09  445200.00      NaN 2014-05-07 09:00:00   \n",
              "49           1.873000e+09  445200.00      NaN 2014-05-07 09:00:00   \n",
              "...                   ...        ...      ...                 ...   \n",
              "3375510      3.463000e+09  135020.64      RUB 2021-12-30 17:52:45   \n",
              "3375578      3.303000e+09  674780.80      RUB 2021-12-30 18:49:07   \n",
              "3375725      3.731001e+09  500000.00      RUB 2021-12-31 14:08:08   \n",
              "3375726      3.731001e+09  500000.00      RUB 2021-12-31 14:08:08   \n",
              "3375727      3.422000e+09  315720.97      RUB 2021-12-31 14:29:53   \n",
              "\n",
              "                   end_date prolong_date  n_commission_members  ...  com_n  \\\n",
              "32      2014-04-24 17:00:00          NaN                     5  ...   4826   \n",
              "33      2014-04-24 17:00:00          NaN                     5  ...   4826   \n",
              "46      2014-05-23 09:00:00          NaN                     3  ...     84   \n",
              "48      2014-05-23 09:00:00          NaN                     3  ...     84   \n",
              "49      2014-05-23 09:00:00          NaN                     3  ...     84   \n",
              "...                     ...          ...                   ...  ...    ...   \n",
              "3375510 2022-01-14 09:00:00          NaN                     3  ...     24   \n",
              "3375578 2022-01-14 00:00:00          NaN                     3  ...     24   \n",
              "3375725 2022-01-14 11:00:00          NaN                     3  ...     84   \n",
              "3375726 2022-01-14 11:00:00          NaN                     3  ...     84   \n",
              "3375727 2022-01-19 11:00:00          NaN                     3  ...     24   \n",
              "\n",
              "           sus    com  year  one_com  cv_price  cv_bidding   cv_date  month  \\\n",
              "32       False  False  2014     True  0.000000    0.010997  0.014866      4   \n",
              "33       False  False  2014     True  0.000000    0.010997  0.014866      4   \n",
              "46       False  False  2014     True  0.000000    0.078270  0.471408      5   \n",
              "48       False  False  2014     True  0.000000    0.078270  0.471408      5   \n",
              "49       False  False  2014     True  1.085352    0.078270  0.471408      5   \n",
              "...        ...    ...   ...      ...       ...         ...       ...    ...   \n",
              "3375510  False  False  2021     True  1.210562    0.259549  0.793615     12   \n",
              "3375578  False  False  2021     True  1.210562    0.259549  0.793615     12   \n",
              "3375725  False  False  2021     True  0.000000    0.078270  0.471408     12   \n",
              "3375726  False  False  2021     True  1.085352    0.078270  0.471408     12   \n",
              "3375727  False  False  2021     True  1.210562    0.259549  0.793615     12   \n",
              "\n",
              "         stable  \n",
              "32         True  \n",
              "33         True  \n",
              "46         True  \n",
              "48         True  \n",
              "49         True  \n",
              "...         ...  \n",
              "3375510    True  \n",
              "3375578    True  \n",
              "3375725    True  \n",
              "3375726    True  \n",
              "3375727    True  \n",
              "\n",
              "[207111 rows x 53 columns]"
            ],
            "text/html": [
              "\n",
              "  <div id=\"df-14bbccc3-5fe4-418c-b2e3-48091e2c3577\">\n",
              "    <div class=\"colab-df-container\">\n",
              "      <div>\n",
              "<style scoped>\n",
              "    .dataframe tbody tr th:only-of-type {\n",
              "        vertical-align: middle;\n",
              "    }\n",
              "\n",
              "    .dataframe tbody tr th {\n",
              "        vertical-align: top;\n",
              "    }\n",
              "\n",
              "    .dataframe thead th {\n",
              "        text-align: right;\n",
              "    }\n",
              "</style>\n",
              "<table border=\"1\" class=\"dataframe\">\n",
              "  <thead>\n",
              "    <tr style=\"text-align: right;\">\n",
              "      <th></th>\n",
              "      <th>Unnamed: 0</th>\n",
              "      <th>purchase_number</th>\n",
              "      <th>region</th>\n",
              "      <th>procurer_reg_num</th>\n",
              "      <th>max_price</th>\n",
              "      <th>currency</th>\n",
              "      <th>start_date</th>\n",
              "      <th>end_date</th>\n",
              "      <th>prolong_date</th>\n",
              "      <th>n_commission_members</th>\n",
              "      <th>...</th>\n",
              "      <th>com_n</th>\n",
              "      <th>sus</th>\n",
              "      <th>com</th>\n",
              "      <th>year</th>\n",
              "      <th>one_com</th>\n",
              "      <th>cv_price</th>\n",
              "      <th>cv_bidding</th>\n",
              "      <th>cv_date</th>\n",
              "      <th>month</th>\n",
              "      <th>stable</th>\n",
              "    </tr>\n",
              "  </thead>\n",
              "  <tbody>\n",
              "    <tr>\n",
              "      <th>32</th>\n",
              "      <td>1658429</td>\n",
              "      <td>3.023000e+17</td>\n",
              "      <td>Burjatija_Resp</td>\n",
              "      <td>3.023000e+09</td>\n",
              "      <td>248650.99</td>\n",
              "      <td>NaN</td>\n",
              "      <td>2014-04-21 08:00:00</td>\n",
              "      <td>2014-04-24 17:00:00</td>\n",
              "      <td>NaN</td>\n",
              "      <td>5</td>\n",
              "      <td>...</td>\n",
              "      <td>4826</td>\n",
              "      <td>False</td>\n",
              "      <td>False</td>\n",
              "      <td>2014</td>\n",
              "      <td>True</td>\n",
              "      <td>0.000000</td>\n",
              "      <td>0.010997</td>\n",
              "      <td>0.014866</td>\n",
              "      <td>4</td>\n",
              "      <td>True</td>\n",
              "    </tr>\n",
              "    <tr>\n",
              "      <th>33</th>\n",
              "      <td>1658430</td>\n",
              "      <td>3.023000e+17</td>\n",
              "      <td>Burjatija_Resp</td>\n",
              "      <td>3.023000e+09</td>\n",
              "      <td>248650.99</td>\n",
              "      <td>NaN</td>\n",
              "      <td>2014-04-21 08:00:00</td>\n",
              "      <td>2014-04-24 17:00:00</td>\n",
              "      <td>NaN</td>\n",
              "      <td>5</td>\n",
              "      <td>...</td>\n",
              "      <td>4826</td>\n",
              "      <td>False</td>\n",
              "      <td>False</td>\n",
              "      <td>2014</td>\n",
              "      <td>True</td>\n",
              "      <td>0.000000</td>\n",
              "      <td>0.010997</td>\n",
              "      <td>0.014866</td>\n",
              "      <td>4</td>\n",
              "      <td>True</td>\n",
              "    </tr>\n",
              "    <tr>\n",
              "      <th>46</th>\n",
              "      <td>2495439</td>\n",
              "      <td>1.873000e+17</td>\n",
              "      <td>Khanty-Mansijskij_AO-Jugra_AO</td>\n",
              "      <td>1.873000e+09</td>\n",
              "      <td>445200.00</td>\n",
              "      <td>NaN</td>\n",
              "      <td>2014-05-07 09:00:00</td>\n",
              "      <td>2014-05-23 09:00:00</td>\n",
              "      <td>NaN</td>\n",
              "      <td>3</td>\n",
              "      <td>...</td>\n",
              "      <td>84</td>\n",
              "      <td>False</td>\n",
              "      <td>False</td>\n",
              "      <td>2014</td>\n",
              "      <td>True</td>\n",
              "      <td>0.000000</td>\n",
              "      <td>0.078270</td>\n",
              "      <td>0.471408</td>\n",
              "      <td>5</td>\n",
              "      <td>True</td>\n",
              "    </tr>\n",
              "    <tr>\n",
              "      <th>48</th>\n",
              "      <td>2495438</td>\n",
              "      <td>1.873000e+17</td>\n",
              "      <td>Khanty-Mansijskij_AO-Jugra_AO</td>\n",
              "      <td>1.873000e+09</td>\n",
              "      <td>445200.00</td>\n",
              "      <td>NaN</td>\n",
              "      <td>2014-05-07 09:00:00</td>\n",
              "      <td>2014-05-23 09:00:00</td>\n",
              "      <td>NaN</td>\n",
              "      <td>3</td>\n",
              "      <td>...</td>\n",
              "      <td>84</td>\n",
              "      <td>False</td>\n",
              "      <td>False</td>\n",
              "      <td>2014</td>\n",
              "      <td>True</td>\n",
              "      <td>0.000000</td>\n",
              "      <td>0.078270</td>\n",
              "      <td>0.471408</td>\n",
              "      <td>5</td>\n",
              "      <td>True</td>\n",
              "    </tr>\n",
              "    <tr>\n",
              "      <th>49</th>\n",
              "      <td>2495440</td>\n",
              "      <td>1.873000e+17</td>\n",
              "      <td>Khanty-Mansijskij_AO-Jugra_AO</td>\n",
              "      <td>1.873000e+09</td>\n",
              "      <td>445200.00</td>\n",
              "      <td>NaN</td>\n",
              "      <td>2014-05-07 09:00:00</td>\n",
              "      <td>2014-05-23 09:00:00</td>\n",
              "      <td>NaN</td>\n",
              "      <td>3</td>\n",
              "      <td>...</td>\n",
              "      <td>84</td>\n",
              "      <td>False</td>\n",
              "      <td>False</td>\n",
              "      <td>2014</td>\n",
              "      <td>True</td>\n",
              "      <td>1.085352</td>\n",
              "      <td>0.078270</td>\n",
              "      <td>0.471408</td>\n",
              "      <td>5</td>\n",
              "      <td>True</td>\n",
              "    </tr>\n",
              "    <tr>\n",
              "      <th>...</th>\n",
              "      <td>...</td>\n",
              "      <td>...</td>\n",
              "      <td>...</td>\n",
              "      <td>...</td>\n",
              "      <td>...</td>\n",
              "      <td>...</td>\n",
              "      <td>...</td>\n",
              "      <td>...</td>\n",
              "      <td>...</td>\n",
              "      <td>...</td>\n",
              "      <td>...</td>\n",
              "      <td>...</td>\n",
              "      <td>...</td>\n",
              "      <td>...</td>\n",
              "      <td>...</td>\n",
              "      <td>...</td>\n",
              "      <td>...</td>\n",
              "      <td>...</td>\n",
              "      <td>...</td>\n",
              "      <td>...</td>\n",
              "      <td>...</td>\n",
              "    </tr>\n",
              "    <tr>\n",
              "      <th>3375510</th>\n",
              "      <td>3700457</td>\n",
              "      <td>3.463000e+17</td>\n",
              "      <td>Lipeckaja_obl</td>\n",
              "      <td>3.463000e+09</td>\n",
              "      <td>135020.64</td>\n",
              "      <td>RUB</td>\n",
              "      <td>2021-12-30 17:52:45</td>\n",
              "      <td>2022-01-14 09:00:00</td>\n",
              "      <td>NaN</td>\n",
              "      <td>3</td>\n",
              "      <td>...</td>\n",
              "      <td>24</td>\n",
              "      <td>False</td>\n",
              "      <td>False</td>\n",
              "      <td>2021</td>\n",
              "      <td>True</td>\n",
              "      <td>1.210562</td>\n",
              "      <td>0.259549</td>\n",
              "      <td>0.793615</td>\n",
              "      <td>12</td>\n",
              "      <td>True</td>\n",
              "    </tr>\n",
              "    <tr>\n",
              "      <th>3375578</th>\n",
              "      <td>3160696</td>\n",
              "      <td>3.303000e+17</td>\n",
              "      <td>Vologodskaja_obl</td>\n",
              "      <td>3.303000e+09</td>\n",
              "      <td>674780.80</td>\n",
              "      <td>RUB</td>\n",
              "      <td>2021-12-30 18:49:07</td>\n",
              "      <td>2022-01-14 00:00:00</td>\n",
              "      <td>NaN</td>\n",
              "      <td>3</td>\n",
              "      <td>...</td>\n",
              "      <td>24</td>\n",
              "      <td>False</td>\n",
              "      <td>False</td>\n",
              "      <td>2021</td>\n",
              "      <td>True</td>\n",
              "      <td>1.210562</td>\n",
              "      <td>0.259549</td>\n",
              "      <td>0.793615</td>\n",
              "      <td>12</td>\n",
              "      <td>True</td>\n",
              "    </tr>\n",
              "    <tr>\n",
              "      <th>3375725</th>\n",
              "      <td>3202809</td>\n",
              "      <td>3.731001e+17</td>\n",
              "      <td>Moskva</td>\n",
              "      <td>3.731001e+09</td>\n",
              "      <td>500000.00</td>\n",
              "      <td>RUB</td>\n",
              "      <td>2021-12-31 14:08:08</td>\n",
              "      <td>2022-01-14 11:00:00</td>\n",
              "      <td>NaN</td>\n",
              "      <td>3</td>\n",
              "      <td>...</td>\n",
              "      <td>84</td>\n",
              "      <td>False</td>\n",
              "      <td>False</td>\n",
              "      <td>2021</td>\n",
              "      <td>True</td>\n",
              "      <td>0.000000</td>\n",
              "      <td>0.078270</td>\n",
              "      <td>0.471408</td>\n",
              "      <td>12</td>\n",
              "      <td>True</td>\n",
              "    </tr>\n",
              "    <tr>\n",
              "      <th>3375726</th>\n",
              "      <td>3202808</td>\n",
              "      <td>3.731001e+17</td>\n",
              "      <td>Moskva</td>\n",
              "      <td>3.731001e+09</td>\n",
              "      <td>500000.00</td>\n",
              "      <td>RUB</td>\n",
              "      <td>2021-12-31 14:08:08</td>\n",
              "      <td>2022-01-14 11:00:00</td>\n",
              "      <td>NaN</td>\n",
              "      <td>3</td>\n",
              "      <td>...</td>\n",
              "      <td>84</td>\n",
              "      <td>False</td>\n",
              "      <td>False</td>\n",
              "      <td>2021</td>\n",
              "      <td>True</td>\n",
              "      <td>1.085352</td>\n",
              "      <td>0.078270</td>\n",
              "      <td>0.471408</td>\n",
              "      <td>12</td>\n",
              "      <td>True</td>\n",
              "    </tr>\n",
              "    <tr>\n",
              "      <th>3375727</th>\n",
              "      <td>3298605</td>\n",
              "      <td>3.422000e+17</td>\n",
              "      <td>Samarskaja_obl</td>\n",
              "      <td>3.422000e+09</td>\n",
              "      <td>315720.97</td>\n",
              "      <td>RUB</td>\n",
              "      <td>2021-12-31 14:29:53</td>\n",
              "      <td>2022-01-19 11:00:00</td>\n",
              "      <td>NaN</td>\n",
              "      <td>3</td>\n",
              "      <td>...</td>\n",
              "      <td>24</td>\n",
              "      <td>False</td>\n",
              "      <td>False</td>\n",
              "      <td>2021</td>\n",
              "      <td>True</td>\n",
              "      <td>1.210562</td>\n",
              "      <td>0.259549</td>\n",
              "      <td>0.793615</td>\n",
              "      <td>12</td>\n",
              "      <td>True</td>\n",
              "    </tr>\n",
              "  </tbody>\n",
              "</table>\n",
              "<p>207111 rows × 53 columns</p>\n",
              "</div>\n",
              "      <button class=\"colab-df-convert\" onclick=\"convertToInteractive('df-14bbccc3-5fe4-418c-b2e3-48091e2c3577')\"\n",
              "              title=\"Convert this dataframe to an interactive table.\"\n",
              "              style=\"display:none;\">\n",
              "        \n",
              "  <svg xmlns=\"http://www.w3.org/2000/svg\" height=\"24px\"viewBox=\"0 0 24 24\"\n",
              "       width=\"24px\">\n",
              "    <path d=\"M0 0h24v24H0V0z\" fill=\"none\"/>\n",
              "    <path d=\"M18.56 5.44l.94 2.06.94-2.06 2.06-.94-2.06-.94-.94-2.06-.94 2.06-2.06.94zm-11 1L8.5 8.5l.94-2.06 2.06-.94-2.06-.94L8.5 2.5l-.94 2.06-2.06.94zm10 10l.94 2.06.94-2.06 2.06-.94-2.06-.94-.94-2.06-.94 2.06-2.06.94z\"/><path d=\"M17.41 7.96l-1.37-1.37c-.4-.4-.92-.59-1.43-.59-.52 0-1.04.2-1.43.59L10.3 9.45l-7.72 7.72c-.78.78-.78 2.05 0 2.83L4 21.41c.39.39.9.59 1.41.59.51 0 1.02-.2 1.41-.59l7.78-7.78 2.81-2.81c.8-.78.8-2.07 0-2.86zM5.41 20L4 18.59l7.72-7.72 1.47 1.35L5.41 20z\"/>\n",
              "  </svg>\n",
              "      </button>\n",
              "      \n",
              "  <style>\n",
              "    .colab-df-container {\n",
              "      display:flex;\n",
              "      flex-wrap:wrap;\n",
              "      gap: 12px;\n",
              "    }\n",
              "\n",
              "    .colab-df-convert {\n",
              "      background-color: #E8F0FE;\n",
              "      border: none;\n",
              "      border-radius: 50%;\n",
              "      cursor: pointer;\n",
              "      display: none;\n",
              "      fill: #1967D2;\n",
              "      height: 32px;\n",
              "      padding: 0 0 0 0;\n",
              "      width: 32px;\n",
              "    }\n",
              "\n",
              "    .colab-df-convert:hover {\n",
              "      background-color: #E2EBFA;\n",
              "      box-shadow: 0px 1px 2px rgba(60, 64, 67, 0.3), 0px 1px 3px 1px rgba(60, 64, 67, 0.15);\n",
              "      fill: #174EA6;\n",
              "    }\n",
              "\n",
              "    [theme=dark] .colab-df-convert {\n",
              "      background-color: #3B4455;\n",
              "      fill: #D2E3FC;\n",
              "    }\n",
              "\n",
              "    [theme=dark] .colab-df-convert:hover {\n",
              "      background-color: #434B5C;\n",
              "      box-shadow: 0px 1px 3px 1px rgba(0, 0, 0, 0.15);\n",
              "      filter: drop-shadow(0px 1px 2px rgba(0, 0, 0, 0.3));\n",
              "      fill: #FFFFFF;\n",
              "    }\n",
              "  </style>\n",
              "\n",
              "      <script>\n",
              "        const buttonEl =\n",
              "          document.querySelector('#df-14bbccc3-5fe4-418c-b2e3-48091e2c3577 button.colab-df-convert');\n",
              "        buttonEl.style.display =\n",
              "          google.colab.kernel.accessAllowed ? 'block' : 'none';\n",
              "\n",
              "        async function convertToInteractive(key) {\n",
              "          const element = document.querySelector('#df-14bbccc3-5fe4-418c-b2e3-48091e2c3577');\n",
              "          const dataTable =\n",
              "            await google.colab.kernel.invokeFunction('convertToInteractive',\n",
              "                                                     [key], {});\n",
              "          if (!dataTable) return;\n",
              "\n",
              "          const docLinkHtml = 'Like what you see? Visit the ' +\n",
              "            '<a target=\"_blank\" href=https://colab.research.google.com/notebooks/data_table.ipynb>data table notebook</a>'\n",
              "            + ' to learn more about interactive tables.';\n",
              "          element.innerHTML = '';\n",
              "          dataTable['output_type'] = 'display_data';\n",
              "          await google.colab.output.renderOutput(dataTable, element);\n",
              "          const docLink = document.createElement('div');\n",
              "          docLink.innerHTML = docLinkHtml;\n",
              "          element.appendChild(docLink);\n",
              "        }\n",
              "      </script>\n",
              "    </div>\n",
              "  </div>\n",
              "  "
            ]
          },
          "metadata": {},
          "execution_count": 23
        }
      ],
      "source": [
        "auctions['stable'] = (stable[auctions['com_n']] > mean_st) & (stabls[auctions['com_n']][0] != 1)\n",
        "auctions[auctions['stable']]"
      ]
    },
    {
      "cell_type": "code",
      "execution_count": null,
      "metadata": {
        "colab": {
          "base_uri": "https://localhost:8080/",
          "height": 282
        },
        "id": "udyQKxpbAYQM",
        "outputId": "b756678a-e99a-4e43-fcbb-79b1816db2c7"
      },
      "outputs": [
        {
          "output_type": "execute_result",
          "data": {
            "text/plain": [
              "<matplotlib.legend.Legend at 0x7f90d8e5aa10>"
            ]
          },
          "metadata": {},
          "execution_count": 145
        },
        {
          "output_type": "display_data",
          "data": {
            "text/plain": [
              "<Figure size 432x288 with 1 Axes>"
            ],
            "image/png": "[encoded data removed]"
          },
          "metadata": {
            "needs_background": "light"
          }
        }
      ],
      "source": [
        "import matplotlib.pyplot as plt\n",
        "\n",
        "\n",
        "fig, ax = plt.subplots(1,1)\n",
        "ax.set_xlim([0,1])\n",
        "auctions[(~auctions['stable'])  & (auctions['com_n'] >= 151) & auctions['sev_times']].groupby(['com_n'])['cv_price'].mean().plot.density(color='green', ax=ax, label='Normal markets')\n",
        "auctions[(auctions['stable']) & (auctions['com_n'] >=151)& auctions['sev_times']].groupby(['com_n'])['cv_price'].mean().plot.density(color='red', ax=ax, label='Suspicious markets')\n",
        "plt.legend()"
      ]
    },
    {
      "cell_type": "code",
      "execution_count": null,
      "metadata": {
        "colab": {
          "base_uri": "https://localhost:8080/",
          "height": 282
        },
        "id": "BqWqRA9PA_kh",
        "outputId": "2ecceec5-84d9-4850-c1da-606b83017ef4"
      },
      "outputs": [
        {
          "output_type": "execute_result",
          "data": {
            "text/plain": [
              "<matplotlib.legend.Legend at 0x7f90da039190>"
            ]
          },
          "metadata": {},
          "execution_count": 146
        },
        {
          "output_type": "display_data",
          "data": {
            "text/plain": [
              "<Figure size 432x288 with 1 Axes>"
            ],
            "image/png": "[encoded data removed]"
          },
          "metadata": {
            "needs_background": "light"
          }
        }
      ],
      "source": [
        "fig, ax = plt.subplots(1,1)\n",
        "ax.set_xlim([0,0.1])\n",
        "auctions[(~auctions['stable'])  & (auctions['com_n'] >=151)& auctions['sev_times']].groupby(['com_n'])['cv_bidding'].mean().plot.density(color='green', ax=ax, label='Normal markets')\n",
        "auctions[(auctions['stable']) & (auctions['com_n'] >=151)& auctions['sev_times']].groupby(['com_n'])['cv_bidding'].mean().plot.density(color='red', ax=ax, label='Suspicious markets')\n",
        "ax.legend()"
      ]
    },
    {
      "cell_type": "code",
      "source": [
        "fig, ax = plt.subplots(1,1)\n",
        "# ax.set_xlim([0,1e4])\n",
        "auctions[(~auctions['stable'])  & (auctions['com_n'] >=151)& auctions['sev_times']].groupby(['com_n'])['cv_date'].mean().plot.density(color='green', ax=ax, label='Normal markets')\n",
        "auctions[(auctions['stable']) & (auctions['com_n'] >=151)& auctions['sev_times']].groupby(['com_n'])['cv_date'].mean().plot.density(color='red', ax=ax, label='Suspicious markets')\n",
        "ax.legend()"
      ],
      "metadata": {
        "colab": {
          "base_uri": "https://localhost:8080/",
          "height": 282
        },
        "id": "tJWBKY5rEh-a",
        "outputId": "234b9fdc-9b0f-4b06-b206-1522b87fc248"
      },
      "execution_count": null,
      "outputs": [
        {
          "output_type": "execute_result",
          "data": {
            "text/plain": [
              "<matplotlib.legend.Legend at 0x7f1d359a0d50>"
            ]
          },
          "metadata": {},
          "execution_count": 40
        },
        {
          "output_type": "display_data",
          "data": {
            "text/plain": [
              "<Figure size 432x288 with 1 Axes>"
            ],
            "image/png": "[encoded data removed]"
          },
          "metadata": {
            "needs_background": "light"
          }
        }
      ]
    },
    {
      "cell_type": "code",
      "execution_count": null,
      "metadata": {
        "colab": {
          "base_uri": "https://localhost:8080/",
          "height": 282
        },
        "id": "zQmMfvKuP6vM",
        "outputId": "aeae128f-7a32-4343-fbf6-01c508243c12"
      },
      "outputs": [
        {
          "output_type": "execute_result",
          "data": {
            "text/plain": [
              "<matplotlib.legend.Legend at 0x7f1d339b2910>"
            ]
          },
          "metadata": {},
          "execution_count": 260
        },
        {
          "output_type": "display_data",
          "data": {
            "text/plain": [
              "<Figure size 432x288 with 1 Axes>"
            ],
            "image/png": "[encoded data removed]"
          },
          "metadata": {
            "needs_background": "light"
          }
        }
      ],
      "source": [
        "fig, ax = plt.subplots(1,1)\n",
        "ax.set_xlim([0,0.8])\n",
        "auctions[(~auctions['cartel'])  & (auctions['com_n'] >= 151)& auctions['sev_times']].groupby(['com_n'])['cv_price'].mean().plot.density(color='green', ax=ax, label='Normal markets')\n",
        "auctions[(auctions['cartel']) & (auctions['com_n']  >= 151)& auctions['sev_times']].groupby(['com_n'])['cv_price'].mean().plot.density(color='red', ax=ax, label='Suspicious markets')\n",
        "plt.legend()"
      ]
    },
    {
      "cell_type": "code",
      "execution_count": null,
      "metadata": {
        "colab": {
          "base_uri": "https://localhost:8080/",
          "height": 282
        },
        "id": "DMZK74chQB-H",
        "outputId": "a67e2dc7-cdda-4d4b-f11f-2a906360ce95"
      },
      "outputs": [
        {
          "output_type": "execute_result",
          "data": {
            "text/plain": [
              "<matplotlib.legend.Legend at 0x7f1d330d7e50>"
            ]
          },
          "metadata": {},
          "execution_count": 276
        },
        {
          "output_type": "display_data",
          "data": {
            "text/plain": [
              "<Figure size 432x288 with 1 Axes>"
            ],
            "image/png": "[encoded data removed]"
          },
          "metadata": {
            "needs_background": "light"
          }
        }
      ],
      "source": [
        "fig, ax = plt.subplots(1,1)\n",
        "ax.set_xlim([0,0.1])\n",
        "auctions[(~auctions['cartel'])  & (auctions['com_n'] >= 151)& auctions['sev_times']].groupby(['com_n'])['cv_bidding'].mean().plot.density(color='green', ax=ax, label='Normal markets')\n",
        "auctions[(auctions['cartel']) & (auctions['com_n']  >= 151)& auctions['sev_times']].groupby(['com_n'])['cv_bidding'].mean().plot.density(color='red', ax=ax, label='Suspicious markets')\n",
        "ax.legend()"
      ]
    },
    {
      "cell_type": "code",
      "source": [
        "fig, ax = plt.subplots(1,1)\n",
        "ax.set_xlim([0.95,1])\n",
        "auctions[(~auctions['cartel'])  & (auctions['com_n'] >= 151)& auctions['sev_times']].groupby(['com_n'])['bid_price'].mean().plot.density(color='green', ax=ax, label='Normal markets')\n",
        "auctions[(auctions['cartel']) & (auctions['com_n']  >= 151) & auctions['sev_times']].groupby(['com_n'])['bid_price'].mean().plot.density(color='red', ax=ax, label='Suspicious markets')\n",
        "ax.legend()"
      ],
      "metadata": {
        "colab": {
          "base_uri": "https://localhost:8080/",
          "height": 282
        },
        "id": "WjCSOYYnErZq",
        "outputId": "b04d2c7b-97d1-47f2-b398-4194c60ba9c4"
      },
      "execution_count": null,
      "outputs": [
        {
          "output_type": "execute_result",
          "data": {
            "text/plain": [
              "<matplotlib.legend.Legend at 0x7f1d331b0f50>"
            ]
          },
          "metadata": {},
          "execution_count": 275
        },
        {
          "output_type": "display_data",
          "data": {
            "text/plain": [
              "<Figure size 432x288 with 1 Axes>"
            ],
            "image/png": "[encoded data removed]"
          },
          "metadata": {
            "needs_background": "light"
          }
        }
      ]
    },
    {
      "cell_type": "code",
      "execution_count": null,
      "metadata": {
        "colab": {
          "base_uri": "https://localhost:8080/",
          "height": 282
        },
        "id": "waVRk4XnQJ6M",
        "outputId": "31208282-1b03-4035-8102-747430bcb338"
      },
      "outputs": [
        {
          "output_type": "execute_result",
          "data": {
            "text/plain": [
              "<matplotlib.legend.Legend at 0x7f90cdf12d10>"
            ]
          },
          "metadata": {},
          "execution_count": 148
        },
        {
          "output_type": "display_data",
          "data": {
            "text/plain": [
              "<Figure size 432x288 with 1 Axes>"
            ],
            "image/png": "[encoded data removed]"
          },
          "metadata": {
            "needs_background": "light"
          }
        }
      ],
      "source": [
        "fig, ax = plt.subplots(1,1)\n",
        "ax.set_xlim([0.9,1])\n",
        "auctions[(~auctions['stable'])  & (auctions['com_n']  >= 151) & auctions['won']& auctions['sev_times']].groupby(['com_n'])['bid_price'].mean().plot.density(color='green', ax=ax, label='Normal markets')\n",
        "auctions[(auctions['stable']) & (auctions['com_n']  >= 151) & auctions['won']& auctions['sev_times']].groupby(['com_n'])['bid_price'].mean().plot.density(color='red', ax=ax, label='Suspicious markets')\n",
        "ax.legend()"
      ]
    },
    {
      "cell_type": "markdown",
      "source": [
        "Cartel Suspicious"
      ],
      "metadata": {
        "id": "ID_Ulu6Ap-hF"
      }
    },
    {
      "cell_type": "code",
      "execution_count": 25,
      "metadata": {
        "id": "omSWvRFTPYeW"
      },
      "outputs": [],
      "source": [
        "f = open(\"/content/drive/MyDrive/Maria Mitrankova/demofile5.txt\", \"r\")\n",
        "s = ''\n",
        "for l in f.readlines():\n",
        "  s += l\n",
        "\n",
        "s \n",
        "similar = set(map(int, s.split()))"
      ]
    },
    {
      "cell_type": "code",
      "execution_count": 26,
      "metadata": {
        "id": "5N1QbevIPtVP"
      },
      "outputs": [],
      "source": [
        "susp = similar"
      ]
    },
    {
      "cell_type": "code",
      "execution_count": 27,
      "metadata": {
        "id": "2Fy5TrDMKzbc"
      },
      "outputs": [],
      "source": [
        "auctions['cartel'] = auctions['com_n'].isin(susp)"
      ]
    },
    {
      "cell_type": "code",
      "execution_count": null,
      "metadata": {
        "colab": {
          "base_uri": "https://localhost:8080/",
          "height": 852
        },
        "id": "d-BFpV7zK0pb",
        "outputId": "4cce01f2-18ed-484d-8f3e-8f83bc0d9f12"
      },
      "outputs": [
        {
          "data": {
            "text/html": [
              "\n",
              "  <div id=\"df-3edcaa32-c5b7-4906-8928-ecb59eb45f81\">\n",
              "    <div class=\"colab-df-container\">\n",
              "      <div>\n",
              "<style scoped>\n",
              "    .dataframe tbody tr th:only-of-type {\n",
              "        vertical-align: middle;\n",
              "    }\n",
              "\n",
              "    .dataframe tbody tr th {\n",
              "        vertical-align: top;\n",
              "    }\n",
              "\n",
              "    .dataframe thead th {\n",
              "        text-align: right;\n",
              "    }\n",
              "</style>\n",
              "<table border=\"1\" class=\"dataframe\">\n",
              "  <thead>\n",
              "    <tr style=\"text-align: right;\">\n",
              "      <th></th>\n",
              "      <th>Unnamed: 0</th>\n",
              "      <th>purchase_number</th>\n",
              "      <th>region</th>\n",
              "      <th>procurer_reg_num</th>\n",
              "      <th>max_price</th>\n",
              "      <th>currency</th>\n",
              "      <th>start_date</th>\n",
              "      <th>end_date</th>\n",
              "      <th>prolong_date</th>\n",
              "      <th>n_commission_members</th>\n",
              "      <th>...</th>\n",
              "      <th>year</th>\n",
              "      <th>code</th>\n",
              "      <th>month</th>\n",
              "      <th>one_com</th>\n",
              "      <th>cv_price</th>\n",
              "      <th>cv_bidding</th>\n",
              "      <th>stable</th>\n",
              "      <th>coherent</th>\n",
              "      <th>exclusive</th>\n",
              "      <th>cartel</th>\n",
              "    </tr>\n",
              "  </thead>\n",
              "  <tbody>\n",
              "    <tr>\n",
              "      <th>51</th>\n",
              "      <td>1383832</td>\n",
              "      <td>3.583000e+17</td>\n",
              "      <td>Rostovskaja_obl</td>\n",
              "      <td>3.583000e+09</td>\n",
              "      <td>4140.80</td>\n",
              "      <td>NaN</td>\n",
              "      <td>2014-05-08 09:00:00</td>\n",
              "      <td>2014-05-15 17:00:00</td>\n",
              "      <td>NaN</td>\n",
              "      <td>5</td>\n",
              "      <td>...</td>\n",
              "      <td>2014</td>\n",
              "      <td>nannan</td>\n",
              "      <td>5</td>\n",
              "      <td>True</td>\n",
              "      <td>NaN</td>\n",
              "      <td>NaN</td>\n",
              "      <td>True</td>\n",
              "      <td>True</td>\n",
              "      <td>True</td>\n",
              "      <td>True</td>\n",
              "    </tr>\n",
              "    <tr>\n",
              "      <th>52</th>\n",
              "      <td>1383833</td>\n",
              "      <td>3.583000e+17</td>\n",
              "      <td>Rostovskaja_obl</td>\n",
              "      <td>3.583000e+09</td>\n",
              "      <td>4140.80</td>\n",
              "      <td>NaN</td>\n",
              "      <td>2014-05-08 09:00:00</td>\n",
              "      <td>2014-05-15 17:00:00</td>\n",
              "      <td>NaN</td>\n",
              "      <td>5</td>\n",
              "      <td>...</td>\n",
              "      <td>2014</td>\n",
              "      <td>nannan</td>\n",
              "      <td>5</td>\n",
              "      <td>True</td>\n",
              "      <td>NaN</td>\n",
              "      <td>NaN</td>\n",
              "      <td>True</td>\n",
              "      <td>True</td>\n",
              "      <td>True</td>\n",
              "      <td>True</td>\n",
              "    </tr>\n",
              "    <tr>\n",
              "      <th>316</th>\n",
              "      <td>1038887</td>\n",
              "      <td>1.513000e+17</td>\n",
              "      <td>Novosibirskaja_obl</td>\n",
              "      <td>1.513000e+09</td>\n",
              "      <td>23940.00</td>\n",
              "      <td>NaN</td>\n",
              "      <td>2014-05-27 11:00:00</td>\n",
              "      <td>2014-06-02 18:00:00</td>\n",
              "      <td>NaN</td>\n",
              "      <td>4</td>\n",
              "      <td>...</td>\n",
              "      <td>2014</td>\n",
              "      <td>nannan</td>\n",
              "      <td>5</td>\n",
              "      <td>True</td>\n",
              "      <td>0.565409</td>\n",
              "      <td>0.565422</td>\n",
              "      <td>True</td>\n",
              "      <td>True</td>\n",
              "      <td>True</td>\n",
              "      <td>True</td>\n",
              "    </tr>\n",
              "    <tr>\n",
              "      <th>396</th>\n",
              "      <td>1730071</td>\n",
              "      <td>1.013000e+17</td>\n",
              "      <td>Bashkortostan_Resp</td>\n",
              "      <td>1.013000e+09</td>\n",
              "      <td>65400.00</td>\n",
              "      <td>NaN</td>\n",
              "      <td>2014-05-28 11:00:00</td>\n",
              "      <td>2014-06-03 11:00:00</td>\n",
              "      <td>NaN</td>\n",
              "      <td>5</td>\n",
              "      <td>...</td>\n",
              "      <td>2014</td>\n",
              "      <td>nannan</td>\n",
              "      <td>5</td>\n",
              "      <td>True</td>\n",
              "      <td>0.523060</td>\n",
              "      <td>0.523059</td>\n",
              "      <td>False</td>\n",
              "      <td>True</td>\n",
              "      <td>True</td>\n",
              "      <td>True</td>\n",
              "    </tr>\n",
              "    <tr>\n",
              "      <th>460</th>\n",
              "      <td>1936264</td>\n",
              "      <td>3.051000e+17</td>\n",
              "      <td>Kalmykija_Resp</td>\n",
              "      <td>3.051000e+09</td>\n",
              "      <td>25746.34</td>\n",
              "      <td>NaN</td>\n",
              "      <td>2014-05-29 09:00:00</td>\n",
              "      <td>2014-06-04 15:00:00</td>\n",
              "      <td>NaN</td>\n",
              "      <td>5</td>\n",
              "      <td>...</td>\n",
              "      <td>2014</td>\n",
              "      <td>nannan</td>\n",
              "      <td>5</td>\n",
              "      <td>True</td>\n",
              "      <td>1.086078</td>\n",
              "      <td>1.106968</td>\n",
              "      <td>True</td>\n",
              "      <td>True</td>\n",
              "      <td>True</td>\n",
              "      <td>True</td>\n",
              "    </tr>\n",
              "    <tr>\n",
              "      <th>...</th>\n",
              "      <td>...</td>\n",
              "      <td>...</td>\n",
              "      <td>...</td>\n",
              "      <td>...</td>\n",
              "      <td>...</td>\n",
              "      <td>...</td>\n",
              "      <td>...</td>\n",
              "      <td>...</td>\n",
              "      <td>...</td>\n",
              "      <td>...</td>\n",
              "      <td>...</td>\n",
              "      <td>...</td>\n",
              "      <td>...</td>\n",
              "      <td>...</td>\n",
              "      <td>...</td>\n",
              "      <td>...</td>\n",
              "      <td>...</td>\n",
              "      <td>...</td>\n",
              "      <td>...</td>\n",
              "      <td>...</td>\n",
              "      <td>...</td>\n",
              "    </tr>\n",
              "    <tr>\n",
              "      <th>3374811</th>\n",
              "      <td>3345094</td>\n",
              "      <td>3.873001e+17</td>\n",
              "      <td>Khanty-Mansijskij_AO-Jugra_AO</td>\n",
              "      <td>3.873001e+09</td>\n",
              "      <td>173520.00</td>\n",
              "      <td>RUB</td>\n",
              "      <td>2021-12-29 14:17:17</td>\n",
              "      <td>2022-01-13 08:30:00</td>\n",
              "      <td>NaN</td>\n",
              "      <td>3</td>\n",
              "      <td>...</td>\n",
              "      <td>2021</td>\n",
              "      <td>71.012.0</td>\n",
              "      <td>12</td>\n",
              "      <td>True</td>\n",
              "      <td>NaN</td>\n",
              "      <td>NaN</td>\n",
              "      <td>True</td>\n",
              "      <td>True</td>\n",
              "      <td>True</td>\n",
              "      <td>True</td>\n",
              "    </tr>\n",
              "    <tr>\n",
              "      <th>3374812</th>\n",
              "      <td>3345093</td>\n",
              "      <td>3.873001e+17</td>\n",
              "      <td>Khanty-Mansijskij_AO-Jugra_AO</td>\n",
              "      <td>3.873001e+09</td>\n",
              "      <td>173520.00</td>\n",
              "      <td>RUB</td>\n",
              "      <td>2021-12-29 14:17:17</td>\n",
              "      <td>2022-01-13 08:30:00</td>\n",
              "      <td>NaN</td>\n",
              "      <td>3</td>\n",
              "      <td>...</td>\n",
              "      <td>2021</td>\n",
              "      <td>71.012.0</td>\n",
              "      <td>12</td>\n",
              "      <td>True</td>\n",
              "      <td>NaN</td>\n",
              "      <td>NaN</td>\n",
              "      <td>True</td>\n",
              "      <td>True</td>\n",
              "      <td>True</td>\n",
              "      <td>True</td>\n",
              "    </tr>\n",
              "    <tr>\n",
              "      <th>3374813</th>\n",
              "      <td>3345092</td>\n",
              "      <td>3.873001e+17</td>\n",
              "      <td>Khanty-Mansijskij_AO-Jugra_AO</td>\n",
              "      <td>3.873001e+09</td>\n",
              "      <td>173520.00</td>\n",
              "      <td>RUB</td>\n",
              "      <td>2021-12-29 14:17:17</td>\n",
              "      <td>2022-01-13 08:30:00</td>\n",
              "      <td>NaN</td>\n",
              "      <td>3</td>\n",
              "      <td>...</td>\n",
              "      <td>2021</td>\n",
              "      <td>71.012.0</td>\n",
              "      <td>12</td>\n",
              "      <td>True</td>\n",
              "      <td>NaN</td>\n",
              "      <td>NaN</td>\n",
              "      <td>True</td>\n",
              "      <td>True</td>\n",
              "      <td>True</td>\n",
              "      <td>True</td>\n",
              "    </tr>\n",
              "    <tr>\n",
              "      <th>3375191</th>\n",
              "      <td>4198276</td>\n",
              "      <td>3.612000e+17</td>\n",
              "      <td>Sakhalinskaja_obl</td>\n",
              "      <td>3.612000e+09</td>\n",
              "      <td>86818.49</td>\n",
              "      <td>RUB</td>\n",
              "      <td>2021-12-30 09:44:12</td>\n",
              "      <td>2022-01-17 16:00:00</td>\n",
              "      <td>NaN</td>\n",
              "      <td>3</td>\n",
              "      <td>...</td>\n",
              "      <td>2021</td>\n",
              "      <td>62.02.0</td>\n",
              "      <td>12</td>\n",
              "      <td>True</td>\n",
              "      <td>0.378012</td>\n",
              "      <td>0.379391</td>\n",
              "      <td>False</td>\n",
              "      <td>True</td>\n",
              "      <td>True</td>\n",
              "      <td>True</td>\n",
              "    </tr>\n",
              "    <tr>\n",
              "      <th>3375598</th>\n",
              "      <td>3555720</td>\n",
              "      <td>3.653000e+17</td>\n",
              "      <td>Tomskaja_obl</td>\n",
              "      <td>3.653000e+09</td>\n",
              "      <td>499884.04</td>\n",
              "      <td>RUB</td>\n",
              "      <td>2021-12-30 21:02:00</td>\n",
              "      <td>2022-01-14 10:00:00</td>\n",
              "      <td>NaN</td>\n",
              "      <td>3</td>\n",
              "      <td>...</td>\n",
              "      <td>2021</td>\n",
              "      <td>34.030.0</td>\n",
              "      <td>12</td>\n",
              "      <td>True</td>\n",
              "      <td>0.580156</td>\n",
              "      <td>0.580416</td>\n",
              "      <td>False</td>\n",
              "      <td>True</td>\n",
              "      <td>True</td>\n",
              "      <td>True</td>\n",
              "    </tr>\n",
              "  </tbody>\n",
              "</table>\n",
              "<p>29813 rows × 56 columns</p>\n",
              "</div>\n",
              "      <button class=\"colab-df-convert\" onclick=\"convertToInteractive('df-3edcaa32-c5b7-4906-8928-ecb59eb45f81')\"\n",
              "              title=\"Convert this dataframe to an interactive table.\"\n",
              "              style=\"display:none;\">\n",
              "        \n",
              "  <svg xmlns=\"http://www.w3.org/2000/svg\" height=\"24px\"viewBox=\"0 0 24 24\"\n",
              "       width=\"24px\">\n",
              "    <path d=\"M0 0h24v24H0V0z\" fill=\"none\"/>\n",
              "    <path d=\"M18.56 5.44l.94 2.06.94-2.06 2.06-.94-2.06-.94-.94-2.06-.94 2.06-2.06.94zm-11 1L8.5 8.5l.94-2.06 2.06-.94-2.06-.94L8.5 2.5l-.94 2.06-2.06.94zm10 10l.94 2.06.94-2.06 2.06-.94-2.06-.94-.94-2.06-.94 2.06-2.06.94z\"/><path d=\"M17.41 7.96l-1.37-1.37c-.4-.4-.92-.59-1.43-.59-.52 0-1.04.2-1.43.59L10.3 9.45l-7.72 7.72c-.78.78-.78 2.05 0 2.83L4 21.41c.39.39.9.59 1.41.59.51 0 1.02-.2 1.41-.59l7.78-7.78 2.81-2.81c.8-.78.8-2.07 0-2.86zM5.41 20L4 18.59l7.72-7.72 1.47 1.35L5.41 20z\"/>\n",
              "  </svg>\n",
              "      </button>\n",
              "      \n",
              "  <style>\n",
              "    .colab-df-container {\n",
              "      display:flex;\n",
              "      flex-wrap:wrap;\n",
              "      gap: 12px;\n",
              "    }\n",
              "\n",
              "    .colab-df-convert {\n",
              "      background-color: #E8F0FE;\n",
              "      border: none;\n",
              "      border-radius: 50%;\n",
              "      cursor: pointer;\n",
              "      display: none;\n",
              "      fill: #1967D2;\n",
              "      height: 32px;\n",
              "      padding: 0 0 0 0;\n",
              "      width: 32px;\n",
              "    }\n",
              "\n",
              "    .colab-df-convert:hover {\n",
              "      background-color: #E2EBFA;\n",
              "      box-shadow: 0px 1px 2px rgba(60, 64, 67, 0.3), 0px 1px 3px 1px rgba(60, 64, 67, 0.15);\n",
              "      fill: #174EA6;\n",
              "    }\n",
              "\n",
              "    [theme=dark] .colab-df-convert {\n",
              "      background-color: #3B4455;\n",
              "      fill: #D2E3FC;\n",
              "    }\n",
              "\n",
              "    [theme=dark] .colab-df-convert:hover {\n",
              "      background-color: #434B5C;\n",
              "      box-shadow: 0px 1px 3px 1px rgba(0, 0, 0, 0.15);\n",
              "      filter: drop-shadow(0px 1px 2px rgba(0, 0, 0, 0.3));\n",
              "      fill: #FFFFFF;\n",
              "    }\n",
              "  </style>\n",
              "\n",
              "      <script>\n",
              "        const buttonEl =\n",
              "          document.querySelector('#df-3edcaa32-c5b7-4906-8928-ecb59eb45f81 button.colab-df-convert');\n",
              "        buttonEl.style.display =\n",
              "          google.colab.kernel.accessAllowed ? 'block' : 'none';\n",
              "\n",
              "        async function convertToInteractive(key) {\n",
              "          const element = document.querySelector('#df-3edcaa32-c5b7-4906-8928-ecb59eb45f81');\n",
              "          const dataTable =\n",
              "            await google.colab.kernel.invokeFunction('convertToInteractive',\n",
              "                                                     [key], {});\n",
              "          if (!dataTable) return;\n",
              "\n",
              "          const docLinkHtml = 'Like what you see? Visit the ' +\n",
              "            '<a target=\"_blank\" href=https://colab.research.google.com/notebooks/data_table.ipynb>data table notebook</a>'\n",
              "            + ' to learn more about interactive tables.';\n",
              "          element.innerHTML = '';\n",
              "          dataTable['output_type'] = 'display_data';\n",
              "          await google.colab.output.renderOutput(dataTable, element);\n",
              "          const docLink = document.createElement('div');\n",
              "          docLink.innerHTML = docLinkHtml;\n",
              "          element.appendChild(docLink);\n",
              "        }\n",
              "      </script>\n",
              "    </div>\n",
              "  </div>\n",
              "  "
            ],
            "text/plain": [
              "         Unnamed: 0  purchase_number                         region  \\\n",
              "51          1383832     3.583000e+17                Rostovskaja_obl   \n",
              "52          1383833     3.583000e+17                Rostovskaja_obl   \n",
              "316         1038887     1.513000e+17             Novosibirskaja_obl   \n",
              "396         1730071     1.013000e+17             Bashkortostan_Resp   \n",
              "460         1936264     3.051000e+17                 Kalmykija_Resp   \n",
              "...             ...              ...                            ...   \n",
              "3374811     3345094     3.873001e+17  Khanty-Mansijskij_AO-Jugra_AO   \n",
              "3374812     3345093     3.873001e+17  Khanty-Mansijskij_AO-Jugra_AO   \n",
              "3374813     3345092     3.873001e+17  Khanty-Mansijskij_AO-Jugra_AO   \n",
              "3375191     4198276     3.612000e+17              Sakhalinskaja_obl   \n",
              "3375598     3555720     3.653000e+17                   Tomskaja_obl   \n",
              "\n",
              "         procurer_reg_num  max_price currency          start_date  \\\n",
              "51           3.583000e+09    4140.80      NaN 2014-05-08 09:00:00   \n",
              "52           3.583000e+09    4140.80      NaN 2014-05-08 09:00:00   \n",
              "316          1.513000e+09   23940.00      NaN 2014-05-27 11:00:00   \n",
              "396          1.013000e+09   65400.00      NaN 2014-05-28 11:00:00   \n",
              "460          3.051000e+09   25746.34      NaN 2014-05-29 09:00:00   \n",
              "...                   ...        ...      ...                 ...   \n",
              "3374811      3.873001e+09  173520.00      RUB 2021-12-29 14:17:17   \n",
              "3374812      3.873001e+09  173520.00      RUB 2021-12-29 14:17:17   \n",
              "3374813      3.873001e+09  173520.00      RUB 2021-12-29 14:17:17   \n",
              "3375191      3.612000e+09   86818.49      RUB 2021-12-30 09:44:12   \n",
              "3375598      3.653000e+09  499884.04      RUB 2021-12-30 21:02:00   \n",
              "\n",
              "                    end_date prolong_date  n_commission_members  ...  year  \\\n",
              "51       2014-05-15 17:00:00          NaN                     5  ...  2014   \n",
              "52       2014-05-15 17:00:00          NaN                     5  ...  2014   \n",
              "316      2014-06-02 18:00:00          NaN                     4  ...  2014   \n",
              "396      2014-06-03 11:00:00          NaN                     5  ...  2014   \n",
              "460      2014-06-04 15:00:00          NaN                     5  ...  2014   \n",
              "...                      ...          ...                   ...  ...   ...   \n",
              "3374811  2022-01-13 08:30:00          NaN                     3  ...  2021   \n",
              "3374812  2022-01-13 08:30:00          NaN                     3  ...  2021   \n",
              "3374813  2022-01-13 08:30:00          NaN                     3  ...  2021   \n",
              "3375191  2022-01-17 16:00:00          NaN                     3  ...  2021   \n",
              "3375598  2022-01-14 10:00:00          NaN                     3  ...  2021   \n",
              "\n",
              "             code month  one_com  cv_price  cv_bidding  stable  coherent  \\\n",
              "51         nannan     5     True       NaN         NaN    True      True   \n",
              "52         nannan     5     True       NaN         NaN    True      True   \n",
              "316        nannan     5     True  0.565409    0.565422    True      True   \n",
              "396        nannan     5     True  0.523060    0.523059   False      True   \n",
              "460        nannan     5     True  1.086078    1.106968    True      True   \n",
              "...           ...   ...      ...       ...         ...     ...       ...   \n",
              "3374811  71.012.0    12     True       NaN         NaN    True      True   \n",
              "3374812  71.012.0    12     True       NaN         NaN    True      True   \n",
              "3374813  71.012.0    12     True       NaN         NaN    True      True   \n",
              "3375191   62.02.0    12     True  0.378012    0.379391   False      True   \n",
              "3375598  34.030.0    12     True  0.580156    0.580416   False      True   \n",
              "\n",
              "         exclusive  cartel  \n",
              "51            True    True  \n",
              "52            True    True  \n",
              "316           True    True  \n",
              "396           True    True  \n",
              "460           True    True  \n",
              "...            ...     ...  \n",
              "3374811       True    True  \n",
              "3374812       True    True  \n",
              "3374813       True    True  \n",
              "3375191       True    True  \n",
              "3375598       True    True  \n",
              "\n",
              "[29813 rows x 56 columns]"
            ]
          },
          "execution_count": 37,
          "metadata": {},
          "output_type": "execute_result"
        }
      ],
      "source": [
        "auctions[auctions['cartel']]"
      ]
    },
    {
      "cell_type": "code",
      "execution_count": null,
      "metadata": {
        "colab": {
          "base_uri": "https://localhost:8080/",
          "height": 282
        },
        "id": "aZYvGanXLHF_",
        "outputId": "7797ebe8-b1ab-4dcc-f824-20750689d05c"
      },
      "outputs": [
        {
          "output_type": "execute_result",
          "data": {
            "text/plain": [
              "<matplotlib.legend.Legend at 0x7f1d35a35350>"
            ]
          },
          "metadata": {},
          "execution_count": 54
        },
        {
          "output_type": "display_data",
          "data": {
            "text/plain": [
              "<Figure size 432x288 with 1 Axes>"
            ],
            "image/png": "[encoded data removed]"
          },
          "metadata": {
            "needs_background": "light"
          }
        }
      ],
      "source": [
        "\n",
        "fig, ax = plt.subplots(1,1)\n",
        "ax.set_xlim([0,2])\n",
        "auctions[(~(auctions['stable'] & auctions['cartel']))   & (auctions['com_n'] != -1)& auctions['sev_times']].groupby(['com_n'])['cv_price'].mean().plot.density(color='green', ax=ax, label='Normal markets')\n",
        "auctions[(auctions['stable']) & (auctions['com_n'] != -1) & (auctions['cartel']) & auctions['sev_times']].groupby(['com_n'])['cv_price'].mean().plot.density(color='red', ax=ax, label='Suspicious markets')\n",
        "plt.legend()"
      ]
    },
    {
      "cell_type": "code",
      "execution_count": null,
      "metadata": {
        "colab": {
          "base_uri": "https://localhost:8080/",
          "height": 282
        },
        "id": "HWWX7kdFLSco",
        "outputId": "9a6f9d8d-f99f-4556-d574-63dcb0194ae5"
      },
      "outputs": [
        {
          "output_type": "execute_result",
          "data": {
            "text/plain": [
              "<matplotlib.legend.Legend at 0x7f1d3536e6d0>"
            ]
          },
          "metadata": {},
          "execution_count": 55
        },
        {
          "output_type": "display_data",
          "data": {
            "text/plain": [
              "<Figure size 432x288 with 1 Axes>"
            ],
            "image/png": "[encoded data removed]"
          },
          "metadata": {
            "needs_background": "light"
          }
        }
      ],
      "source": [
        "fig, ax = plt.subplots(1,1)\n",
        "ax.set_xlim([0,0.10000])\n",
        "auctions[(~(auctions['stable'] & auctions['cartel']))  & (auctions['com_n'] != -1)& auctions['sev_times']].groupby(['com_n'])['cv_bidding'].mean().plot.density(color='green', ax=ax, label='Normal markets')\n",
        "auctions[(auctions['stable']) & (auctions['com_n'] != -1) & (auctions['cartel'])& auctions['sev_times']].groupby(['com_n'])['cv_bidding'].mean().plot.density(color='red', ax=ax, label='Suspicious markets')\n",
        "plt.legend()"
      ]
    },
    {
      "cell_type": "code",
      "execution_count": null,
      "metadata": {
        "colab": {
          "base_uri": "https://localhost:8080/",
          "height": 282
        },
        "id": "kUHx7poTLpDL",
        "outputId": "b6c71df7-195d-4adc-c5b7-3a2d391cd29b"
      },
      "outputs": [
        {
          "output_type": "execute_result",
          "data": {
            "text/plain": [
              "<matplotlib.legend.Legend at 0x7f1d3520c650>"
            ]
          },
          "metadata": {},
          "execution_count": 56
        },
        {
          "output_type": "display_data",
          "data": {
            "text/plain": [
              "<Figure size 432x288 with 1 Axes>"
            ],
            "image/png": "[encoded data removed]"
          },
          "metadata": {
            "needs_background": "light"
          }
        }
      ],
      "source": [
        "fig, ax = plt.subplots(1,1)\n",
        "ax.set_xlim([0.8,1])\n",
        "auctions[~(auctions['stable'] & auctions['cartel'])  & (auctions['com_n'] != -1) & auctions['won']& auctions['sev_times']].groupby(['com_n'])['bid_price'].mean().plot.density(color='green', ax=ax, label='Normal markets')\n",
        "auctions[(auctions['stable']) & (auctions['com_n'] != -1) & (auctions['cartel']) & auctions['won']& auctions['sev_times']].groupby(['com_n'])['bid_price'].mean().plot.density(color='red', ax=ax, label='Suspicious markets')\n",
        "ax.legend()"
      ]
    },
    {
      "cell_type": "markdown",
      "source": [
        "Coherence & Exclusivity"
      ],
      "metadata": {
        "id": "b4CNeG5CqEGo"
      }
    },
    {
      "cell_type": "code",
      "execution_count": 24,
      "metadata": {
        "colab": {
          "base_uri": "https://localhost:8080/"
        },
        "id": "NqSxyCGWMEhx",
        "outputId": "43adc912-4dc4-4cb5-c9dc-e72d9641e796"
      },
      "outputs": [
        {
          "output_type": "stream",
          "name": "stderr",
          "text": [
            "100%|██████████| 19376/19376 [02:52<00:00, 112.19it/s]\n"
          ]
        }
      ],
      "source": [
        "import numpy as np\n",
        "from tqdm import tqdm \n",
        "\n",
        "coherence = []\n",
        "for i in tqdm(range(19376)):\n",
        "  firms = auctions[auctions['com_n'] == i]['participant_inn'].unique().tolist()\n",
        "  com = G_nw.subgraph(firms).copy()\n",
        "  w = []\n",
        "  for e in com.edges():\n",
        "    w.append(com.get_edge_data(*e)['weight'])\n",
        "  w = np.array(w, dtype=np.float64)\n",
        "  ch = np.clip(np.prod(w), 0, 1e6) ** (1/len(w)) / (np.mean(w) + 1e-6)\n",
        "  if np.isnan(ch):\n",
        "    print(w)\n",
        "  coherence.append(ch)"
      ]
    },
    {
      "cell_type": "code",
      "execution_count": null,
      "metadata": {
        "id": "B6-xdKtOSfUc"
      },
      "outputs": [],
      "source": [
        "f = open(\"/content/drive/MyDrive/Maria Mitrankova/demofile4.txt\", \"r\")\n",
        "s = ''\n",
        "for l in f.readlines():\n",
        "  s += l\n",
        "\n",
        "s "
      ]
    },
    {
      "cell_type": "code",
      "execution_count": 30,
      "metadata": {
        "id": "2nOK7RNYTHcd"
      },
      "outputs": [],
      "source": [
        "exclusivity = list(map(float,s.lstrip('[').rstrip(']').split(',')))"
      ]
    },
    {
      "cell_type": "code",
      "execution_count": 31,
      "metadata": {
        "id": "jKjgKcREUxgF"
      },
      "outputs": [],
      "source": [
        "exclusivity = np.array(exclusivity)\n",
        "coherence = np.array(coherence)"
      ]
    },
    {
      "cell_type": "code",
      "source": [
        "auctions['coherence'] = coherence[auctions['com_n']]\n",
        "auctions['exclusivity'] = exclusivity[auctions['com_n']]"
      ],
      "metadata": {
        "id": "fGht6iVlAWh-"
      },
      "execution_count": 32,
      "outputs": []
    },
    {
      "cell_type": "code",
      "execution_count": 33,
      "metadata": {
        "id": "XEYREflBZ5Xt",
        "colab": {
          "base_uri": "https://localhost:8080/",
          "height": 852
        },
        "outputId": "e176145d-75f8-4418-c87e-f7df521fce70"
      },
      "outputs": [
        {
          "output_type": "execute_result",
          "data": {
            "text/plain": [
              "         Unnamed: 0  purchase_number                          region  \\\n",
              "21          2030068     8.101000e+17  Severnaja_Osetija-Alanija_Resp   \n",
              "32          1658429     3.023000e+17                  Burjatija_Resp   \n",
              "33          1658430     3.023000e+17                  Burjatija_Resp   \n",
              "51          1383832     3.583000e+17                 Rostovskaja_obl   \n",
              "52          1383833     3.583000e+17                 Rostovskaja_obl   \n",
              "...             ...              ...                             ...   \n",
              "3375258     3664255     3.423000e+17                  Samarskaja_obl   \n",
              "3375259     3664254     3.423000e+17                  Samarskaja_obl   \n",
              "3375318     3112643     1.663000e+17                    Tulskaja_obl   \n",
              "3375319     3112642     1.663000e+17                    Tulskaja_obl   \n",
              "3375598     3555720     3.653000e+17                    Tomskaja_obl   \n",
              "\n",
              "         procurer_reg_num  max_price currency          start_date  \\\n",
              "21           8.101000e+09  235232.91      NaN 2014-04-08 00:00:00   \n",
              "32           3.023000e+09  248650.99      NaN 2014-04-21 08:00:00   \n",
              "33           3.023000e+09  248650.99      NaN 2014-04-21 08:00:00   \n",
              "51           3.583000e+09    4140.80      NaN 2014-05-08 09:00:00   \n",
              "52           3.583000e+09    4140.80      NaN 2014-05-08 09:00:00   \n",
              "...                   ...        ...      ...                 ...   \n",
              "3375258      3.423000e+09  222190.00      RUB 2021-12-30 11:36:02   \n",
              "3375259      3.423000e+09  222190.00      RUB 2021-12-30 11:36:02   \n",
              "3375318      1.663000e+09  245000.00      RUB 2021-12-30 12:51:04   \n",
              "3375319      1.663000e+09  245000.00      RUB 2021-12-30 12:51:04   \n",
              "3375598      3.653000e+09  499884.04      RUB 2021-12-30 21:02:00   \n",
              "\n",
              "                   end_date prolong_date  n_commission_members  ...  one_com  \\\n",
              "21      2014-04-17 18:00:00          NaN                     4  ...     True   \n",
              "32      2014-04-24 17:00:00          NaN                     5  ...     True   \n",
              "33      2014-04-24 17:00:00          NaN                     5  ...     True   \n",
              "51      2014-05-15 17:00:00          NaN                     5  ...     True   \n",
              "52      2014-05-15 17:00:00          NaN                     5  ...     True   \n",
              "...                     ...          ...                   ...  ...      ...   \n",
              "3375258 2022-01-14 06:00:00          NaN                     3  ...     True   \n",
              "3375259 2022-01-14 06:00:00          NaN                     3  ...     True   \n",
              "3375318 2022-01-14 10:00:00          NaN                     3  ...     True   \n",
              "3375319 2022-01-14 10:00:00          NaN                     3  ...     True   \n",
              "3375598 2022-01-14 10:00:00          NaN                     3  ...     True   \n",
              "\n",
              "         cv_price cv_bidding   cv_date  month  stable  cartel  coherence  \\\n",
              "21       1.073233   0.032387  0.296322      4   False   False   0.999999   \n",
              "32       0.000000   0.010997  0.014866      4    True   False   0.999999   \n",
              "33       0.000000   0.010997  0.014866      4    True   False   0.999999   \n",
              "51       0.000000   0.017586  1.105977      5    True    True   0.999999   \n",
              "52       0.000000   0.017586  1.105977      5    True    True   0.999999   \n",
              "...           ...        ...       ...    ...     ...     ...        ...   \n",
              "3375258  0.000000   0.006153  0.505076     12   False   False   0.999999   \n",
              "3375259  1.653139   0.006153  0.505076     12   False   False   0.999999   \n",
              "3375318  0.526995   0.056318  0.321428     12    True   False   0.999999   \n",
              "3375319  0.000000   0.056318  0.321428     12    True   False   0.999999   \n",
              "3375598  0.580156   0.003805  0.300706     12   False    True   0.999999   \n",
              "\n",
              "         exclusivity  coherent  \n",
              "21               1.0      True  \n",
              "32               1.0      True  \n",
              "33               1.0      True  \n",
              "51               1.0      True  \n",
              "52               1.0      True  \n",
              "...              ...       ...  \n",
              "3375258          1.0      True  \n",
              "3375259          1.0      True  \n",
              "3375318          1.0      True  \n",
              "3375319          1.0      True  \n",
              "3375598          1.0      True  \n",
              "\n",
              "[72311 rows x 57 columns]"
            ],
            "text/html": [
              "\n",
              "  <div id=\"df-e8f12dd4-ed48-449d-9f16-26d323b2b550\">\n",
              "    <div class=\"colab-df-container\">\n",
              "      <div>\n",
              "<style scoped>\n",
              "    .dataframe tbody tr th:only-of-type {\n",
              "        vertical-align: middle;\n",
              "    }\n",
              "\n",
              "    .dataframe tbody tr th {\n",
              "        vertical-align: top;\n",
              "    }\n",
              "\n",
              "    .dataframe thead th {\n",
              "        text-align: right;\n",
              "    }\n",
              "</style>\n",
              "<table border=\"1\" class=\"dataframe\">\n",
              "  <thead>\n",
              "    <tr style=\"text-align: right;\">\n",
              "      <th></th>\n",
              "      <th>Unnamed: 0</th>\n",
              "      <th>purchase_number</th>\n",
              "      <th>region</th>\n",
              "      <th>procurer_reg_num</th>\n",
              "      <th>max_price</th>\n",
              "      <th>currency</th>\n",
              "      <th>start_date</th>\n",
              "      <th>end_date</th>\n",
              "      <th>prolong_date</th>\n",
              "      <th>n_commission_members</th>\n",
              "      <th>...</th>\n",
              "      <th>one_com</th>\n",
              "      <th>cv_price</th>\n",
              "      <th>cv_bidding</th>\n",
              "      <th>cv_date</th>\n",
              "      <th>month</th>\n",
              "      <th>stable</th>\n",
              "      <th>cartel</th>\n",
              "      <th>coherence</th>\n",
              "      <th>exclusivity</th>\n",
              "      <th>coherent</th>\n",
              "    </tr>\n",
              "  </thead>\n",
              "  <tbody>\n",
              "    <tr>\n",
              "      <th>21</th>\n",
              "      <td>2030068</td>\n",
              "      <td>8.101000e+17</td>\n",
              "      <td>Severnaja_Osetija-Alanija_Resp</td>\n",
              "      <td>8.101000e+09</td>\n",
              "      <td>235232.91</td>\n",
              "      <td>NaN</td>\n",
              "      <td>2014-04-08 00:00:00</td>\n",
              "      <td>2014-04-17 18:00:00</td>\n",
              "      <td>NaN</td>\n",
              "      <td>4</td>\n",
              "      <td>...</td>\n",
              "      <td>True</td>\n",
              "      <td>1.073233</td>\n",
              "      <td>0.032387</td>\n",
              "      <td>0.296322</td>\n",
              "      <td>4</td>\n",
              "      <td>False</td>\n",
              "      <td>False</td>\n",
              "      <td>0.999999</td>\n",
              "      <td>1.0</td>\n",
              "      <td>True</td>\n",
              "    </tr>\n",
              "    <tr>\n",
              "      <th>32</th>\n",
              "      <td>1658429</td>\n",
              "      <td>3.023000e+17</td>\n",
              "      <td>Burjatija_Resp</td>\n",
              "      <td>3.023000e+09</td>\n",
              "      <td>248650.99</td>\n",
              "      <td>NaN</td>\n",
              "      <td>2014-04-21 08:00:00</td>\n",
              "      <td>2014-04-24 17:00:00</td>\n",
              "      <td>NaN</td>\n",
              "      <td>5</td>\n",
              "      <td>...</td>\n",
              "      <td>True</td>\n",
              "      <td>0.000000</td>\n",
              "      <td>0.010997</td>\n",
              "      <td>0.014866</td>\n",
              "      <td>4</td>\n",
              "      <td>True</td>\n",
              "      <td>False</td>\n",
              "      <td>0.999999</td>\n",
              "      <td>1.0</td>\n",
              "      <td>True</td>\n",
              "    </tr>\n",
              "    <tr>\n",
              "      <th>33</th>\n",
              "      <td>1658430</td>\n",
              "      <td>3.023000e+17</td>\n",
              "      <td>Burjatija_Resp</td>\n",
              "      <td>3.023000e+09</td>\n",
              "      <td>248650.99</td>\n",
              "      <td>NaN</td>\n",
              "      <td>2014-04-21 08:00:00</td>\n",
              "      <td>2014-04-24 17:00:00</td>\n",
              "      <td>NaN</td>\n",
              "      <td>5</td>\n",
              "      <td>...</td>\n",
              "      <td>True</td>\n",
              "      <td>0.000000</td>\n",
              "      <td>0.010997</td>\n",
              "      <td>0.014866</td>\n",
              "      <td>4</td>\n",
              "      <td>True</td>\n",
              "      <td>False</td>\n",
              "      <td>0.999999</td>\n",
              "      <td>1.0</td>\n",
              "      <td>True</td>\n",
              "    </tr>\n",
              "    <tr>\n",
              "      <th>51</th>\n",
              "      <td>1383832</td>\n",
              "      <td>3.583000e+17</td>\n",
              "      <td>Rostovskaja_obl</td>\n",
              "      <td>3.583000e+09</td>\n",
              "      <td>4140.80</td>\n",
              "      <td>NaN</td>\n",
              "      <td>2014-05-08 09:00:00</td>\n",
              "      <td>2014-05-15 17:00:00</td>\n",
              "      <td>NaN</td>\n",
              "      <td>5</td>\n",
              "      <td>...</td>\n",
              "      <td>True</td>\n",
              "      <td>0.000000</td>\n",
              "      <td>0.017586</td>\n",
              "      <td>1.105977</td>\n",
              "      <td>5</td>\n",
              "      <td>True</td>\n",
              "      <td>True</td>\n",
              "      <td>0.999999</td>\n",
              "      <td>1.0</td>\n",
              "      <td>True</td>\n",
              "    </tr>\n",
              "    <tr>\n",
              "      <th>52</th>\n",
              "      <td>1383833</td>\n",
              "      <td>3.583000e+17</td>\n",
              "      <td>Rostovskaja_obl</td>\n",
              "      <td>3.583000e+09</td>\n",
              "      <td>4140.80</td>\n",
              "      <td>NaN</td>\n",
              "      <td>2014-05-08 09:00:00</td>\n",
              "      <td>2014-05-15 17:00:00</td>\n",
              "      <td>NaN</td>\n",
              "      <td>5</td>\n",
              "      <td>...</td>\n",
              "      <td>True</td>\n",
              "      <td>0.000000</td>\n",
              "      <td>0.017586</td>\n",
              "      <td>1.105977</td>\n",
              "      <td>5</td>\n",
              "      <td>True</td>\n",
              "      <td>True</td>\n",
              "      <td>0.999999</td>\n",
              "      <td>1.0</td>\n",
              "      <td>True</td>\n",
              "    </tr>\n",
              "    <tr>\n",
              "      <th>...</th>\n",
              "      <td>...</td>\n",
              "      <td>...</td>\n",
              "      <td>...</td>\n",
              "      <td>...</td>\n",
              "      <td>...</td>\n",
              "      <td>...</td>\n",
              "      <td>...</td>\n",
              "      <td>...</td>\n",
              "      <td>...</td>\n",
              "      <td>...</td>\n",
              "      <td>...</td>\n",
              "      <td>...</td>\n",
              "      <td>...</td>\n",
              "      <td>...</td>\n",
              "      <td>...</td>\n",
              "      <td>...</td>\n",
              "      <td>...</td>\n",
              "      <td>...</td>\n",
              "      <td>...</td>\n",
              "      <td>...</td>\n",
              "      <td>...</td>\n",
              "    </tr>\n",
              "    <tr>\n",
              "      <th>3375258</th>\n",
              "      <td>3664255</td>\n",
              "      <td>3.423000e+17</td>\n",
              "      <td>Samarskaja_obl</td>\n",
              "      <td>3.423000e+09</td>\n",
              "      <td>222190.00</td>\n",
              "      <td>RUB</td>\n",
              "      <td>2021-12-30 11:36:02</td>\n",
              "      <td>2022-01-14 06:00:00</td>\n",
              "      <td>NaN</td>\n",
              "      <td>3</td>\n",
              "      <td>...</td>\n",
              "      <td>True</td>\n",
              "      <td>0.000000</td>\n",
              "      <td>0.006153</td>\n",
              "      <td>0.505076</td>\n",
              "      <td>12</td>\n",
              "      <td>False</td>\n",
              "      <td>False</td>\n",
              "      <td>0.999999</td>\n",
              "      <td>1.0</td>\n",
              "      <td>True</td>\n",
              "    </tr>\n",
              "    <tr>\n",
              "      <th>3375259</th>\n",
              "      <td>3664254</td>\n",
              "      <td>3.423000e+17</td>\n",
              "      <td>Samarskaja_obl</td>\n",
              "      <td>3.423000e+09</td>\n",
              "      <td>222190.00</td>\n",
              "      <td>RUB</td>\n",
              "      <td>2021-12-30 11:36:02</td>\n",
              "      <td>2022-01-14 06:00:00</td>\n",
              "      <td>NaN</td>\n",
              "      <td>3</td>\n",
              "      <td>...</td>\n",
              "      <td>True</td>\n",
              "      <td>1.653139</td>\n",
              "      <td>0.006153</td>\n",
              "      <td>0.505076</td>\n",
              "      <td>12</td>\n",
              "      <td>False</td>\n",
              "      <td>False</td>\n",
              "      <td>0.999999</td>\n",
              "      <td>1.0</td>\n",
              "      <td>True</td>\n",
              "    </tr>\n",
              "    <tr>\n",
              "      <th>3375318</th>\n",
              "      <td>3112643</td>\n",
              "      <td>1.663000e+17</td>\n",
              "      <td>Tulskaja_obl</td>\n",
              "      <td>1.663000e+09</td>\n",
              "      <td>245000.00</td>\n",
              "      <td>RUB</td>\n",
              "      <td>2021-12-30 12:51:04</td>\n",
              "      <td>2022-01-14 10:00:00</td>\n",
              "      <td>NaN</td>\n",
              "      <td>3</td>\n",
              "      <td>...</td>\n",
              "      <td>True</td>\n",
              "      <td>0.526995</td>\n",
              "      <td>0.056318</td>\n",
              "      <td>0.321428</td>\n",
              "      <td>12</td>\n",
              "      <td>True</td>\n",
              "      <td>False</td>\n",
              "      <td>0.999999</td>\n",
              "      <td>1.0</td>\n",
              "      <td>True</td>\n",
              "    </tr>\n",
              "    <tr>\n",
              "      <th>3375319</th>\n",
              "      <td>3112642</td>\n",
              "      <td>1.663000e+17</td>\n",
              "      <td>Tulskaja_obl</td>\n",
              "      <td>1.663000e+09</td>\n",
              "      <td>245000.00</td>\n",
              "      <td>RUB</td>\n",
              "      <td>2021-12-30 12:51:04</td>\n",
              "      <td>2022-01-14 10:00:00</td>\n",
              "      <td>NaN</td>\n",
              "      <td>3</td>\n",
              "      <td>...</td>\n",
              "      <td>True</td>\n",
              "      <td>0.000000</td>\n",
              "      <td>0.056318</td>\n",
              "      <td>0.321428</td>\n",
              "      <td>12</td>\n",
              "      <td>True</td>\n",
              "      <td>False</td>\n",
              "      <td>0.999999</td>\n",
              "      <td>1.0</td>\n",
              "      <td>True</td>\n",
              "    </tr>\n",
              "    <tr>\n",
              "      <th>3375598</th>\n",
              "      <td>3555720</td>\n",
              "      <td>3.653000e+17</td>\n",
              "      <td>Tomskaja_obl</td>\n",
              "      <td>3.653000e+09</td>\n",
              "      <td>499884.04</td>\n",
              "      <td>RUB</td>\n",
              "      <td>2021-12-30 21:02:00</td>\n",
              "      <td>2022-01-14 10:00:00</td>\n",
              "      <td>NaN</td>\n",
              "      <td>3</td>\n",
              "      <td>...</td>\n",
              "      <td>True</td>\n",
              "      <td>0.580156</td>\n",
              "      <td>0.003805</td>\n",
              "      <td>0.300706</td>\n",
              "      <td>12</td>\n",
              "      <td>False</td>\n",
              "      <td>True</td>\n",
              "      <td>0.999999</td>\n",
              "      <td>1.0</td>\n",
              "      <td>True</td>\n",
              "    </tr>\n",
              "  </tbody>\n",
              "</table>\n",
              "<p>72311 rows × 57 columns</p>\n",
              "</div>\n",
              "      <button class=\"colab-df-convert\" onclick=\"convertToInteractive('df-e8f12dd4-ed48-449d-9f16-26d323b2b550')\"\n",
              "              title=\"Convert this dataframe to an interactive table.\"\n",
              "              style=\"display:none;\">\n",
              "        \n",
              "  <svg xmlns=\"http://www.w3.org/2000/svg\" height=\"24px\"viewBox=\"0 0 24 24\"\n",
              "       width=\"24px\">\n",
              "    <path d=\"M0 0h24v24H0V0z\" fill=\"none\"/>\n",
              "    <path d=\"M18.56 5.44l.94 2.06.94-2.06 2.06-.94-2.06-.94-.94-2.06-.94 2.06-2.06.94zm-11 1L8.5 8.5l.94-2.06 2.06-.94-2.06-.94L8.5 2.5l-.94 2.06-2.06.94zm10 10l.94 2.06.94-2.06 2.06-.94-2.06-.94-.94-2.06-.94 2.06-2.06.94z\"/><path d=\"M17.41 7.96l-1.37-1.37c-.4-.4-.92-.59-1.43-.59-.52 0-1.04.2-1.43.59L10.3 9.45l-7.72 7.72c-.78.78-.78 2.05 0 2.83L4 21.41c.39.39.9.59 1.41.59.51 0 1.02-.2 1.41-.59l7.78-7.78 2.81-2.81c.8-.78.8-2.07 0-2.86zM5.41 20L4 18.59l7.72-7.72 1.47 1.35L5.41 20z\"/>\n",
              "  </svg>\n",
              "      </button>\n",
              "      \n",
              "  <style>\n",
              "    .colab-df-container {\n",
              "      display:flex;\n",
              "      flex-wrap:wrap;\n",
              "      gap: 12px;\n",
              "    }\n",
              "\n",
              "    .colab-df-convert {\n",
              "      background-color: #E8F0FE;\n",
              "      border: none;\n",
              "      border-radius: 50%;\n",
              "      cursor: pointer;\n",
              "      display: none;\n",
              "      fill: #1967D2;\n",
              "      height: 32px;\n",
              "      padding: 0 0 0 0;\n",
              "      width: 32px;\n",
              "    }\n",
              "\n",
              "    .colab-df-convert:hover {\n",
              "      background-color: #E2EBFA;\n",
              "      box-shadow: 0px 1px 2px rgba(60, 64, 67, 0.3), 0px 1px 3px 1px rgba(60, 64, 67, 0.15);\n",
              "      fill: #174EA6;\n",
              "    }\n",
              "\n",
              "    [theme=dark] .colab-df-convert {\n",
              "      background-color: #3B4455;\n",
              "      fill: #D2E3FC;\n",
              "    }\n",
              "\n",
              "    [theme=dark] .colab-df-convert:hover {\n",
              "      background-color: #434B5C;\n",
              "      box-shadow: 0px 1px 3px 1px rgba(0, 0, 0, 0.15);\n",
              "      filter: drop-shadow(0px 1px 2px rgba(0, 0, 0, 0.3));\n",
              "      fill: #FFFFFF;\n",
              "    }\n",
              "  </style>\n",
              "\n",
              "      <script>\n",
              "        const buttonEl =\n",
              "          document.querySelector('#df-e8f12dd4-ed48-449d-9f16-26d323b2b550 button.colab-df-convert');\n",
              "        buttonEl.style.display =\n",
              "          google.colab.kernel.accessAllowed ? 'block' : 'none';\n",
              "\n",
              "        async function convertToInteractive(key) {\n",
              "          const element = document.querySelector('#df-e8f12dd4-ed48-449d-9f16-26d323b2b550');\n",
              "          const dataTable =\n",
              "            await google.colab.kernel.invokeFunction('convertToInteractive',\n",
              "                                                     [key], {});\n",
              "          if (!dataTable) return;\n",
              "\n",
              "          const docLinkHtml = 'Like what you see? Visit the ' +\n",
              "            '<a target=\"_blank\" href=https://colab.research.google.com/notebooks/data_table.ipynb>data table notebook</a>'\n",
              "            + ' to learn more about interactive tables.';\n",
              "          element.innerHTML = '';\n",
              "          dataTable['output_type'] = 'display_data';\n",
              "          await google.colab.output.renderOutput(dataTable, element);\n",
              "          const docLink = document.createElement('div');\n",
              "          docLink.innerHTML = docLinkHtml;\n",
              "          element.appendChild(docLink);\n",
              "        }\n",
              "      </script>\n",
              "    </div>\n",
              "  </div>\n",
              "  "
            ]
          },
          "metadata": {},
          "execution_count": 33
        }
      ],
      "source": [
        "auctions['coherent'] = coherence[auctions['com_n']] >= np.mean(coherence[151:])\n",
        "auctions[auctions['coherent']]"
      ]
    },
    {
      "cell_type": "code",
      "execution_count": null,
      "metadata": {
        "colab": {
          "base_uri": "https://localhost:8080/",
          "height": 852
        },
        "id": "-NoBWsyEdi9F",
        "outputId": "29c37f9b-c879-45cd-e36d-745b64c70c32"
      },
      "outputs": [
        {
          "output_type": "execute_result",
          "data": {
            "text/plain": [
              "         Unnamed: 0  purchase_number                          region  \\\n",
              "21          2030068     8.101000e+17  Severnaja_Osetija-Alanija_Resp   \n",
              "32          1658429     3.023000e+17                  Burjatija_Resp   \n",
              "33          1658430     3.023000e+17                  Burjatija_Resp   \n",
              "51          1383832     3.583000e+17                 Rostovskaja_obl   \n",
              "52          1383833     3.583000e+17                 Rostovskaja_obl   \n",
              "...             ...              ...                             ...   \n",
              "3375319     3112642     1.663000e+17                    Tulskaja_obl   \n",
              "3375392     3966470     2.081000e+17                   Marij_El_Resp   \n",
              "3375393     3966469     2.081000e+17                   Marij_El_Resp   \n",
              "3375482     4644438     1.131000e+17                Udmurtskaja_Resp   \n",
              "3375598     3555720     3.653000e+17                    Tomskaja_obl   \n",
              "\n",
              "         procurer_reg_num  max_price currency          start_date  \\\n",
              "21           8.101000e+09  235232.91      NaN 2014-04-08 00:00:00   \n",
              "32           3.023000e+09  248650.99      NaN 2014-04-21 08:00:00   \n",
              "33           3.023000e+09  248650.99      NaN 2014-04-21 08:00:00   \n",
              "51           3.583000e+09    4140.80      NaN 2014-05-08 09:00:00   \n",
              "52           3.583000e+09    4140.80      NaN 2014-05-08 09:00:00   \n",
              "...                   ...        ...      ...                 ...   \n",
              "3375319      1.663000e+09  245000.00      RUB 2021-12-30 12:51:04   \n",
              "3375392      2.081000e+09   64200.00      RUB 2021-12-30 14:40:34   \n",
              "3375393      2.081000e+09   64200.00      RUB 2021-12-30 14:40:34   \n",
              "3375482      1.131000e+09   50000.00      RUB 2021-12-30 16:49:38   \n",
              "3375598      3.653000e+09  499884.04      RUB 2021-12-30 21:02:00   \n",
              "\n",
              "                   end_date prolong_date  n_commission_members  ...   cv_date  \\\n",
              "21      2014-04-17 18:00:00          NaN                     4  ...  0.296322   \n",
              "32      2014-04-24 17:00:00          NaN                     5  ...  0.014866   \n",
              "33      2014-04-24 17:00:00          NaN                     5  ...  0.014866   \n",
              "51      2014-05-15 17:00:00          NaN                     5  ...  1.105977   \n",
              "52      2014-05-15 17:00:00          NaN                     5  ...  1.105977   \n",
              "...                     ...          ...                   ...  ...       ...   \n",
              "3375319 2022-01-14 10:00:00          NaN                     3  ...  0.321428   \n",
              "3375392 2022-01-14 12:00:00          NaN                     3  ...  0.718975   \n",
              "3375393 2022-01-14 12:00:00          NaN                     3  ...  0.718975   \n",
              "3375482 2022-01-14 10:00:00          NaN                     5  ...  0.449115   \n",
              "3375598 2022-01-14 10:00:00          NaN                     3  ...  0.300706   \n",
              "\n",
              "         year month  stable  sev_times  cartel  coherence  exclusivity  \\\n",
              "21       2014     4   False       True   False   0.999999          1.0   \n",
              "32       2014     4    True      False   False   0.999999          1.0   \n",
              "33       2014     4    True      False   False   0.999999          1.0   \n",
              "51       2014     5    True      False    True   0.999999          1.0   \n",
              "52       2014     5    True      False    True   0.999999          1.0   \n",
              "...       ...   ...     ...        ...     ...        ...          ...   \n",
              "3375319  2021    12    True       True   False   0.999999          1.0   \n",
              "3375392  2021    12    True       True   False   0.866025          1.0   \n",
              "3375393  2021    12    True       True   False   0.866025          1.0   \n",
              "3375482  2021    12   False       True   False   0.567295          1.0   \n",
              "3375598  2021    12   False       True    True   0.999999          1.0   \n",
              "\n",
              "         coherent  exclusive  \n",
              "21           True       True  \n",
              "32           True       True  \n",
              "33           True       True  \n",
              "51           True       True  \n",
              "52           True       True  \n",
              "...           ...        ...  \n",
              "3375319      True       True  \n",
              "3375392     False       True  \n",
              "3375393     False       True  \n",
              "3375482     False       True  \n",
              "3375598      True       True  \n",
              "\n",
              "[104498 rows x 59 columns]"
            ],
            "text/html": [
              "\n",
              "  <div id=\"df-1d709ecc-9574-4dc9-9f5d-8b089423cbd4\">\n",
              "    <div class=\"colab-df-container\">\n",
              "      <div>\n",
              "<style scoped>\n",
              "    .dataframe tbody tr th:only-of-type {\n",
              "        vertical-align: middle;\n",
              "    }\n",
              "\n",
              "    .dataframe tbody tr th {\n",
              "        vertical-align: top;\n",
              "    }\n",
              "\n",
              "    .dataframe thead th {\n",
              "        text-align: right;\n",
              "    }\n",
              "</style>\n",
              "<table border=\"1\" class=\"dataframe\">\n",
              "  <thead>\n",
              "    <tr style=\"text-align: right;\">\n",
              "      <th></th>\n",
              "      <th>Unnamed: 0</th>\n",
              "      <th>purchase_number</th>\n",
              "      <th>region</th>\n",
              "      <th>procurer_reg_num</th>\n",
              "      <th>max_price</th>\n",
              "      <th>currency</th>\n",
              "      <th>start_date</th>\n",
              "      <th>end_date</th>\n",
              "      <th>prolong_date</th>\n",
              "      <th>n_commission_members</th>\n",
              "      <th>...</th>\n",
              "      <th>cv_date</th>\n",
              "      <th>year</th>\n",
              "      <th>month</th>\n",
              "      <th>stable</th>\n",
              "      <th>sev_times</th>\n",
              "      <th>cartel</th>\n",
              "      <th>coherence</th>\n",
              "      <th>exclusivity</th>\n",
              "      <th>coherent</th>\n",
              "      <th>exclusive</th>\n",
              "    </tr>\n",
              "  </thead>\n",
              "  <tbody>\n",
              "    <tr>\n",
              "      <th>21</th>\n",
              "      <td>2030068</td>\n",
              "      <td>8.101000e+17</td>\n",
              "      <td>Severnaja_Osetija-Alanija_Resp</td>\n",
              "      <td>8.101000e+09</td>\n",
              "      <td>235232.91</td>\n",
              "      <td>NaN</td>\n",
              "      <td>2014-04-08 00:00:00</td>\n",
              "      <td>2014-04-17 18:00:00</td>\n",
              "      <td>NaN</td>\n",
              "      <td>4</td>\n",
              "      <td>...</td>\n",
              "      <td>0.296322</td>\n",
              "      <td>2014</td>\n",
              "      <td>4</td>\n",
              "      <td>False</td>\n",
              "      <td>True</td>\n",
              "      <td>False</td>\n",
              "      <td>0.999999</td>\n",
              "      <td>1.0</td>\n",
              "      <td>True</td>\n",
              "      <td>True</td>\n",
              "    </tr>\n",
              "    <tr>\n",
              "      <th>32</th>\n",
              "      <td>1658429</td>\n",
              "      <td>3.023000e+17</td>\n",
              "      <td>Burjatija_Resp</td>\n",
              "      <td>3.023000e+09</td>\n",
              "      <td>248650.99</td>\n",
              "      <td>NaN</td>\n",
              "      <td>2014-04-21 08:00:00</td>\n",
              "      <td>2014-04-24 17:00:00</td>\n",
              "      <td>NaN</td>\n",
              "      <td>5</td>\n",
              "      <td>...</td>\n",
              "      <td>0.014866</td>\n",
              "      <td>2014</td>\n",
              "      <td>4</td>\n",
              "      <td>True</td>\n",
              "      <td>False</td>\n",
              "      <td>False</td>\n",
              "      <td>0.999999</td>\n",
              "      <td>1.0</td>\n",
              "      <td>True</td>\n",
              "      <td>True</td>\n",
              "    </tr>\n",
              "    <tr>\n",
              "      <th>33</th>\n",
              "      <td>1658430</td>\n",
              "      <td>3.023000e+17</td>\n",
              "      <td>Burjatija_Resp</td>\n",
              "      <td>3.023000e+09</td>\n",
              "      <td>248650.99</td>\n",
              "      <td>NaN</td>\n",
              "      <td>2014-04-21 08:00:00</td>\n",
              "      <td>2014-04-24 17:00:00</td>\n",
              "      <td>NaN</td>\n",
              "      <td>5</td>\n",
              "      <td>...</td>\n",
              "      <td>0.014866</td>\n",
              "      <td>2014</td>\n",
              "      <td>4</td>\n",
              "      <td>True</td>\n",
              "      <td>False</td>\n",
              "      <td>False</td>\n",
              "      <td>0.999999</td>\n",
              "      <td>1.0</td>\n",
              "      <td>True</td>\n",
              "      <td>True</td>\n",
              "    </tr>\n",
              "    <tr>\n",
              "      <th>51</th>\n",
              "      <td>1383832</td>\n",
              "      <td>3.583000e+17</td>\n",
              "      <td>Rostovskaja_obl</td>\n",
              "      <td>3.583000e+09</td>\n",
              "      <td>4140.80</td>\n",
              "      <td>NaN</td>\n",
              "      <td>2014-05-08 09:00:00</td>\n",
              "      <td>2014-05-15 17:00:00</td>\n",
              "      <td>NaN</td>\n",
              "      <td>5</td>\n",
              "      <td>...</td>\n",
              "      <td>1.105977</td>\n",
              "      <td>2014</td>\n",
              "      <td>5</td>\n",
              "      <td>True</td>\n",
              "      <td>False</td>\n",
              "      <td>True</td>\n",
              "      <td>0.999999</td>\n",
              "      <td>1.0</td>\n",
              "      <td>True</td>\n",
              "      <td>True</td>\n",
              "    </tr>\n",
              "    <tr>\n",
              "      <th>52</th>\n",
              "      <td>1383833</td>\n",
              "      <td>3.583000e+17</td>\n",
              "      <td>Rostovskaja_obl</td>\n",
              "      <td>3.583000e+09</td>\n",
              "      <td>4140.80</td>\n",
              "      <td>NaN</td>\n",
              "      <td>2014-05-08 09:00:00</td>\n",
              "      <td>2014-05-15 17:00:00</td>\n",
              "      <td>NaN</td>\n",
              "      <td>5</td>\n",
              "      <td>...</td>\n",
              "      <td>1.105977</td>\n",
              "      <td>2014</td>\n",
              "      <td>5</td>\n",
              "      <td>True</td>\n",
              "      <td>False</td>\n",
              "      <td>True</td>\n",
              "      <td>0.999999</td>\n",
              "      <td>1.0</td>\n",
              "      <td>True</td>\n",
              "      <td>True</td>\n",
              "    </tr>\n",
              "    <tr>\n",
              "      <th>...</th>\n",
              "      <td>...</td>\n",
              "      <td>...</td>\n",
              "      <td>...</td>\n",
              "      <td>...</td>\n",
              "      <td>...</td>\n",
              "      <td>...</td>\n",
              "      <td>...</td>\n",
              "      <td>...</td>\n",
              "      <td>...</td>\n",
              "      <td>...</td>\n",
              "      <td>...</td>\n",
              "      <td>...</td>\n",
              "      <td>...</td>\n",
              "      <td>...</td>\n",
              "      <td>...</td>\n",
              "      <td>...</td>\n",
              "      <td>...</td>\n",
              "      <td>...</td>\n",
              "      <td>...</td>\n",
              "      <td>...</td>\n",
              "      <td>...</td>\n",
              "    </tr>\n",
              "    <tr>\n",
              "      <th>3375319</th>\n",
              "      <td>3112642</td>\n",
              "      <td>1.663000e+17</td>\n",
              "      <td>Tulskaja_obl</td>\n",
              "      <td>1.663000e+09</td>\n",
              "      <td>245000.00</td>\n",
              "      <td>RUB</td>\n",
              "      <td>2021-12-30 12:51:04</td>\n",
              "      <td>2022-01-14 10:00:00</td>\n",
              "      <td>NaN</td>\n",
              "      <td>3</td>\n",
              "      <td>...</td>\n",
              "      <td>0.321428</td>\n",
              "      <td>2021</td>\n",
              "      <td>12</td>\n",
              "      <td>True</td>\n",
              "      <td>True</td>\n",
              "      <td>False</td>\n",
              "      <td>0.999999</td>\n",
              "      <td>1.0</td>\n",
              "      <td>True</td>\n",
              "      <td>True</td>\n",
              "    </tr>\n",
              "    <tr>\n",
              "      <th>3375392</th>\n",
              "      <td>3966470</td>\n",
              "      <td>2.081000e+17</td>\n",
              "      <td>Marij_El_Resp</td>\n",
              "      <td>2.081000e+09</td>\n",
              "      <td>64200.00</td>\n",
              "      <td>RUB</td>\n",
              "      <td>2021-12-30 14:40:34</td>\n",
              "      <td>2022-01-14 12:00:00</td>\n",
              "      <td>NaN</td>\n",
              "      <td>3</td>\n",
              "      <td>...</td>\n",
              "      <td>0.718975</td>\n",
              "      <td>2021</td>\n",
              "      <td>12</td>\n",
              "      <td>True</td>\n",
              "      <td>True</td>\n",
              "      <td>False</td>\n",
              "      <td>0.866025</td>\n",
              "      <td>1.0</td>\n",
              "      <td>False</td>\n",
              "      <td>True</td>\n",
              "    </tr>\n",
              "    <tr>\n",
              "      <th>3375393</th>\n",
              "      <td>3966469</td>\n",
              "      <td>2.081000e+17</td>\n",
              "      <td>Marij_El_Resp</td>\n",
              "      <td>2.081000e+09</td>\n",
              "      <td>64200.00</td>\n",
              "      <td>RUB</td>\n",
              "      <td>2021-12-30 14:40:34</td>\n",
              "      <td>2022-01-14 12:00:00</td>\n",
              "      <td>NaN</td>\n",
              "      <td>3</td>\n",
              "      <td>...</td>\n",
              "      <td>0.718975</td>\n",
              "      <td>2021</td>\n",
              "      <td>12</td>\n",
              "      <td>True</td>\n",
              "      <td>True</td>\n",
              "      <td>False</td>\n",
              "      <td>0.866025</td>\n",
              "      <td>1.0</td>\n",
              "      <td>False</td>\n",
              "      <td>True</td>\n",
              "    </tr>\n",
              "    <tr>\n",
              "      <th>3375482</th>\n",
              "      <td>4644438</td>\n",
              "      <td>1.131000e+17</td>\n",
              "      <td>Udmurtskaja_Resp</td>\n",
              "      <td>1.131000e+09</td>\n",
              "      <td>50000.00</td>\n",
              "      <td>RUB</td>\n",
              "      <td>2021-12-30 16:49:38</td>\n",
              "      <td>2022-01-14 10:00:00</td>\n",
              "      <td>NaN</td>\n",
              "      <td>5</td>\n",
              "      <td>...</td>\n",
              "      <td>0.449115</td>\n",
              "      <td>2021</td>\n",
              "      <td>12</td>\n",
              "      <td>False</td>\n",
              "      <td>True</td>\n",
              "      <td>False</td>\n",
              "      <td>0.567295</td>\n",
              "      <td>1.0</td>\n",
              "      <td>False</td>\n",
              "      <td>True</td>\n",
              "    </tr>\n",
              "    <tr>\n",
              "      <th>3375598</th>\n",
              "      <td>3555720</td>\n",
              "      <td>3.653000e+17</td>\n",
              "      <td>Tomskaja_obl</td>\n",
              "      <td>3.653000e+09</td>\n",
              "      <td>499884.04</td>\n",
              "      <td>RUB</td>\n",
              "      <td>2021-12-30 21:02:00</td>\n",
              "      <td>2022-01-14 10:00:00</td>\n",
              "      <td>NaN</td>\n",
              "      <td>3</td>\n",
              "      <td>...</td>\n",
              "      <td>0.300706</td>\n",
              "      <td>2021</td>\n",
              "      <td>12</td>\n",
              "      <td>False</td>\n",
              "      <td>True</td>\n",
              "      <td>True</td>\n",
              "      <td>0.999999</td>\n",
              "      <td>1.0</td>\n",
              "      <td>True</td>\n",
              "      <td>True</td>\n",
              "    </tr>\n",
              "  </tbody>\n",
              "</table>\n",
              "<p>104498 rows × 59 columns</p>\n",
              "</div>\n",
              "      <button class=\"colab-df-convert\" onclick=\"convertToInteractive('df-1d709ecc-9574-4dc9-9f5d-8b089423cbd4')\"\n",
              "              title=\"Convert this dataframe to an interactive table.\"\n",
              "              style=\"display:none;\">\n",
              "        \n",
              "  <svg xmlns=\"http://www.w3.org/2000/svg\" height=\"24px\"viewBox=\"0 0 24 24\"\n",
              "       width=\"24px\">\n",
              "    <path d=\"M0 0h24v24H0V0z\" fill=\"none\"/>\n",
              "    <path d=\"M18.56 5.44l.94 2.06.94-2.06 2.06-.94-2.06-.94-.94-2.06-.94 2.06-2.06.94zm-11 1L8.5 8.5l.94-2.06 2.06-.94-2.06-.94L8.5 2.5l-.94 2.06-2.06.94zm10 10l.94 2.06.94-2.06 2.06-.94-2.06-.94-.94-2.06-.94 2.06-2.06.94z\"/><path d=\"M17.41 7.96l-1.37-1.37c-.4-.4-.92-.59-1.43-.59-.52 0-1.04.2-1.43.59L10.3 9.45l-7.72 7.72c-.78.78-.78 2.05 0 2.83L4 21.41c.39.39.9.59 1.41.59.51 0 1.02-.2 1.41-.59l7.78-7.78 2.81-2.81c.8-.78.8-2.07 0-2.86zM5.41 20L4 18.59l7.72-7.72 1.47 1.35L5.41 20z\"/>\n",
              "  </svg>\n",
              "      </button>\n",
              "      \n",
              "  <style>\n",
              "    .colab-df-container {\n",
              "      display:flex;\n",
              "      flex-wrap:wrap;\n",
              "      gap: 12px;\n",
              "    }\n",
              "\n",
              "    .colab-df-convert {\n",
              "      background-color: #E8F0FE;\n",
              "      border: none;\n",
              "      border-radius: 50%;\n",
              "      cursor: pointer;\n",
              "      display: none;\n",
              "      fill: #1967D2;\n",
              "      height: 32px;\n",
              "      padding: 0 0 0 0;\n",
              "      width: 32px;\n",
              "    }\n",
              "\n",
              "    .colab-df-convert:hover {\n",
              "      background-color: #E2EBFA;\n",
              "      box-shadow: 0px 1px 2px rgba(60, 64, 67, 0.3), 0px 1px 3px 1px rgba(60, 64, 67, 0.15);\n",
              "      fill: #174EA6;\n",
              "    }\n",
              "\n",
              "    [theme=dark] .colab-df-convert {\n",
              "      background-color: #3B4455;\n",
              "      fill: #D2E3FC;\n",
              "    }\n",
              "\n",
              "    [theme=dark] .colab-df-convert:hover {\n",
              "      background-color: #434B5C;\n",
              "      box-shadow: 0px 1px 3px 1px rgba(0, 0, 0, 0.15);\n",
              "      filter: drop-shadow(0px 1px 2px rgba(0, 0, 0, 0.3));\n",
              "      fill: #FFFFFF;\n",
              "    }\n",
              "  </style>\n",
              "\n",
              "      <script>\n",
              "        const buttonEl =\n",
              "          document.querySelector('#df-1d709ecc-9574-4dc9-9f5d-8b089423cbd4 button.colab-df-convert');\n",
              "        buttonEl.style.display =\n",
              "          google.colab.kernel.accessAllowed ? 'block' : 'none';\n",
              "\n",
              "        async function convertToInteractive(key) {\n",
              "          const element = document.querySelector('#df-1d709ecc-9574-4dc9-9f5d-8b089423cbd4');\n",
              "          const dataTable =\n",
              "            await google.colab.kernel.invokeFunction('convertToInteractive',\n",
              "                                                     [key], {});\n",
              "          if (!dataTable) return;\n",
              "\n",
              "          const docLinkHtml = 'Like what you see? Visit the ' +\n",
              "            '<a target=\"_blank\" href=https://colab.research.google.com/notebooks/data_table.ipynb>data table notebook</a>'\n",
              "            + ' to learn more about interactive tables.';\n",
              "          element.innerHTML = '';\n",
              "          dataTable['output_type'] = 'display_data';\n",
              "          await google.colab.output.renderOutput(dataTable, element);\n",
              "          const docLink = document.createElement('div');\n",
              "          docLink.innerHTML = docLinkHtml;\n",
              "          element.appendChild(docLink);\n",
              "        }\n",
              "      </script>\n",
              "    </div>\n",
              "  </div>\n",
              "  "
            ]
          },
          "metadata": {},
          "execution_count": 163
        }
      ],
      "source": [
        "auctions['exclusive'] = exclusivity[auctions['com_n']] >= 1\n",
        "auctions[auctions['exclusive']]"
      ]
    },
    {
      "cell_type": "code",
      "execution_count": null,
      "metadata": {
        "colab": {
          "base_uri": "https://localhost:8080/"
        },
        "id": "dYPnIzywutah",
        "outputId": "8cb8a811-a6e2-454a-e15a-435c1dfd3b21"
      },
      "outputs": [
        {
          "data": {
            "text/plain": [
              "480787"
            ]
          },
          "execution_count": 36,
          "metadata": {},
          "output_type": "execute_result"
        }
      ],
      "source": [
        "auctions['participant_inn'].nunique()"
      ]
    },
    {
      "cell_type": "code",
      "source": [
        "auctions[(auctions['com_n'] >= 151) & (auctions['stable']) & auctions['cartel'] & auctions['coherent'] & auctions['exclusive'] & auctions['sev_times']].groupby('com_n')['participant_inn'].nunique().value_counts()"
      ],
      "metadata": {
        "colab": {
          "base_uri": "https://localhost:8080/"
        },
        "id": "mlVMp6gv3lUs",
        "outputId": "ad125658-16d0-4032-ef43-3d83aa3722f8"
      },
      "execution_count": null,
      "outputs": [
        {
          "output_type": "execute_result",
          "data": {
            "text/plain": [
              "2    1615\n",
              "3      96\n",
              "4      11\n",
              "Name: participant_inn, dtype: int64"
            ]
          },
          "metadata": {},
          "execution_count": 93
        }
      ]
    },
    {
      "cell_type": "markdown",
      "source": [
        "Evaluate differences between suspicious and normal markets"
      ],
      "metadata": {
        "id": "NMywPcsBs0vI"
      }
    },
    {
      "cell_type": "code",
      "execution_count": null,
      "metadata": {
        "colab": {
          "base_uri": "https://localhost:8080/",
          "height": 282
        },
        "id": "hM30hWZahGr-",
        "outputId": "133ace29-e5d6-4849-e443-3392a63f83e5"
      },
      "outputs": [
        {
          "output_type": "execute_result",
          "data": {
            "text/plain": [
              "<matplotlib.legend.Legend at 0x7f1d35072d10>"
            ]
          },
          "metadata": {},
          "execution_count": 66
        },
        {
          "output_type": "display_data",
          "data": {
            "text/plain": [
              "<Figure size 432x288 with 1 Axes>"
            ],
            "image/png": "[encoded data removed]"
          },
          "metadata": {
            "needs_background": "light"
          }
        }
      ],
      "source": [
        "fig, ax = plt.subplots(1,1)\n",
        "ax.set_xlim([0,1])\n",
        "auctions[(~(auctions['exclusive'] & auctions['coherent'])) & (~auctions['cartel'])  & (auctions['com_n']>=151)& auctions['sev_times']].groupby(['com_n'])['cv_price'].mean().plot.density(color='green', ax=ax, label='Normal markets')\n",
        "auctions[(auctions['exclusive']) & (auctions['coherent']) &  (auctions['com_n'] >=151) & (auctions['cartel'])& auctions['sev_times']].groupby(['com_n'])['cv_price'].mean().plot.density(color='red', ax=ax, label='Suspicious markets')\n",
        "plt.legend()"
      ]
    },
    {
      "cell_type": "code",
      "execution_count": null,
      "metadata": {
        "colab": {
          "base_uri": "https://localhost:8080/",
          "height": 282
        },
        "id": "QPneTwDAhS6r",
        "outputId": "c4db5c44-1082-464f-afe9-cc8f0d7ee323"
      },
      "outputs": [
        {
          "output_type": "execute_result",
          "data": {
            "text/plain": [
              "<matplotlib.legend.Legend at 0x7f1d305a3950>"
            ]
          },
          "metadata": {},
          "execution_count": 67
        },
        {
          "output_type": "display_data",
          "data": {
            "text/plain": [
              "<Figure size 432x288 with 1 Axes>"
            ],
            "image/png": "[encoded data removed]"
          },
          "metadata": {
            "needs_background": "light"
          }
        }
      ],
      "source": [
        "fig, ax = plt.subplots(1,1)\n",
        "ax.set_xlim([0, 0.1])\n",
        "auctions[(~(auctions['exclusive'] & auctions['coherent'])) & (~auctions['cartel'])  & (auctions['com_n'] >= 151)& auctions['sev_times']].groupby(['com_n'])['cv_bidding'].mean().plot.density(color='green', ax=ax, label='Normal markets')\n",
        "auctions[(auctions['exclusive']) & (auctions['coherent']) &  (auctions['com_n'] >= 151) & (auctions['cartel'])& auctions['sev_times']].groupby(['com_n'])['cv_bidding'].mean().plot.density( color='red', ax=ax, label='Suspicious markets')\n",
        "plt.legend()"
      ]
    },
    {
      "cell_type": "code",
      "execution_count": null,
      "metadata": {
        "colab": {
          "base_uri": "https://localhost:8080/",
          "height": 282
        },
        "id": "Hg-PaTgkhfAj",
        "outputId": "45a7a560-ab19-464b-92ce-16b127764542"
      },
      "outputs": [
        {
          "output_type": "execute_result",
          "data": {
            "text/plain": [
              "<matplotlib.legend.Legend at 0x7ff4737ff850>"
            ]
          },
          "metadata": {},
          "execution_count": 124
        },
        {
          "output_type": "display_data",
          "data": {
            "text/plain": [
              "<Figure size 432x288 with 1 Axes>"
            ],
            "image/png": "[encoded data removed]"
          },
          "metadata": {
            "needs_background": "light"
          }
        }
      ],
      "source": [
        "fig, ax = plt.subplots(1,1)\n",
        "ax.set_xlim([0.8,1])\n",
        "auctions[(auctions['exclusive'] & auctions['coherent'] )& (~auctions['cartel'] )  & (auctions['com_n'] != -1) & auctions['won']].groupby(['com_n'])['bid_price'].mean().plot.density(color='green', ax=ax, label='Normal markets')\n",
        "auctions[(auctions['exclusive']) & (auctions['coherent']) &  (auctions['com_n'] != -1) & (auctions['cartel']) & auctions['won']].groupby(['com_n'])['bid_price'].mean().plot.density(color='red', ax=ax, label='Suspicious markets')\n",
        "plt.legend()"
      ]
    },
    {
      "cell_type": "code",
      "execution_count": null,
      "metadata": {
        "colab": {
          "base_uri": "https://localhost:8080/",
          "height": 282
        },
        "id": "zUz0f01whn9g",
        "outputId": "bee50628-aebc-4085-b049-8161bfeae741"
      },
      "outputs": [
        {
          "output_type": "execute_result",
          "data": {
            "text/plain": [
              "<matplotlib.legend.Legend at 0x7f1d33261e50>"
            ]
          },
          "metadata": {},
          "execution_count": 273
        },
        {
          "output_type": "display_data",
          "data": {
            "text/plain": [
              "<Figure size 432x288 with 1 Axes>"
            ],
            "image/png": "[encoded data removed]"
          },
          "metadata": {
            "needs_background": "light"
          }
        }
      ],
      "source": [
        "fig, ax = plt.subplots(1,1)\n",
        "ax.set_xlim([0,1])\n",
        "auctions[(~(auctions['exclusive'] & auctions['coherent'] & auctions['stable']))  & (auctions['com_n'] >= 151)& auctions['sev_times']].groupby(['com_n'])['cv_price'].mean().plot.density(color='green', ax=ax, label='Normal markets')\n",
        "auctions[(auctions['exclusive']) & (auctions['coherent']) &  (auctions['com_n'] >= 151) & (auctions['stable'])& auctions['sev_times']].groupby(['com_n'])['cv_price'].mean().plot.density(color='red', ax=ax, label='Suspicious markets')\n",
        "plt.legend()"
      ]
    },
    {
      "cell_type": "code",
      "execution_count": null,
      "metadata": {
        "colab": {
          "base_uri": "https://localhost:8080/",
          "height": 282
        },
        "id": "PLE3pcTDhxgH",
        "outputId": "f192080a-5fb3-47d7-bb1c-e0aed5656044"
      },
      "outputs": [
        {
          "output_type": "execute_result",
          "data": {
            "text/plain": [
              "<matplotlib.legend.Legend at 0x7f1d33ccf310>"
            ]
          },
          "metadata": {},
          "execution_count": 70
        },
        {
          "output_type": "display_data",
          "data": {
            "text/plain": [
              "<Figure size 432x288 with 1 Axes>"
            ],
            "image/png": "[encoded data removed]"
          },
          "metadata": {
            "needs_background": "light"
          }
        }
      ],
      "source": [
        "fig, ax = plt.subplots(1,1)\n",
        "ax.set_xlim([0,0.1])\n",
        "auctions[(~(auctions['exclusive'] & auctions['coherent'] & auctions['stable']))  & (auctions['com_n'] >= 151)& auctions['sev_times']].groupby(['com_n'])['cv_bidding'].mean().plot.density(color='green', ax=ax, label='Normal markets')\n",
        "auctions[(auctions['exclusive']) & (auctions['coherent']) &  (auctions['com_n'] >= 151) & (auctions['stable'])& auctions['sev_times']].groupby(['com_n'])['cv_bidding'].mean().plot.density(color='red', ax=ax, label='Suspicious markets')\n",
        "plt.legend()"
      ]
    },
    {
      "cell_type": "code",
      "execution_count": null,
      "metadata": {
        "colab": {
          "base_uri": "https://localhost:8080/",
          "height": 283
        },
        "id": "pACEDyVxh5PL",
        "outputId": "99c328f3-b771-4fa6-99be-770b77c831e9"
      },
      "outputs": [
        {
          "output_type": "execute_result",
          "data": {
            "text/plain": [
              "<matplotlib.legend.Legend at 0x7f1d344a5390>"
            ]
          },
          "metadata": {},
          "execution_count": 71
        },
        {
          "output_type": "display_data",
          "data": {
            "text/plain": [
              "<Figure size 432x288 with 1 Axes>"
            ],
            "image/png": "[encoded data removed]"
          },
          "metadata": {
            "needs_background": "light"
          }
        }
      ],
      "source": [
        "fig, ax = plt.subplots(1,1)\n",
        "ax.set_xlim([0.9,1])\n",
        "auctions[(~(auctions['exclusive'] & auctions['coherent'] & auctions['stable']) )  & (auctions['com_n'] >= 151) & auctions['won']& auctions['sev_times']].groupby(['com_n'])['bid_price'].mean().plot.density(color='green', ax=ax, label='Normal markets')\n",
        "auctions[(auctions['exclusive']) & (auctions['coherent']) &  (auctions['com_n'] >= 151) & (auctions['stable']) & auctions['won']& auctions['sev_times']].groupby(['com_n'])['bid_price'].mean().plot.density(color='red', ax=ax, label='Suspicious markets')\n",
        "plt.legend()"
      ]
    },
    {
      "cell_type": "code",
      "execution_count": null,
      "metadata": {
        "colab": {
          "base_uri": "https://localhost:8080/",
          "height": 282
        },
        "id": "rGg9USYOiAJJ",
        "outputId": "21ee1699-ecff-4a4c-a1c8-64356d81d667"
      },
      "outputs": [
        {
          "output_type": "execute_result",
          "data": {
            "text/plain": [
              "<matplotlib.legend.Legend at 0x7f1d33156b50>"
            ]
          },
          "metadata": {},
          "execution_count": 72
        },
        {
          "output_type": "display_data",
          "data": {
            "text/plain": [
              "<Figure size 432x288 with 1 Axes>"
            ],
            "image/png": "[encoded data removed]"
          },
          "metadata": {
            "needs_background": "light"
          }
        }
      ],
      "source": [
        "fig, ax = plt.subplots(1,1)\n",
        "ax.set_xlim([0,1])\n",
        "auctions[(~(auctions['exclusive'] & auctions['coherent'] & auctions['stable'] & auctions['cartel']))  & (auctions['com_n'] >= 151)& auctions['sev_times']].groupby(['com_n'])['cv_price'].mean().plot.density(color='green', ax=ax, label='Normal markets')\n",
        "auctions[(auctions['exclusive']) & (auctions['coherent']) &  (auctions['com_n'] >= 151) & (auctions['stable']) & (auctions['cartel'])& auctions['sev_times']].groupby(['com_n'])['cv_price'].mean().plot.density(color='red', ax=ax, label='Suspicious markets')\n",
        "plt.legend()"
      ]
    },
    {
      "cell_type": "code",
      "execution_count": null,
      "metadata": {
        "colab": {
          "base_uri": "https://localhost:8080/",
          "height": 282
        },
        "id": "KNtXUDrOiTbm",
        "outputId": "9aacce7f-92bb-4b4e-bf14-1bdced7c64ae"
      },
      "outputs": [
        {
          "output_type": "execute_result",
          "data": {
            "text/plain": [
              "<matplotlib.legend.Legend at 0x7f1d2d37f3d0>"
            ]
          },
          "metadata": {},
          "execution_count": 74
        },
        {
          "output_type": "display_data",
          "data": {
            "text/plain": [
              "<Figure size 432x288 with 1 Axes>"
            ],
            "image/png": "[encoded data removed]"
          },
          "metadata": {
            "needs_background": "light"
          }
        }
      ],
      "source": [
        "fig, ax = plt.subplots(1,1)\n",
        "ax.set_xlim([0,0.05])\n",
        "auctions[(~(auctions['exclusive'] & auctions['coherent'] & auctions['stable'] & auctions['cartel']))& auctions['sev_times'] & (auctions['com_n'] >= 151) ].groupby(['com_n'])['cv_bidding'].mean().plot.density(color='green', ax=ax, label='Normal markets')\n",
        "auctions[(auctions['exclusive']) & (auctions['coherent'])  & (auctions['stable']) & (auctions['cartel'])& auctions['sev_times'] & (auctions['com_n'] >= 151)].groupby(['com_n'])['cv_bidding'].mean().plot.density(color='red', ax=ax, label='Suspicious markets')\n",
        "plt.legend()"
      ]
    },
    {
      "cell_type": "code",
      "source": [
        "fig, ax = plt.subplots(1,1)\n",
        "ax.set_xlim([0,0.5])\n",
        "auctions[(~(auctions['exclusive'] & auctions['coherent'] & auctions['stable']))  &  (auctions['com_n'] >=151)].groupby(['com_n'])['cv_date'].mean().plot.density(color='green', ax=ax, label='Normal markets')\n",
        "auctions[(auctions['exclusive']) & (auctions['coherent']) &  (auctions['com_n'] >=151) & (auctions['stable']) ].groupby(['com_n'])['cv_date'].mean().plot.density(color='red', ax=ax, label='Suspicious markets')\n",
        "plt.legend()"
      ],
      "metadata": {
        "colab": {
          "base_uri": "https://localhost:8080/",
          "height": 282
        },
        "id": "_FuBPkpnE_Pa",
        "outputId": "e07fef22-55ee-4ade-da81-be0983eb7c04"
      },
      "execution_count": null,
      "outputs": [
        {
          "output_type": "execute_result",
          "data": {
            "text/plain": [
              "<matplotlib.legend.Legend at 0x7ff471ff2b90>"
            ]
          },
          "metadata": {},
          "execution_count": 185
        },
        {
          "output_type": "display_data",
          "data": {
            "text/plain": [
              "<Figure size 432x288 with 1 Axes>"
            ],
            "image/png": "[encoded data removed]"
          },
          "metadata": {
            "needs_background": "light"
          }
        }
      ]
    },
    {
      "cell_type": "code",
      "execution_count": null,
      "metadata": {
        "colab": {
          "base_uri": "https://localhost:8080/",
          "height": 284
        },
        "id": "WT82iGGLictg",
        "outputId": "0af33b06-7645-498d-abfc-519551833bb0"
      },
      "outputs": [
        {
          "output_type": "execute_result",
          "data": {
            "text/plain": [
              "<matplotlib.legend.Legend at 0x7f1d2d354ed0>"
            ]
          },
          "metadata": {},
          "execution_count": 73
        },
        {
          "output_type": "display_data",
          "data": {
            "text/plain": [
              "<Figure size 432x288 with 1 Axes>"
            ],
            "image/png": "[encoded data removed]"
          },
          "metadata": {
            "needs_background": "light"
          }
        }
      ],
      "source": [
        "fig, ax = plt.subplots(1,1)\n",
        "ax.set_xlim([0.8,1])\n",
        "auctions[(~(auctions['exclusive'] & auctions['coherent'] & auctions['stable'] & auctions['cartel'] )& auctions['won'])  & (auctions['com_n'] >= 150)].groupby(['com_n'])['bid_price'].mean().plot.density(color='green', ax=ax, label='Normal markets')\n",
        "auctions[(auctions['exclusive']) & (auctions['coherent']) &  (auctions['com_n'] >= 150) & (auctions['stable']) & (auctions['cartel']) & auctions['won']& auctions['sev_times']].groupby(['com_n'])['bid_price'].mean().plot.density(color='red', ax=ax, label='Suspicious markets')\n",
        "plt.legend()"
      ]
    },
    {
      "cell_type": "code",
      "execution_count": null,
      "metadata": {
        "colab": {
          "base_uri": "https://localhost:8080/"
        },
        "id": "pvBMJ_BfqJlW",
        "outputId": "e9626edf-d92b-42aa-c02b-44ece4c39563"
      },
      "outputs": [
        {
          "output_type": "stream",
          "name": "stdout",
          "text": [
            "0.9383662487314336 0.11245501551820687 0.9773569108198228\n",
            "0.9459380126291413 0.09077949023258379 0.9748306635723853\n"
          ]
        },
        {
          "output_type": "execute_result",
          "data": {
            "text/plain": [
              "MannwhitneyuResult(statistic=13369117.5, pvalue=0.01723771072616993)"
            ]
          },
          "metadata": {},
          "execution_count": 149
        }
      ],
      "source": [
        "from scipy.stats import mannwhitneyu\n",
        "auctions = auctions[auctions['com_n'] != -1]\n",
        "print(auctions[(auctions['stable']) & (auctions['won'])& (auctions['com_n'] >=151)& auctions['sev_times']].groupby(['com_n'])['bid_price'].mean().mean(), auctions[(auctions['stable']) & (auctions['won'])& (auctions['com_n'] >=151)& auctions['sev_times']].groupby(['com_n'])['bid_price'].mean().std(), auctions[(auctions['stable']) & (auctions['won'])& (auctions['com_n'] >=151)& auctions['sev_times']].groupby(['com_n'])['bid_price'].mean().median())\n",
        "print(auctions[(~auctions['stable'])& (auctions['won'])& (auctions['com_n'] >=151)& auctions['sev_times']].groupby(['com_n'])['bid_price'].mean().mean(), auctions[~(auctions['stable'])& (auctions['won'])& (auctions['com_n'] >=151)& auctions['sev_times']].groupby(['com_n'])['bid_price'].mean().std(), auctions[(~auctions['stable']) & (auctions['won'])& (auctions['com_n'] >=151)& auctions['sev_times']].groupby(['com_n'])['bid_price'].mean().median())\n",
        "mannwhitneyu(auctions[(auctions['stable'])& (auctions['won'])& (auctions['com_n'] >=151)& auctions['sev_times']].groupby(['com_n'])['bid_price'].mean(), auctions[(~auctions['stable'])& (auctions['won'])& (auctions['com_n'] >=151)& auctions['sev_times']].groupby(['com_n'])['bid_price'].mean())"
      ]
    },
    {
      "cell_type": "code",
      "execution_count": null,
      "metadata": {
        "colab": {
          "base_uri": "https://localhost:8080/"
        },
        "id": "XqWQjJOHzf1Y",
        "outputId": "831b36a5-73e8-411d-c953-2dc4f78c8e2a"
      },
      "outputs": [
        {
          "output_type": "stream",
          "name": "stdout",
          "text": [
            "0.2696829622719108 0.23813471735659586 0.21990897563296752\n",
            "0.413049725850689 0.268268795894072 0.3671049621294794\n"
          ]
        },
        {
          "output_type": "execute_result",
          "data": {
            "text/plain": [
              "MannwhitneyuResult(statistic=9000579.5, pvalue=3.931607302040118e-202)"
            ]
          },
          "metadata": {},
          "execution_count": 150
        }
      ],
      "source": [
        "from scipy.stats import mannwhitneyu\n",
        "auctions = auctions[auctions['com_n'] != -1]\n",
        "print(auctions[(auctions['stable']) & (auctions['com_n'] >=151)& auctions['sev_times']].groupby(['com_n'])['cv_price'].mean().mean(), auctions[(auctions['stable']) & (auctions['com_n'] >=151)& auctions['sev_times']].groupby(['com_n'])['cv_price'].mean().std(), auctions[(auctions['stable'])  & (auctions['com_n'] >=151)& auctions['sev_times']].groupby(['com_n'])['cv_price'].mean().median())\n",
        "print(auctions[(~auctions['stable'])& (auctions['com_n'] >=151)& auctions['sev_times']].groupby(['com_n'])['cv_price'].mean().mean(), auctions[~(auctions['stable'])& (auctions['com_n'] >=151)& auctions['sev_times']].groupby(['com_n'])['cv_price'].mean().std(), auctions[(~auctions['stable'])  & (auctions['com_n'] >=151)& auctions['sev_times']].groupby(['com_n'])['cv_price'].mean().median())\n",
        "mannwhitneyu(auctions[(auctions['stable'])& (auctions['com_n'] >=151)& auctions['sev_times']].groupby(['com_n'])['cv_price'].mean(), auctions[(~auctions['stable'])& (auctions['com_n'] >=151)& auctions['sev_times']].groupby(['com_n'])['cv_price'].mean())"
      ]
    },
    {
      "cell_type": "code",
      "execution_count": null,
      "metadata": {
        "colab": {
          "base_uri": "https://localhost:8080/"
        },
        "id": "BTp5MSRkztx3",
        "outputId": "0b9d0d1e-b439-46fe-961a-1171edfe95b4"
      },
      "outputs": [
        {
          "output_type": "stream",
          "name": "stdout",
          "text": [
            "0.038133432720263837 0.10600741627261262 0.007944650670093256\n",
            "0.04286910882061732 0.11246425969873391 0.011884147582927237\n"
          ]
        },
        {
          "output_type": "execute_result",
          "data": {
            "text/plain": [
              "MannwhitneyuResult(statistic=12847501.0, pvalue=2.0430589975100988e-08)"
            ]
          },
          "metadata": {},
          "execution_count": 151
        }
      ],
      "source": [
        "auctions = auctions[auctions['com_n'] != -1]\n",
        "print(auctions[(auctions['stable'])  & (auctions['com_n'] >=151)& auctions['sev_times']& auctions['sev_times']].groupby(['com_n'])['cv_bidding'].mean().mean(), auctions[(auctions['stable'])  & (auctions['com_n'] >=151)].groupby(['com_n'])['cv_bidding'].mean().std(), auctions[(auctions['stable']) & (auctions['won']) & (auctions['com_n'] >=151)].groupby(['com_n'])['cv_bidding'].mean().median())\n",
        "print(auctions[(~auctions['stable']) & (auctions['com_n'] >=151)& auctions['sev_times']].groupby(['com_n'])['cv_bidding'].mean().mean(), auctions[~(auctions['stable']) & (auctions['com_n'] >=151)& auctions['sev_times']].groupby(['com_n'])['cv_bidding'].mean().std(), auctions[(~auctions['stable']) & (auctions['won']) & (auctions['com_n'] >=151)& auctions['sev_times']].groupby(['com_n'])['cv_bidding'].mean().median())\n",
        "mannwhitneyu(auctions[(auctions['stable']) & (auctions['com_n'] >=151)& auctions['sev_times']].groupby(['com_n'])['cv_bidding'].mean(), auctions[(~auctions['stable']) & (auctions['com_n'] >=151)& auctions['sev_times']].groupby(['com_n'])['cv_bidding'].mean())"
      ]
    },
    {
      "cell_type": "code",
      "execution_count": null,
      "metadata": {
        "colab": {
          "base_uri": "https://localhost:8080/"
        },
        "id": "mWzXMSH11lKY",
        "outputId": "b8e96561-2172-416d-e59f-13857ed3be55"
      },
      "outputs": [
        {
          "output_type": "stream",
          "name": "stdout",
          "text": [
            "0.9472861331078093 0.10136992239706967 0.9818925751548158\n",
            "0.9393629395902696 0.10399209887921149 0.975\n",
            "MannwhitneyuResult(statistic=10584277.5, pvalue=6.483965648334562e-17)\n",
            "0.3277520923802639 0.26797205193925294 0.281188661524475\n",
            "0.20399689814453847 0.25946910897604025 0.2989984141101332\n",
            "MannwhitneyuResult(statistic=11819767.0, pvalue=0.0)\n",
            "0.03548723714894852 0.0953650928925172 0.007188371953452161\n",
            "0.04241275148857817 0.11483447017373809 0.011103112756020779\n",
            "MannwhitneyuResult(statistic=10504983.5, pvalue=5.0874607760637355e-19)\n",
            "0.98460383551617 0.04728184743717938 0.9999990000010001\n",
            "0.9533727485139485 0.09236626334901 0.9999990000010001\n",
            "MannwhitneyuResult(statistic=9627668.5, pvalue=1.0907785472246402e-53)\n",
            "0.98460383551617 0.04728184743717938 0.9999990000010001\n",
            "0.9533727485139485 0.09236626334901 0.9999990000010001\n",
            "MannwhitneyuResult(statistic=9627668.5, pvalue=1.0907785472246402e-53)\n",
            "0.9999841255409944 0.0005238757032151278 1.0\n",
            "0.9995483752670612 0.004438047299308177 1.0\n"
          ]
        },
        {
          "output_type": "execute_result",
          "data": {
            "text/plain": [
              "MannwhitneyuResult(statistic=11588941.5, pvalue=3.713494597202278e-12)"
            ]
          },
          "metadata": {},
          "execution_count": 78
        }
      ],
      "source": [
        "print(auctions[(auctions['cartel']) & (auctions['won']) & (auctions['com_n'] >=151)& auctions['sev_times']].groupby(['com_n'])['bid_price'].mean().mean(), auctions[(auctions['cartel']) & (auctions['won']) & (auctions['com_n'] >=151)& auctions['sev_times']].groupby(['com_n'])['bid_price'].mean().std(), auctions[(auctions['cartel']) & (auctions['won'])].groupby(['com_n'])['bid_price'].mean().median())\n",
        "print(auctions[(~auctions['cartel'])& (auctions['won']) & (auctions['com_n'] >=151)& auctions['sev_times']].groupby(['com_n'])['bid_price'].mean().mean(), auctions[~(auctions['cartel'])& (auctions['won']) & (auctions['com_n'] >=151)& auctions['sev_times']].groupby(['com_n'])['bid_price'].mean().std(), auctions[(~auctions['cartel']) & (auctions['won'])].groupby(['com_n'])['bid_price'].mean().median())\n",
        "print(mannwhitneyu(auctions[(auctions['cartel'])& (auctions['won']) & (auctions['com_n'] >=151)& auctions['sev_times']].groupby(['com_n'])['bid_price'].mean(), auctions[(~auctions['cartel'])& (auctions['won']) & (auctions['com_n'] >=151)& auctions['sev_times']].groupby(['com_n'])['bid_price'].mean()))\n",
        "\n",
        "print(auctions[(auctions['cartel']) & (auctions['com_n'] >=151)& auctions['sev_times']].groupby(['com_n'])['cv_price'].mean().mean(), auctions[(auctions['cartel'])& (auctions['com_n'] >=151)& auctions['sev_times'] ].groupby(['com_n'])['cv_price'].mean().std(), auctions[(auctions['cartel'])& (auctions['com_n'] >=151)& auctions['sev_times'] ].groupby(['com_n'])['cv_price'].mean().median())\n",
        "print(auctions[(~auctions['cartel'])].groupby(['com_n'])['cv_price'].mean().mean(), auctions[~(auctions['cartel'])& (auctions['com_n'] >=151)& auctions['sev_times']].groupby(['com_n'])['cv_price'].mean().std(), auctions[(~auctions['cartel']) & (auctions['com_n'] >=151)& auctions['sev_times']].groupby(['com_n'])['cv_price'].mean().median())\n",
        "print(mannwhitneyu(auctions[(auctions['cartel'])].groupby(['com_n'])['cv_price'].mean(), auctions[(~auctions['cartel']) & (auctions['com_n'] >=151)& auctions['sev_times']].groupby(['com_n'])['cv_price'].mean()))\n",
        "\n",
        "print(auctions[(auctions['cartel']) & (auctions['com_n'] >=151)& auctions['sev_times']].groupby(['com_n'])['cv_bidding'].mean().mean(), auctions[(auctions['cartel']) & (auctions['com_n'] >=151)& auctions['sev_times']].groupby(['com_n'])['cv_bidding'].mean().std(), auctions[(auctions['cartel'])& (auctions['com_n'] >=151)& auctions['sev_times'] ].groupby(['com_n'])['cv_bidding'].mean().median())\n",
        "print(auctions[(~auctions['cartel']) & (auctions['com_n'] >=151)& auctions['sev_times']].groupby(['com_n'])['cv_bidding'].mean().mean(), auctions[~(auctions['cartel'])& (auctions['com_n'] >=151)& auctions['sev_times']].groupby(['com_n'])['cv_bidding'].mean().std(), auctions[(~auctions['cartel']) & (auctions['com_n'] >=151)& auctions['sev_times']].groupby(['com_n'])['cv_bidding'].mean().median())\n",
        "print(mannwhitneyu(auctions[(auctions['cartel'])& (auctions['com_n'] >=151)& auctions['sev_times']].groupby(['com_n'])['cv_bidding'].mean(), auctions[(~auctions['cartel'])& (auctions['com_n'] >=151)& auctions['sev_times']].groupby(['com_n'])['cv_bidding'].mean()))\n",
        "\n",
        "print(auctions[(auctions['cartel']) & (auctions['com_n'] >=151)& auctions['sev_times']].groupby(['com_n'])['coherence'].mean().mean(), auctions[(auctions['cartel']) & (auctions['com_n'] >=151)& auctions['sev_times']].groupby(['com_n'])['coherence'].mean().std(), auctions[(auctions['cartel'])& (auctions['com_n'] >=151)& auctions['sev_times'] ].groupby(['com_n'])['coherence'].mean().median())\n",
        "print(auctions[(~auctions['cartel']) & (auctions['com_n'] >=151)& auctions['sev_times']].groupby(['com_n'])['coherence'].mean().mean(), auctions[~(auctions['cartel'])& (auctions['com_n'] >=151)& auctions['sev_times']].groupby(['com_n'])['coherence'].mean().std(), auctions[(~auctions['cartel']) & (auctions['com_n'] >=151)& auctions['sev_times']].groupby(['com_n'])['coherence'].mean().median())\n",
        "print(mannwhitneyu(auctions[(auctions['cartel'])& (auctions['com_n'] >=151)& auctions['sev_times']].groupby(['com_n'])['coherence'].mean(), auctions[(~auctions['cartel'])& (auctions['com_n'] >=151)& auctions['sev_times']].groupby(['com_n'])['coherence'].mean()))\n",
        "\n",
        "print(auctions[(auctions['cartel']) & (auctions['com_n'] >=151)& auctions['sev_times']].groupby(['com_n'])['coherence'].mean().mean(), auctions[(auctions['cartel']) & (auctions['com_n'] >=151)& auctions['sev_times']].groupby(['com_n'])['coherence'].mean().std(), auctions[(auctions['cartel'])& (auctions['com_n'] >=151)& auctions['sev_times'] ].groupby(['com_n'])['coherence'].mean().median())\n",
        "print(auctions[(~auctions['cartel']) & (auctions['com_n'] >=151)& auctions['sev_times']].groupby(['com_n'])['coherence'].mean().mean(), auctions[~(auctions['cartel'])& (auctions['com_n'] >=151)& auctions['sev_times']].groupby(['com_n'])['coherence'].mean().std(), auctions[(~auctions['cartel']) & (auctions['com_n'] >=151)& auctions['sev_times']].groupby(['com_n'])['coherence'].mean().median())\n",
        "print(mannwhitneyu(auctions[(auctions['cartel'])& (auctions['com_n'] >=151)& auctions['sev_times']].groupby(['com_n'])['coherence'].mean(), auctions[(~auctions['cartel'])& (auctions['com_n'] >=151)& auctions['sev_times']].groupby(['com_n'])['coherence'].mean()))\n",
        "\n",
        "print(auctions[(auctions['cartel']) & (auctions['com_n'] >=151)& auctions['sev_times']].groupby(['com_n'])['exclusivity'].mean().mean(), auctions[(auctions['cartel']) & (auctions['com_n'] >=151)& auctions['sev_times']].groupby(['com_n'])['exclusivity'].mean().std(), auctions[(auctions['cartel'])& (auctions['com_n'] >=151)& auctions['sev_times'] ].groupby(['com_n'])['exclusivity'].mean().median())\n",
        "print(auctions[(~auctions['cartel']) & (auctions['com_n'] >=151)& auctions['sev_times']].groupby(['com_n'])['exclusivity'].mean().mean(), auctions[~(auctions['cartel'])& (auctions['com_n'] >=151)& auctions['sev_times']].groupby(['com_n'])['exclusivity'].mean().std(), auctions[(~auctions['cartel']) & (auctions['com_n'] >=151)& auctions['sev_times']].groupby(['com_n'])['exclusivity'].mean().median())\n",
        "mannwhitneyu(auctions[(auctions['cartel'])& (auctions['com_n'] >=151)& auctions['sev_times']].groupby(['com_n'])['exclusivity'].mean(), auctions[(~auctions['cartel'])& (auctions['com_n'] >=151)& auctions['sev_times']].groupby(['com_n'])['exclusivity'].mean())\n",
        "\n",
        "\n"
      ]
    },
    {
      "cell_type": "code",
      "source": [
        "print(auctions[(auctions['cartel']) & (auctions['com_n'] >=151)& auctions['sev_times']].groupby(['com_n'])['cv_date'].mean().mean(), auctions[(auctions['cartel']) & (auctions['com_n'] >=151)& auctions['sev_times']].groupby(['com_n'])['cv_date'].mean().std(), auctions[(auctions['cartel'])& (auctions['com_n'] >=151)& auctions['sev_times'] ].groupby(['com_n'])['cv_date'].mean().median())\n",
        "print(auctions[(~auctions['cartel']) & (auctions['com_n'] >=151)& auctions['sev_times']].groupby(['com_n'])['cv_date'].mean().mean(), auctions[~(auctions['cartel'])& (auctions['com_n'] >=151)& auctions['sev_times']].groupby(['com_n'])['cv_date'].mean().std(), auctions[(~auctions['cartel']) & (auctions['com_n'] >=151)& auctions['sev_times']].groupby(['com_n'])['cv_date'].mean().median())\n",
        "print(mannwhitneyu(auctions[(auctions['cartel'])& (auctions['com_n'] >=151)& auctions['sev_times']].groupby(['com_n'])['cv_date'].mean(), auctions[(~auctions['cartel'])& (auctions['com_n'] >=151)& auctions['sev_times']].groupby(['com_n'])['cv_date'].mean()))"
      ],
      "metadata": {
        "colab": {
          "base_uri": "https://localhost:8080/"
        },
        "id": "wZc2FmRdIbOf",
        "outputId": "0fae3735-bc5c-42a6-f56a-d3bbc88ae387"
      },
      "execution_count": null,
      "outputs": [
        {
          "output_type": "stream",
          "name": "stdout",
          "text": [
            "0.5135061212790457 0.4790233224171222 0.391276723899041\n",
            "0.5232597221381898 0.4391378310031327 0.44852183691306413\n",
            "MannwhitneyuResult(statistic=11317915.5, pvalue=0.0007815742204398982)\n"
          ]
        }
      ]
    },
    {
      "cell_type": "code",
      "execution_count": null,
      "metadata": {
        "colab": {
          "base_uri": "https://localhost:8080/"
        },
        "id": "Da44pkic2m3r",
        "outputId": "824ba603-76cd-49ba-ca16-8e49a63215f0"
      },
      "outputs": [
        {
          "name": "stdout",
          "output_type": "stream",
          "text": [
            "0.9305713574176674 0.13018404289733185\n",
            "0.9403623256316911 0.10039685995878948\n",
            "MannwhitneyuResult(statistic=38776000.5, pvalue=3.548671589214229e-12)\n",
            "0.43684393902920443 0.3715056431928755\n",
            "0.556339120680807 0.3485540487853924\n",
            "MannwhitneyuResult(statistic=16751652.5, pvalue=0.0)\n",
            "185.22977595838145 10781.873526371532\n",
            "877.2049995281823 18205.50161971677\n"
          ]
        },
        {
          "data": {
            "text/plain": [
              "MannwhitneyuResult(statistic=16849696.0, pvalue=0.0)"
            ]
          },
          "execution_count": 175,
          "metadata": {},
          "output_type": "execute_result"
        }
      ],
      "source": [
        "print(auctions[(auctions['exclusive'] & auctions['coherent'] & auctions['stable']) & (auctions['won'])].groupby(['com_n'])['bid_price'].mean().mean(), auctions[(auctions['exclusive'] & auctions['coherent'] & auctions['stable']) & (auctions['won'])].groupby(['com_n'])['bid_price'].mean().std()), auctions[(auctions['exclusive'] & auctions['coherent'] & auctions['cartel']) & (auctions['won'])].groupby(['com_n'])['bid_price'].mean().median())\n",
        "print(auctions[~(auctions['exclusive'] & auctions['coherent'] & auctions['stable'])& (auctions['won'])].groupby(['com_n'])['bid_price'].mean().mean(), auctions[~(auctions['exclusive'] & auctions['coherent'] & auctions['stable'])& (auctions['won'])].groupby(['com_n'])['bid_price'].mean().std())\n",
        "print(mannwhitneyu(auctions[(auctions['exclusive'] & auctions['coherent'] & auctions['stable'])& (auctions['won'])].groupby(['com_n'])['bid_price'].mean(), auctions[~(auctions['exclusive'] & auctions['coherent'] & auctions['stable'])& (auctions['won'])].groupby(['com_n'])['bid_price'].mean()))\n",
        "\n",
        "print(auctions[(auctions['exclusive'] & auctions['coherent'] & auctions['stable']) ].groupby(['com_n'])['cv_price'].mean().mean(), auctions[(auctions['exclusive'] & auctions['coherent'] & auctions['stable']) ].groupby(['com_n'])['cv_price'].mean().std())\n",
        "print(auctions[~(auctions['exclusive'] & auctions['coherent'] & auctions['stable'])].groupby(['com_n'])['cv_price'].mean().mean(), auctions[~(auctions['exclusive'] & auctions['coherent'] & auctions['stable'])].groupby(['com_n'])['cv_price'].mean().std())\n",
        "print(mannwhitneyu(auctions[(auctions['exclusive'] & auctions['coherent'] & auctions['stable'])].groupby(['com_n'])['cv_price'].mean(), auctions[~(auctions['exclusive'] & auctions['coherent'] & auctions['stable'])].groupby(['com_n'])['cv_price'].mean()))\n",
        "\n",
        "print(auctions[(auctions['exclusive'] & auctions['coherent'] & auctions['stable']) ].groupby(['com_n'])['cv_bidding'].mean().mean(), auctions[(auctions['exclusive'] & auctions['coherent'] & auctions['stable']) ].groupby(['com_n'])['cv_bidding'].mean().std())\n",
        "print(auctions[~(auctions['exclusive'] & auctions['coherent'] & auctions['stable'])].groupby(['com_n'])['cv_bidding'].mean().mean(), auctions[~(auctions['exclusive'] & auctions['coherent'] & auctions['stable'])].groupby(['com_n'])['cv_bidding'].mean().std())\n",
        "mannwhitneyu(auctions[(auctions['exclusive'] & auctions['coherent'] & auctions['stable'])].groupby(['com_n'])['cv_bidding'].mean(), auctions[~(auctions['exclusive'] & auctions['coherent'] & auctions['stable'])].groupby(['com_n'])['cv_bidding'].mean())"
      ]
    },
    {
      "cell_type": "code",
      "source": [
        "print(auctions[(auctions['coherent'] & auctions['exclusive'] & auctions['cartel']) & (auctions['com_n'] >=151)& auctions['sev_times']].groupby(['com_n'])['cv_date'].mean().mean(), auctions[(auctions['coherent'] & auctions['exclusive'] & auctions['cartel']) & (auctions['com_n'] >=151)& auctions['sev_times']].groupby(['com_n'])['cv_date'].mean().std(), auctions[(auctions['coherent'] & auctions['exclusive'] & auctions['cartel'])& (auctions['com_n'] >=151)& auctions['sev_times'] ].groupby(['com_n'])['cv_date'].mean().median())\n",
        "print(auctions[(~auctions['coherent'] & auctions['exclusive'] & auctions['cartel']) & (auctions['com_n'] >=151)& auctions['sev_times']].groupby(['com_n'])['cv_date'].mean().mean(), auctions[~(auctions['coherent'] & auctions['exclusive'] & auctions['cartel'])& (auctions['com_n'] >=151)& auctions['sev_times']].groupby(['com_n'])['cv_date'].mean().std(), auctions[(~auctions['coherent'] & auctions['exclusive'] & auctions['cartel']) & (auctions['com_n'] >=151)& auctions['sev_times']].groupby(['com_n'])['cv_date'].mean().median())\n",
        "print(mannwhitneyu(auctions[(auctions['coherent'] & auctions['exclusive'] & auctions['cartel'])& (auctions['com_n'] >=151)& auctions['sev_times']].groupby(['com_n'])['cv_date'].mean(), auctions[(~auctions['coherent'] & auctions['exclusive'] & auctions['cartel'])& (auctions['com_n'] >=151)& auctions['sev_times']].groupby(['com_n'])['cv_date'].mean()))"
      ],
      "metadata": {
        "colab": {
          "base_uri": "https://localhost:8080/"
        },
        "id": "ZkZ9DBJlFM1N",
        "outputId": "9596363a-5cb2-41c8-f74b-5d92c5c44655"
      },
      "execution_count": null,
      "outputs": [
        {
          "output_type": "stream",
          "name": "stdout",
          "text": [
            "0.5245896543797637 0.5015868789502511 0.3738547661579359\n",
            "0.4622393276519645 0.4335534554530619 0.42433429894070396\n",
            "MannwhitneyuResult(statistic=740101.0, pvalue=0.3065220375427514)\n"
          ]
        }
      ]
    },
    {
      "cell_type": "code",
      "source": [
        "print(auctions[(auctions['coherent'] & auctions['exclusive'] & auctions['stable']) & (auctions['com_n'] >=151)].groupby(['com_n'])['cv_date'].mean().mean(), auctions[(auctions['coherent'] & auctions['exclusive'] & auctions['stable']) & (auctions['com_n'] >=151)].groupby(['com_n'])['cv_date'].mean().std(), auctions[(auctions['coherent'] & auctions['exclusive'] & auctions['stable'])& (auctions['com_n'] >=151) ].groupby(['com_n'])['cv_date'].mean().median())\n",
        "print(auctions[(~auctions['coherent'] & auctions['exclusive'] & auctions['stable']) & (auctions['com_n'] >=151)].groupby(['com_n'])['cv_date'].mean().mean(), auctions[~(auctions['coherent'] & auctions['exclusive'] & auctions['stable'])& (auctions['com_n'] >=151)].groupby(['com_n'])['cv_date'].mean().std(), auctions[(~auctions['coherent'] & auctions['exclusive'] & auctions['stable']) & (auctions['com_n'] >=151)].groupby(['com_n'])['cv_date'].mean().median())\n",
        "print(mannwhitneyu(auctions[(auctions['coherent'] & auctions['exclusive'] & auctions['stable'])& (auctions['com_n'] >=151)].groupby(['com_n'])['cv_date'].mean(), auctions[(~auctions['coherent'] & auctions['exclusive'] & auctions['stable'])& (auctions['com_n'] >=151)].groupby(['com_n'])['cv_date'].mean()))"
      ],
      "metadata": {
        "colab": {
          "base_uri": "https://localhost:8080/"
        },
        "id": "oCZ5ciqVKvfa",
        "outputId": "22a22ba9-e505-43d4-8581-a7b49ab41ab0"
      },
      "execution_count": null,
      "outputs": [
        {
          "output_type": "stream",
          "name": "stdout",
          "text": [
            "0.5186909868341943 0.5057830188821567 0.3478537677013489\n",
            "0.5179541798576989 0.417459821514699 0.4667993975885293\n",
            "MannwhitneyuResult(statistic=10101857.5, pvalue=1.8882407815571257e-07)\n"
          ]
        }
      ]
    },
    {
      "cell_type": "code",
      "execution_count": null,
      "metadata": {
        "colab": {
          "base_uri": "https://localhost:8080/"
        },
        "id": "ZE-37PQV39l3",
        "outputId": "b602b2ca-c3d6-4ee9-df68-cda9669c7a37"
      },
      "outputs": [
        {
          "output_type": "stream",
          "name": "stdout",
          "text": [
            "0.9493569929430921 0.09305335579374031 0.9820315455006534\n",
            "0.9349921848174357 0.10020996544772284 0.9741099075992615\n",
            "MannwhitneyuResult(statistic=3296631.0, pvalue=5.846606180386691e-35)\n",
            "0.34231582194023985 0.2768479887642775 0.42695091463905704\n",
            "0.34167460359215557 0.23596095168549266 0.46820735999211455\n",
            "MannwhitneyuResult(statistic=3929799.0, pvalue=0.018305233716752856)\n",
            "0.03563009631117769 0.09631532911297709 0.007035888369980392\n",
            "0.043875307621782794 0.09989412457970845 0.01104217924549557\n"
          ]
        },
        {
          "output_type": "execute_result",
          "data": {
            "text/plain": [
              "MannwhitneyuResult(statistic=3204393.5, pvalue=1.8651930110030064e-43)"
            ]
          },
          "metadata": {},
          "execution_count": 81
        }
      ],
      "source": [
        "print(auctions[(auctions['exclusive'] & auctions['coherent'] & auctions['cartel']&(auctions['com_n'] >=151)& auctions['sev_times']) & (auctions['won'])].groupby(['com_n'])['bid_price'].mean().mean(), auctions[(auctions['exclusive'] & auctions['coherent'] & auctions['cartel']) & (auctions['won'])&(auctions['com_n'] >=151)& auctions['sev_times']].groupby(['com_n'])['bid_price'].mean().std(), auctions[(auctions['exclusive'] & auctions['coherent'] & auctions['cartel']) & (auctions['won'])&(auctions['com_n'] >=151)& auctions['sev_times']].groupby(['com_n'])['bid_price'].mean().median())\n",
        "print(auctions[(~(auctions['exclusive'] & auctions['coherent'])) & (~auctions['cartel'])& (auctions['won'])&(auctions['com_n'] >=151)& auctions['sev_times']].groupby(['com_n'])['bid_price'].mean().mean(), auctions[(~(auctions['exclusive'] & auctions['coherent'])) & (~auctions['cartel'])& (auctions['won'])&(auctions['com_n'] >=151)& auctions['sev_times']].groupby(['com_n'])['bid_price'].mean().std(), auctions[~(auctions['exclusive'] & auctions['coherent'] & auctions['cartel']) & (auctions['won'])&(auctions['com_n'] >=151)& auctions['sev_times']].groupby(['com_n'])['bid_price'].mean().median())\n",
        "print(mannwhitneyu(auctions[(auctions['coherent'] & auctions['cartel'])& (auctions['won'])&(auctions['com_n'] >=151)& auctions['sev_times']].groupby(['com_n'])['bid_price'].mean(), auctions[(~(auctions['exclusive'] & auctions['coherent'])) & (~auctions['cartel']&(auctions['com_n'] >=151)& auctions['sev_times']) & (auctions['won'])].groupby(['com_n'])['bid_price'].mean()))\n",
        "\n",
        "print(auctions[(auctions['exclusive'] & auctions['coherent'] & auctions['cartel']) &(auctions['com_n'] >=151)& auctions['sev_times']].groupby(['com_n'])['cv_price'].mean().mean(), auctions[(auctions['exclusive'] & auctions['coherent'] & auctions['cartel']) &(auctions['com_n'] >=151)& auctions['sev_times']].groupby(['com_n'])['cv_price'].mean().std(), auctions[(auctions['exclusive'] & auctions['coherent'] & auctions['cartel']) & (auctions['won'])&(auctions['com_n'] >=151)& auctions['sev_times']].groupby(['com_n'])['cv_price'].mean().median())\n",
        "print(auctions[(~(auctions['exclusive'] & auctions['coherent'])) & (~auctions['cartel'])&(auctions['com_n'] >=151)& auctions['sev_times']].groupby(['com_n'])['cv_price'].mean().mean(), auctions[(~(auctions['exclusive'] & auctions['coherent'])) & (~auctions['cartel'])&(auctions['com_n'] >=151)& auctions['sev_times']].groupby(['com_n'])['cv_price'].mean().std(), auctions[~(auctions['exclusive'] & auctions['coherent'] & auctions['cartel']) & (auctions['won'])&(auctions['com_n'] >=151)& auctions['sev_times']].groupby(['com_n'])['cv_price'].mean().median())\n",
        "print(mannwhitneyu(auctions[(auctions['exclusive'] & auctions['coherent'] & auctions['cartel'])&(auctions['com_n'] >=151)& auctions['sev_times']].groupby(['com_n'])['cv_price'].mean(), auctions[(~(auctions['exclusive'] & auctions['coherent'])) & (~auctions['cartel'])&(auctions['com_n'] >=151)& auctions['sev_times']].groupby(['com_n'])['cv_price'].mean()))\n",
        "\n",
        "print(auctions[(auctions['exclusive'] & auctions['coherent'] & auctions['cartel']) &(auctions['com_n'] >=151)& auctions['sev_times']].groupby(['com_n'])['cv_bidding'].mean().mean(), auctions[(auctions['exclusive'] & auctions['coherent'] & auctions['cartel'])&(auctions['com_n'] >=151)& auctions['sev_times'] ].groupby(['com_n'])['cv_bidding'].mean().std(), auctions[(auctions['exclusive'] & auctions['coherent'] & auctions['cartel']) & (auctions['won'])&(auctions['com_n'] >=151)& auctions['sev_times']].groupby(['com_n'])['cv_bidding'].mean().median())\n",
        "print(auctions[(~(auctions['exclusive'] & auctions['coherent'])) & (~auctions['cartel'])&(auctions['com_n'] >=151)& auctions['sev_times']].groupby(['com_n'])['cv_bidding'].mean().mean(), auctions[(~(auctions['exclusive'] & auctions['coherent'])) & (~auctions['cartel'])&(auctions['com_n'] >=151)& auctions['sev_times']].groupby(['com_n'])['cv_bidding'].mean().std(), auctions[~(auctions['exclusive'] & auctions['coherent'] & auctions['cartel']) & (auctions['won'])&(auctions['com_n'] >=151)& auctions['sev_times']].groupby(['com_n'])['cv_bidding'].mean().median())\n",
        "mannwhitneyu(auctions[(auctions['exclusive'] & auctions['coherent'] & auctions['cartel'])&(auctions['com_n'] >=151)& auctions['sev_times']].groupby(['com_n'])['cv_bidding'].mean(), auctions[(~(auctions['exclusive'] & auctions['coherent'])) & (~auctions['cartel'])&(auctions['com_n'] >=151)& auctions['sev_times']].groupby(['com_n'])['cv_bidding'].mean())"
      ]
    },
    {
      "cell_type": "code",
      "execution_count": null,
      "metadata": {
        "colab": {
          "base_uri": "https://localhost:8080/"
        },
        "id": "FPB-m5xPQVLq",
        "outputId": "79ec6e4d-3fab-4783-bb31-5b84e35bc94a"
      },
      "outputs": [
        {
          "output_type": "execute_result",
          "data": {
            "text/plain": [
              "3562"
            ]
          },
          "metadata": {},
          "execution_count": 115
        }
      ],
      "source": [
        "auctions[auctions['stable'] & auctions['exclusive'] & auctions['coherent'] & auctions['cartel'] &(auctions['com_n'] >=151)& auctions['sev_times']]['participant_inn'].nunique()"
      ]
    },
    {
      "cell_type": "code",
      "source": [
        "fig, ax = plt.subplots(1,1)\n",
        "ax.set_xlim([0.8,1])\n",
        "auctions[(~(auctions['exclusive'] & auctions['coherent'] & auctions['stable'] & auctions['cartel'] )& auctions['won'])  & (auctions['com_n'] >= 150)].groupby(['com_n'])['bid_price'].mean().plot.density(color='green', ax=ax, label='Normal markets')\n",
        "auctions[(auctions['exclusive']) & (auctions['coherent']) &  (auctions['com_n'] >= 150) & (auctions['stable']) & (auctions['cartel']) & auctions['won']& auctions['sev_times']].groupby(['com_n'])['bid_price'].mean().plot.density(color='red', ax=ax, label='Suspicious markets')\n",
        "plt.legend()"
      ],
      "metadata": {
        "id": "eHTM5JEFcJz5"
      },
      "execution_count": null,
      "outputs": []
    },
    {
      "cell_type": "code",
      "execution_count": null,
      "metadata": {
        "colab": {
          "base_uri": "https://localhost:8080/"
        },
        "id": "KAvq1Ksc4MUp",
        "outputId": "47a96e4e-c1ca-4f5a-b937-f247329f2475"
      },
      "outputs": [
        {
          "output_type": "stream",
          "name": "stdout",
          "text": [
            "0.9450484276679181 0.1226435486004759 0.9817989672035318\n",
            "0.9411649098507112 0.12083455420023574 0.9750461074163079\n",
            "MannwhitneyuResult(statistic=11087093.5, pvalue=4.4368663015299557e-07)\n",
            "0.2882858984307296 0.1935120233169736 0.23570226039551584\n",
            "0.3438135321094392 0.267971143218426 0.3030457633656632\n",
            "MannwhitneyuResult(statistic=9022767.5, pvalue=9.056976593371604e-65)\n",
            "0.036238351130322415 0.09995467223995859 0.00711232386866765\n",
            "0.0410736863683659 0.1103365702683324 0.010473420360680288\n"
          ]
        },
        {
          "output_type": "execute_result",
          "data": {
            "text/plain": [
              "MannwhitneyuResult(statistic=11034138.0, pvalue=8.987669860359026e-08)"
            ]
          },
          "metadata": {},
          "execution_count": 108
        }
      ],
      "source": [
        "print(auctions[(auctions['exclusive'] & auctions['coherent'] & auctions['cartel'] & auctions['stable']) & (auctions['won'])&(auctions['com_n'] >=151)& auctions['sev_times']].groupby(['com_n'])['bid_price'].mean().mean(), auctions[(auctions['exclusive'] & auctions['coherent'] & auctions['cartel'] & auctions['stable']) & (auctions['won'])].groupby(['com_n'])['bid_price'].mean().std(), auctions[(auctions['exclusive'] & auctions['coherent'] & auctions['cartel'] & auctions['stable']) & (auctions['won'])&(auctions['com_n'] >=151)& auctions['sev_times']].groupby(['com_n'])['bid_price'].mean().median())\n",
        "print(auctions[(~(auctions['exclusive'] & auctions['coherent'] & auctions['cartel'] & auctions['stable']))& (auctions['won'])&(auctions['com_n'] >=151)& auctions['sev_times']].groupby(['com_n'])['bid_price'].mean().mean(), auctions[~(auctions['exclusive'] & auctions['coherent'] & auctions['cartel'] & auctions['stable'])& (auctions['won'])].groupby(['com_n'])['bid_price'].mean().std(), auctions[~(auctions['exclusive'] & auctions['coherent'] & auctions['cartel'] & auctions['stable']) & (auctions['won'])&(auctions['com_n'] >=151)& auctions['sev_times']].groupby(['com_n'])['bid_price'].mean().median())\n",
        "print(mannwhitneyu(auctions[(auctions['exclusive'] & auctions['coherent'] & auctions['cartel'] & auctions['stable'])& (auctions['won'])&(auctions['com_n'] >=151)& auctions['sev_times']].groupby(['com_n'])['bid_price'].mean(), auctions[~(auctions['exclusive'] & auctions['coherent'] & auctions['cartel'] & auctions['stable'])& (auctions['won'])].groupby(['com_n'])['bid_price'].mean()))\n",
        "\n",
        "print(auctions[(auctions['exclusive'] & auctions['coherent'] & auctions['cartel'] & auctions['stable']) &(auctions['com_n'] >=151)& auctions['sev_times']].groupby(['com_n'])['cv_price'].mean().mean(), auctions[(auctions['exclusive'] & auctions['coherent'] & auctions['cartel'] & auctions['stable']) ].groupby(['com_n'])['cv_price'].mean().std(), auctions[(auctions['exclusive'] & auctions['coherent'] & auctions['cartel'] & auctions['stable']) &(auctions['com_n'] >=151)& auctions['sev_times']].groupby(['com_n'])['cv_price'].mean().median())\n",
        "print(auctions[~(auctions['exclusive'] & auctions['coherent'] & auctions['cartel'] & auctions['stable'])&(auctions['com_n'] >=151)& auctions['sev_times']].groupby(['com_n'])['cv_price'].mean().mean(), auctions[~(auctions['exclusive'] & auctions['coherent'] & auctions['cartel'] & auctions['stable'])].groupby(['com_n'])['cv_price'].mean().std(), auctions[~(auctions['exclusive'] & auctions['coherent'] & auctions['cartel'] & auctions['stable']) &(auctions['com_n'] >=151)& auctions['sev_times']].groupby(['com_n'])['cv_price'].mean().median())\n",
        "print(mannwhitneyu(auctions[(auctions['exclusive'] & auctions['coherent'] & auctions['cartel'] & auctions['stable'])&(auctions['com_n'] >=151)& auctions['sev_times']].groupby(['com_n'])['cv_price'].mean(), auctions[~(auctions['exclusive'] & auctions['coherent'] & auctions['cartel'] & auctions['stable'])].groupby(['com_n'])['cv_price'].mean()))\n",
        "\n",
        "print(auctions[(auctions['exclusive'] & auctions['coherent'] & auctions['cartel'] & auctions['stable']) &(auctions['com_n'] >=151)& auctions['sev_times']].groupby(['com_n'])['cv_bidding'].mean().mean(), auctions[(auctions['exclusive'] & auctions['coherent'] & auctions['cartel'] & auctions['stable']) ].groupby(['com_n'])['cv_bidding'].mean().std(), auctions[(auctions['exclusive'] & auctions['coherent'] & auctions['cartel'] & auctions['stable']) &(auctions['com_n'] >=151)& auctions['sev_times']].groupby(['com_n'])['cv_bidding'].mean().median())\n",
        "print(auctions[~(auctions['exclusive'] & auctions['coherent'] & auctions['cartel'] & auctions['stable'])&(auctions['com_n'] >=151)& auctions['sev_times']].groupby(['com_n'])['cv_bidding'].mean().mean(), auctions[~(auctions['exclusive'] & auctions['coherent'] & auctions['cartel'] & auctions['stable'])].groupby(['com_n'])['cv_bidding'].mean().std(), auctions[~(auctions['exclusive'] & auctions['coherent'] & auctions['cartel'] & auctions['stable']) &(auctions['com_n'] >=151)& auctions['sev_times']].groupby(['com_n'])['cv_bidding'].mean().median())\n",
        "mannwhitneyu(auctions[(auctions['exclusive'] & auctions['coherent'] & auctions['cartel'] & auctions['stable'])&(auctions['com_n'] >=151)& auctions['sev_times']].groupby(['com_n'])['cv_bidding'].mean(), auctions[~(auctions['exclusive'] & auctions['coherent'] & auctions['cartel'] & auctions['stable'])].groupby(['com_n'])['cv_bidding'].mean())"
      ]
    },
    {
      "cell_type": "code",
      "execution_count": null,
      "metadata": {
        "colab": {
          "base_uri": "https://localhost:8080/"
        },
        "id": "bmO8VvxD5AFT",
        "outputId": "d0d43690-a0b1-4561-fa54-9a1a412323c8"
      },
      "outputs": [
        {
          "name": "stdout",
          "output_type": "stream",
          "text": [
            "0.9348175506976382 0.1248949961191898\n",
            "0.9333208936420869 0.11981048362401289\n",
            "MannwhitneyuResult(statistic=36653315.5, pvalue=3.213342134968351e-14)\n",
            "0.4332083910255086 0.3640125381490061\n",
            "0.525128406989492 0.3603623871806035\n",
            "MannwhitneyuResult(statistic=29911198.0, pvalue=4.9164851043423364e-154)\n",
            "188.97340484301665 0.3640125381490061\n",
            "690.6835036871837 0.3603623871806035\n"
          ]
        },
        {
          "data": {
            "text/plain": [
              "MannwhitneyuResult(statistic=29720381.0, pvalue=3.0101350613874674e-160)"
            ]
          },
          "execution_count": 179,
          "metadata": {},
          "output_type": "execute_result"
        }
      ],
      "source": [
        "print(auctions[(auctions['cartel'] & auctions['stable']) & (auctions['won'])].groupby(['com_n'])['bid_price'].mean().mean(), auctions[(auctions['cartel'] & auctions['stable']) & (auctions['won'])].groupby(['com_n'])['bid_price'].mean().std())\n",
        "print(auctions[~(auctions['cartel'] & auctions['stable'])& (auctions['won'])].groupby(['com_n'])['bid_price'].mean().mean(), auctions[~(auctions['cartel'] & auctions['stable'])& (auctions['won'])].groupby(['com_n'])['bid_price'].mean().std())\n",
        "print(mannwhitneyu(auctions[(auctions['cartel'] & auctions['stable'])& (auctions['won'])].groupby(['com_n'])['bid_price'].mean(), auctions[~(auctions['cartel'] & auctions['stable'])& (auctions['won'])].groupby(['com_n'])['bid_price'].mean()))\n",
        "\n",
        "print(auctions[(auctions['cartel'] & auctions['stable']) ].groupby(['com_n'])['cv_price'].mean().mean(), auctions[(auctions['cartel'] & auctions['stable']) ].groupby(['com_n'])['cv_price'].mean().std())\n",
        "print(auctions[~(auctions['cartel'] & auctions['stable'])].groupby(['com_n'])['cv_price'].mean().mean(), auctions[~(auctions['cartel'] & auctions['stable'])].groupby(['com_n'])['cv_price'].mean().std())\n",
        "print(mannwhitneyu(auctions[(auctions['cartel'] & auctions['stable'])].groupby(['com_n'])['cv_price'].mean(), auctions[~(auctions['cartel'] & auctions['stable'])].groupby(['com_n'])['cv_price'].mean()))\n",
        "\n",
        "print(auctions[(auctions['cartel'] & auctions['stable']) ].groupby(['com_n'])['cv_bidding'].mean().mean(), auctions[(auctions['cartel'] & auctions['stable']) ].groupby(['com_n'])['cv_price'].mean().std())\n",
        "print(auctions[~(auctions['cartel'] & auctions['stable'])].groupby(['com_n'])['cv_bidding'].mean().mean(), auctions[~(auctions['cartel'] & auctions['stable'])].groupby(['com_n'])['cv_price'].mean().std())\n",
        "mannwhitneyu(auctions[( auctions['cartel'] & auctions['stable'])].groupby(['com_n'])['cv_bidding'].mean(), auctions[~(auctions['cartel'] & auctions['stable'])].groupby(['com_n'])['cv_price'].mean())"
      ]
    },
    {
      "cell_type": "code",
      "source": [
        "auctions['stability'] = stable[auctions['com_n']]"
      ],
      "metadata": {
        "id": "pOfiSxdXYYPr"
      },
      "execution_count": null,
      "outputs": []
    },
    {
      "cell_type": "code",
      "execution_count": null,
      "metadata": {
        "id": "lCgieE8Z-FDF"
      },
      "outputs": [],
      "source": [
        "auctions.to_csv(\"/content/drive/MyDrive/Maria Mitrankova/counted.csv\")"
      ]
    },
    {
      "cell_type": "markdown",
      "source": [
        "Verification and Examples"
      ],
      "metadata": {
        "id": "bUsqIVlwsNdf"
      }
    },
    {
      "cell_type": "markdown",
      "source": [
        "Example\n",
        "SPb"
      ],
      "metadata": {
        "id": "3010C6L_sQn2"
      }
    },
    {
      "cell_type": "code",
      "execution_count": null,
      "metadata": {
        "colab": {
          "base_uri": "https://localhost:8080/",
          "height": 676
        },
        "outputId": "e129ad1a-0f2a-49d9-bd32-58bf179a8b5d",
        "id": "NyDCB8pMsUjC"
      },
      "outputs": [
        {
          "output_type": "execute_result",
          "data": {
            "text/plain": [
              "         auction_id  participant_inn\n",
              "370118      1353452    -470403618839\n",
              "370119      1353452    -780425014634\n",
              "370165      1325503    -780405658567\n",
              "370214      1367546    -781309229119\n",
              "370215      1367546    -780212833981\n",
              "370221      1325503    -780425014634\n",
              "1040319     1329489    -470302348865\n",
              "1040327     1329489    -781309229119\n",
              "1040361     1329491    -780425014634\n",
              "1040363     1329491    -780405658567\n",
              "1759195     1360931    -470302348865\n",
              "1759196     1360931    -780405658567\n",
              "1759197     1374839    -781309229119\n",
              "1759218     1374839    -780425014634\n",
              "1759806     1333082    -780202383469\n",
              "1759808     1333082    -783830042394\n",
              "1764959     1333100    -780202383469\n",
              "1764960     1333100    -783830042394\n",
              "1782136     1360981    -780243876209\n",
              "1782142     1360981    -783830042394"
            ],
            "text/html": [
              "\n",
              "  <div id=\"df-5f3348d5-39e9-494c-86a6-73937017ce38\">\n",
              "    <div class=\"colab-df-container\">\n",
              "      <div>\n",
              "<style scoped>\n",
              "    .dataframe tbody tr th:only-of-type {\n",
              "        vertical-align: middle;\n",
              "    }\n",
              "\n",
              "    .dataframe tbody tr th {\n",
              "        vertical-align: top;\n",
              "    }\n",
              "\n",
              "    .dataframe thead th {\n",
              "        text-align: right;\n",
              "    }\n",
              "</style>\n",
              "<table border=\"1\" class=\"dataframe\">\n",
              "  <thead>\n",
              "    <tr style=\"text-align: right;\">\n",
              "      <th></th>\n",
              "      <th>auction_id</th>\n",
              "      <th>participant_inn</th>\n",
              "    </tr>\n",
              "  </thead>\n",
              "  <tbody>\n",
              "    <tr>\n",
              "      <th>370118</th>\n",
              "      <td>1353452</td>\n",
              "      <td>-470403618839</td>\n",
              "    </tr>\n",
              "    <tr>\n",
              "      <th>370119</th>\n",
              "      <td>1353452</td>\n",
              "      <td>-780425014634</td>\n",
              "    </tr>\n",
              "    <tr>\n",
              "      <th>370165</th>\n",
              "      <td>1325503</td>\n",
              "      <td>-780405658567</td>\n",
              "    </tr>\n",
              "    <tr>\n",
              "      <th>370214</th>\n",
              "      <td>1367546</td>\n",
              "      <td>-781309229119</td>\n",
              "    </tr>\n",
              "    <tr>\n",
              "      <th>370215</th>\n",
              "      <td>1367546</td>\n",
              "      <td>-780212833981</td>\n",
              "    </tr>\n",
              "    <tr>\n",
              "      <th>370221</th>\n",
              "      <td>1325503</td>\n",
              "      <td>-780425014634</td>\n",
              "    </tr>\n",
              "    <tr>\n",
              "      <th>1040319</th>\n",
              "      <td>1329489</td>\n",
              "      <td>-470302348865</td>\n",
              "    </tr>\n",
              "    <tr>\n",
              "      <th>1040327</th>\n",
              "      <td>1329489</td>\n",
              "      <td>-781309229119</td>\n",
              "    </tr>\n",
              "    <tr>\n",
              "      <th>1040361</th>\n",
              "      <td>1329491</td>\n",
              "      <td>-780425014634</td>\n",
              "    </tr>\n",
              "    <tr>\n",
              "      <th>1040363</th>\n",
              "      <td>1329491</td>\n",
              "      <td>-780405658567</td>\n",
              "    </tr>\n",
              "    <tr>\n",
              "      <th>1759195</th>\n",
              "      <td>1360931</td>\n",
              "      <td>-470302348865</td>\n",
              "    </tr>\n",
              "    <tr>\n",
              "      <th>1759196</th>\n",
              "      <td>1360931</td>\n",
              "      <td>-780405658567</td>\n",
              "    </tr>\n",
              "    <tr>\n",
              "      <th>1759197</th>\n",
              "      <td>1374839</td>\n",
              "      <td>-781309229119</td>\n",
              "    </tr>\n",
              "    <tr>\n",
              "      <th>1759218</th>\n",
              "      <td>1374839</td>\n",
              "      <td>-780425014634</td>\n",
              "    </tr>\n",
              "    <tr>\n",
              "      <th>1759806</th>\n",
              "      <td>1333082</td>\n",
              "      <td>-780202383469</td>\n",
              "    </tr>\n",
              "    <tr>\n",
              "      <th>1759808</th>\n",
              "      <td>1333082</td>\n",
              "      <td>-783830042394</td>\n",
              "    </tr>\n",
              "    <tr>\n",
              "      <th>1764959</th>\n",
              "      <td>1333100</td>\n",
              "      <td>-780202383469</td>\n",
              "    </tr>\n",
              "    <tr>\n",
              "      <th>1764960</th>\n",
              "      <td>1333100</td>\n",
              "      <td>-783830042394</td>\n",
              "    </tr>\n",
              "    <tr>\n",
              "      <th>1782136</th>\n",
              "      <td>1360981</td>\n",
              "      <td>-780243876209</td>\n",
              "    </tr>\n",
              "    <tr>\n",
              "      <th>1782142</th>\n",
              "      <td>1360981</td>\n",
              "      <td>-783830042394</td>\n",
              "    </tr>\n",
              "  </tbody>\n",
              "</table>\n",
              "</div>\n",
              "      <button class=\"colab-df-convert\" onclick=\"convertToInteractive('df-5f3348d5-39e9-494c-86a6-73937017ce38')\"\n",
              "              title=\"Convert this dataframe to an interactive table.\"\n",
              "              style=\"display:none;\">\n",
              "        \n",
              "  <svg xmlns=\"http://www.w3.org/2000/svg\" height=\"24px\"viewBox=\"0 0 24 24\"\n",
              "       width=\"24px\">\n",
              "    <path d=\"M0 0h24v24H0V0z\" fill=\"none\"/>\n",
              "    <path d=\"M18.56 5.44l.94 2.06.94-2.06 2.06-.94-2.06-.94-.94-2.06-.94 2.06-2.06.94zm-11 1L8.5 8.5l.94-2.06 2.06-.94-2.06-.94L8.5 2.5l-.94 2.06-2.06.94zm10 10l.94 2.06.94-2.06 2.06-.94-2.06-.94-.94-2.06-.94 2.06-2.06.94z\"/><path d=\"M17.41 7.96l-1.37-1.37c-.4-.4-.92-.59-1.43-.59-.52 0-1.04.2-1.43.59L10.3 9.45l-7.72 7.72c-.78.78-.78 2.05 0 2.83L4 21.41c.39.39.9.59 1.41.59.51 0 1.02-.2 1.41-.59l7.78-7.78 2.81-2.81c.8-.78.8-2.07 0-2.86zM5.41 20L4 18.59l7.72-7.72 1.47 1.35L5.41 20z\"/>\n",
              "  </svg>\n",
              "      </button>\n",
              "      \n",
              "  <style>\n",
              "    .colab-df-container {\n",
              "      display:flex;\n",
              "      flex-wrap:wrap;\n",
              "      gap: 12px;\n",
              "    }\n",
              "\n",
              "    .colab-df-convert {\n",
              "      background-color: #E8F0FE;\n",
              "      border: none;\n",
              "      border-radius: 50%;\n",
              "      cursor: pointer;\n",
              "      display: none;\n",
              "      fill: #1967D2;\n",
              "      height: 32px;\n",
              "      padding: 0 0 0 0;\n",
              "      width: 32px;\n",
              "    }\n",
              "\n",
              "    .colab-df-convert:hover {\n",
              "      background-color: #E2EBFA;\n",
              "      box-shadow: 0px 1px 2px rgba(60, 64, 67, 0.3), 0px 1px 3px 1px rgba(60, 64, 67, 0.15);\n",
              "      fill: #174EA6;\n",
              "    }\n",
              "\n",
              "    [theme=dark] .colab-df-convert {\n",
              "      background-color: #3B4455;\n",
              "      fill: #D2E3FC;\n",
              "    }\n",
              "\n",
              "    [theme=dark] .colab-df-convert:hover {\n",
              "      background-color: #434B5C;\n",
              "      box-shadow: 0px 1px 3px 1px rgba(0, 0, 0, 0.15);\n",
              "      filter: drop-shadow(0px 1px 2px rgba(0, 0, 0, 0.3));\n",
              "      fill: #FFFFFF;\n",
              "    }\n",
              "  </style>\n",
              "\n",
              "      <script>\n",
              "        const buttonEl =\n",
              "          document.querySelector('#df-5f3348d5-39e9-494c-86a6-73937017ce38 button.colab-df-convert');\n",
              "        buttonEl.style.display =\n",
              "          google.colab.kernel.accessAllowed ? 'block' : 'none';\n",
              "\n",
              "        async function convertToInteractive(key) {\n",
              "          const element = document.querySelector('#df-5f3348d5-39e9-494c-86a6-73937017ce38');\n",
              "          const dataTable =\n",
              "            await google.colab.kernel.invokeFunction('convertToInteractive',\n",
              "                                                     [key], {});\n",
              "          if (!dataTable) return;\n",
              "\n",
              "          const docLinkHtml = 'Like what you see? Visit the ' +\n",
              "            '<a target=\"_blank\" href=https://colab.research.google.com/notebooks/data_table.ipynb>data table notebook</a>'\n",
              "            + ' to learn more about interactive tables.';\n",
              "          element.innerHTML = '';\n",
              "          dataTable['output_type'] = 'display_data';\n",
              "          await google.colab.output.renderOutput(dataTable, element);\n",
              "          const docLink = document.createElement('div');\n",
              "          docLink.innerHTML = docLinkHtml;\n",
              "          element.appendChild(docLink);\n",
              "        }\n",
              "      </script>\n",
              "    </div>\n",
              "  </div>\n",
              "  "
            ]
          },
          "metadata": {},
          "execution_count": 186
        }
      ],
      "source": [
        "kpl = auctions[auctions['com_n'].isin([523, 4375])]\n",
        "kpl[['auction_id', 'participant_inn']]"
      ]
    },
    {
      "cell_type": "code",
      "source": [
        "coms1 = kpl.groupby('com_n')['participant_inn'].unique().apply(list).tolist()\n",
        "coms1"
      ],
      "metadata": {
        "colab": {
          "base_uri": "https://localhost:8080/"
        },
        "outputId": "ef1f394d-84a6-41e3-f7a6-7b29472bd8bb",
        "id": "OZNBcxqvsUjD"
      },
      "execution_count": null,
      "outputs": [
        {
          "output_type": "execute_result",
          "data": {
            "text/plain": [
              "[[-470403618839,\n",
              "  -780425014634,\n",
              "  -780405658567,\n",
              "  -781309229119,\n",
              "  -780212833981,\n",
              "  -470302348865],\n",
              " [-780202383469, -783830042394, -780243876209]]"
            ]
          },
          "metadata": {},
          "execution_count": 187
        }
      ]
    },
    {
      "cell_type": "code",
      "execution_count": null,
      "metadata": {
        "colab": {
          "base_uri": "https://localhost:8080/"
        },
        "outputId": "05833158-51bd-4412-d565-56b3970846cb",
        "id": "06RmepIPsUjH"
      },
      "outputs": [
        {
          "output_type": "execute_result",
          "data": {
            "text/plain": [
              "9"
            ]
          },
          "metadata": {},
          "execution_count": 188
        }
      ],
      "source": [
        "G_k = nx.Graph()\n",
        "G_k.add_nodes_from(kpl['participant_inn'], bipartite=0)\n",
        "dct  = kpl.groupby('auction_id')['participant_inn'].apply(list).to_dict()\n",
        "for a in dct:\n",
        "  for i in range(len(dct[a])):\n",
        "    for j in range(i+1, len(dct[a])):\n",
        "      if G_k.has_edge(dct[a][i], dct[a][j]):\n",
        "                # we added this one before, just increase the weight by one\n",
        "        G_k[dct[a][i]][dct[a][j]]['weight'] += 1\n",
        "      else:\n",
        "                # new edge. add with weight=1\n",
        "        G_k.add_edge(dct[a][i], dct[a][j], weight=1)\n",
        "len(G_k)  "
      ]
    },
    {
      "cell_type": "code",
      "source": [
        "coms1"
      ],
      "metadata": {
        "colab": {
          "base_uri": "https://localhost:8080/"
        },
        "outputId": "bca82525-f374-41e5-c1a7-c33405b5257a",
        "id": "wSiVsme-sUjI"
      },
      "execution_count": null,
      "outputs": [
        {
          "output_type": "execute_result",
          "data": {
            "text/plain": [
              "[[-164604449196,\n",
              "  -165016918928,\n",
              "  -1639044483,\n",
              "  -1646025940,\n",
              "  -1640003308,\n",
              "  -1650169189,\n",
              "  -165006323583,\n",
              "  -166019145033,\n",
              "  -1657134718],\n",
              " [-1650100406, -1650132863],\n",
              " [-165712041198, -1661009660]]"
            ]
          },
          "metadata": {},
          "execution_count": 149
        }
      ]
    },
    {
      "cell_type": "code",
      "execution_count": null,
      "metadata": {
        "colab": {
          "base_uri": "https://localhost:8080/",
          "height": 483
        },
        "outputId": "af8b1f4d-8401-4fdf-db3a-8e607c32d058",
        "id": "qJntLigVsUjJ"
      },
      "outputs": [
        {
          "output_type": "execute_result",
          "data": {
            "text/plain": [
              "<matplotlib.collections.PathCollection at 0x7f3134ce5090>"
            ]
          },
          "metadata": {},
          "execution_count": 189
        },
        {
          "output_type": "display_data",
          "data": {
            "text/plain": [
              "<Figure size 576x576 with 1 Axes>"
            ],
            "image/png": "[encoded data removed]"
          },
          "metadata": {}
        }
      ],
      "source": [
        "from cdlib import viz\n",
        "\n",
        "# fig,ax = plt.subplots(1,1, figsize=(10,10))\n",
        "size = 4\n",
        "\n",
        "pos = nx.spring_layout(G_k)\n",
        "count = 0\n",
        "total_c = []\n",
        "coms = algorithms.louvain(G_k)\n",
        "coms.communities = coms1\n",
        "viz.plot_network_clusters(G_k, coms, pos)"
      ]
    },
    {
      "cell_type": "code",
      "execution_count": null,
      "metadata": {
        "colab": {
          "base_uri": "https://localhost:8080/",
          "height": 143
        },
        "outputId": "e289469d-c815-4f8b-8ea0-470223ea9f1a",
        "id": "r9Ye_oYZsUjJ"
      },
      "outputs": [
        {
          "output_type": "execute_result",
          "data": {
            "text/plain": [
              "       bid_price  cv_price  cv_bidding  coherence  exclusivity\n",
              "com_n                                                         \n",
              "523     0.995475  0.000352    0.003131   0.962110          1.0\n",
              "4375    0.999465  0.000023    0.000272   0.942808          1.0"
            ],
            "text/html": [
              "\n",
              "  <div id=\"df-698aa94b-6122-4f66-a522-87516375d888\">\n",
              "    <div class=\"colab-df-container\">\n",
              "      <div>\n",
              "<style scoped>\n",
              "    .dataframe tbody tr th:only-of-type {\n",
              "        vertical-align: middle;\n",
              "    }\n",
              "\n",
              "    .dataframe tbody tr th {\n",
              "        vertical-align: top;\n",
              "    }\n",
              "\n",
              "    .dataframe thead th {\n",
              "        text-align: right;\n",
              "    }\n",
              "</style>\n",
              "<table border=\"1\" class=\"dataframe\">\n",
              "  <thead>\n",
              "    <tr style=\"text-align: right;\">\n",
              "      <th></th>\n",
              "      <th>bid_price</th>\n",
              "      <th>cv_price</th>\n",
              "      <th>cv_bidding</th>\n",
              "      <th>coherence</th>\n",
              "      <th>exclusivity</th>\n",
              "    </tr>\n",
              "    <tr>\n",
              "      <th>com_n</th>\n",
              "      <th></th>\n",
              "      <th></th>\n",
              "      <th></th>\n",
              "      <th></th>\n",
              "      <th></th>\n",
              "    </tr>\n",
              "  </thead>\n",
              "  <tbody>\n",
              "    <tr>\n",
              "      <th>523</th>\n",
              "      <td>0.995475</td>\n",
              "      <td>0.000352</td>\n",
              "      <td>0.003131</td>\n",
              "      <td>0.962110</td>\n",
              "      <td>1.0</td>\n",
              "    </tr>\n",
              "    <tr>\n",
              "      <th>4375</th>\n",
              "      <td>0.999465</td>\n",
              "      <td>0.000023</td>\n",
              "      <td>0.000272</td>\n",
              "      <td>0.942808</td>\n",
              "      <td>1.0</td>\n",
              "    </tr>\n",
              "  </tbody>\n",
              "</table>\n",
              "</div>\n",
              "      <button class=\"colab-df-convert\" onclick=\"convertToInteractive('df-698aa94b-6122-4f66-a522-87516375d888')\"\n",
              "              title=\"Convert this dataframe to an interactive table.\"\n",
              "              style=\"display:none;\">\n",
              "        \n",
              "  <svg xmlns=\"http://www.w3.org/2000/svg\" height=\"24px\"viewBox=\"0 0 24 24\"\n",
              "       width=\"24px\">\n",
              "    <path d=\"M0 0h24v24H0V0z\" fill=\"none\"/>\n",
              "    <path d=\"M18.56 5.44l.94 2.06.94-2.06 2.06-.94-2.06-.94-.94-2.06-.94 2.06-2.06.94zm-11 1L8.5 8.5l.94-2.06 2.06-.94-2.06-.94L8.5 2.5l-.94 2.06-2.06.94zm10 10l.94 2.06.94-2.06 2.06-.94-2.06-.94-.94-2.06-.94 2.06-2.06.94z\"/><path d=\"M17.41 7.96l-1.37-1.37c-.4-.4-.92-.59-1.43-.59-.52 0-1.04.2-1.43.59L10.3 9.45l-7.72 7.72c-.78.78-.78 2.05 0 2.83L4 21.41c.39.39.9.59 1.41.59.51 0 1.02-.2 1.41-.59l7.78-7.78 2.81-2.81c.8-.78.8-2.07 0-2.86zM5.41 20L4 18.59l7.72-7.72 1.47 1.35L5.41 20z\"/>\n",
              "  </svg>\n",
              "      </button>\n",
              "      \n",
              "  <style>\n",
              "    .colab-df-container {\n",
              "      display:flex;\n",
              "      flex-wrap:wrap;\n",
              "      gap: 12px;\n",
              "    }\n",
              "\n",
              "    .colab-df-convert {\n",
              "      background-color: #E8F0FE;\n",
              "      border: none;\n",
              "      border-radius: 50%;\n",
              "      cursor: pointer;\n",
              "      display: none;\n",
              "      fill: #1967D2;\n",
              "      height: 32px;\n",
              "      padding: 0 0 0 0;\n",
              "      width: 32px;\n",
              "    }\n",
              "\n",
              "    .colab-df-convert:hover {\n",
              "      background-color: #E2EBFA;\n",
              "      box-shadow: 0px 1px 2px rgba(60, 64, 67, 0.3), 0px 1px 3px 1px rgba(60, 64, 67, 0.15);\n",
              "      fill: #174EA6;\n",
              "    }\n",
              "\n",
              "    [theme=dark] .colab-df-convert {\n",
              "      background-color: #3B4455;\n",
              "      fill: #D2E3FC;\n",
              "    }\n",
              "\n",
              "    [theme=dark] .colab-df-convert:hover {\n",
              "      background-color: #434B5C;\n",
              "      box-shadow: 0px 1px 3px 1px rgba(0, 0, 0, 0.15);\n",
              "      filter: drop-shadow(0px 1px 2px rgba(0, 0, 0, 0.3));\n",
              "      fill: #FFFFFF;\n",
              "    }\n",
              "  </style>\n",
              "\n",
              "      <script>\n",
              "        const buttonEl =\n",
              "          document.querySelector('#df-698aa94b-6122-4f66-a522-87516375d888 button.colab-df-convert');\n",
              "        buttonEl.style.display =\n",
              "          google.colab.kernel.accessAllowed ? 'block' : 'none';\n",
              "\n",
              "        async function convertToInteractive(key) {\n",
              "          const element = document.querySelector('#df-698aa94b-6122-4f66-a522-87516375d888');\n",
              "          const dataTable =\n",
              "            await google.colab.kernel.invokeFunction('convertToInteractive',\n",
              "                                                     [key], {});\n",
              "          if (!dataTable) return;\n",
              "\n",
              "          const docLinkHtml = 'Like what you see? Visit the ' +\n",
              "            '<a target=\"_blank\" href=https://colab.research.google.com/notebooks/data_table.ipynb>data table notebook</a>'\n",
              "            + ' to learn more about interactive tables.';\n",
              "          element.innerHTML = '';\n",
              "          dataTable['output_type'] = 'display_data';\n",
              "          await google.colab.output.renderOutput(dataTable, element);\n",
              "          const docLink = document.createElement('div');\n",
              "          docLink.innerHTML = docLinkHtml;\n",
              "          element.appendChild(docLink);\n",
              "        }\n",
              "      </script>\n",
              "    </div>\n",
              "  </div>\n",
              "  "
            ]
          },
          "metadata": {},
          "execution_count": 190
        }
      ],
      "source": [
        "kpl.groupby('com_n')[['bid_price', 'cv_price', 'cv_bidding', 'coherence', 'exclusivity']].mean()"
      ]
    },
    {
      "cell_type": "markdown",
      "source": [
        "Ohio Milk Market"
      ],
      "metadata": {
        "id": "VaaCP4qns-H4"
      }
    },
    {
      "cell_type": "code",
      "source": [
        "import pandas as pd\n",
        "auctions = pd.read_csv(\"/content/drive/MyDrive/Maria Mitrankova/ohio_milk_data.csv\")"
      ],
      "metadata": {
        "id": "bymAvomawbYQ"
      },
      "execution_count": null,
      "outputs": []
    },
    {
      "cell_type": "code",
      "source": [
        "auctions.shape"
      ],
      "metadata": {
        "colab": {
          "base_uri": "https://localhost:8080/"
        },
        "outputId": "f6131141-39ad-4bdd-a6ae-2eeff19d45e0",
        "id": "9-Ru41lYuMC5"
      },
      "execution_count": null,
      "outputs": [
        {
          "output_type": "execute_result",
          "data": {
            "text/plain": [
              "(7004, 11)"
            ]
          },
          "metadata": {},
          "execution_count": 2
        }
      ]
    },
    {
      "cell_type": "code",
      "source": [
        "gr = auctions[['firm', 'contract_id']]\n",
        "gr_ns = gr[gr.groupby('contract_id')['contract_id'].transform('size') > 1]\n",
        "gr_ns.shape"
      ],
      "metadata": {
        "colab": {
          "base_uri": "https://localhost:8080/"
        },
        "outputId": "8fe806c9-32f7-4f51-abaf-4c4256b9c290",
        "id": "Ke-lH7-iucz2"
      },
      "execution_count": null,
      "outputs": [
        {
          "output_type": "execute_result",
          "data": {
            "text/plain": [
              "(5391, 2)"
            ]
          },
          "metadata": {},
          "execution_count": 150
        }
      ]
    },
    {
      "cell_type": "code",
      "source": [
        "G_nw = nx.Graph()\n",
        "G_nw.add_nodes_from(gr_ns['firm'], bipartite=0)\n",
        "dct  = gr_ns.groupby('contract_id')['firm'].apply(list).to_dict()\n",
        "for a in dct:\n",
        "  for i in range(len(dct[a])):\n",
        "    for j in range(i+1, len(dct[a])):\n",
        "      if G_nw.has_edge(dct[a][i], dct[a][j]):\n",
        "                # we added this one before, just increase the weight by one\n",
        "        G_nw[dct[a][i]][dct[a][j]]['weight'] += 1\n",
        "      else:\n",
        "                # new edge. add with weight=1\n",
        "        G_nw.add_edge(dct[a][i], dct[a][j], weight=1)\n",
        "len(G_nw) "
      ],
      "metadata": {
        "colab": {
          "base_uri": "https://localhost:8080/"
        },
        "outputId": "4332c3f9-4bcc-4032-ac29-514534b13479",
        "id": "Nv9-yr69ucz3"
      },
      "execution_count": null,
      "outputs": [
        {
          "output_type": "execute_result",
          "data": {
            "text/plain": [
              "110"
            ]
          },
          "metadata": {},
          "execution_count": 151
        }
      ]
    },
    {
      "cell_type": "code",
      "source": [
        "gr_no_c = auctions[auctions['is_cartel_firm'] == 0][['firm', 'contract_id']]"
      ],
      "metadata": {
        "id": "FIdwpKFkZn3O"
      },
      "execution_count": null,
      "outputs": []
    },
    {
      "cell_type": "code",
      "source": [
        "firms = auctions[auctions['is_cartel_firm'] == 1]['firm'].unique().tolist()"
      ],
      "metadata": {
        "id": "8KBjA56WcuWd"
      },
      "execution_count": null,
      "outputs": []
    },
    {
      "cell_type": "code",
      "source": [
        "for e in G_nw.edges:\n",
        "  G_nw[e[0]][e[1]]['weight'] /= (G_nw.degree(e[0], weight='weight') + G_nw.degree(e[1], weight='weight') - G_nw[e[0]][e[1]]['weight'])"
      ],
      "metadata": {
        "id": "XtimuUtwZkRp"
      },
      "execution_count": null,
      "outputs": []
    },
    {
      "cell_type": "code",
      "execution_count": null,
      "metadata": {
        "colab": {
          "base_uri": "https://localhost:8080/"
        },
        "outputId": "e8f0523e-fcab-4c96-edc2-e976ae303610",
        "id": "Md-vtvPAvGuq"
      },
      "outputs": [
        {
          "output_type": "stream",
          "name": "stdout",
          "text": [
            "7\n",
            "27\n"
          ]
        }
      ],
      "source": [
        "coms_55 = algorithms.louvain(G_nw)\n",
        "print(len(coms_55.communities))\n",
        "print(len(coms_55.communities[0]))"
      ]
    },
    {
      "cell_type": "code",
      "source": [
        "for i in range(7):\n",
        "  print(len(coms_55.communities[i]))"
      ],
      "metadata": {
        "id": "Izo9GU2Abv0U",
        "outputId": "dff66057-d339-45ef-8806-f80ac137d4d6",
        "colab": {
          "base_uri": "https://localhost:8080/"
        }
      },
      "execution_count": null,
      "outputs": [
        {
          "output_type": "stream",
          "name": "stdout",
          "text": [
            "25\n",
            "23\n",
            "16\n",
            "15\n",
            "11\n",
            "11\n",
            "5\n"
          ]
        }
      ]
    },
    {
      "cell_type": "code",
      "execution_count": null,
      "metadata": {
        "colab": {
          "base_uri": "https://localhost:8080/"
        },
        "outputId": "bf8dce0a-c05e-4ae7-dcfd-4b9e2098fe8f",
        "id": "YIWuDFtQvGur"
      },
      "outputs": [
        {
          "output_type": "stream",
          "name": "stderr",
          "text": [
            "100%|██████████| 7/7 [00:00<00:00, 997.15it/s]\n"
          ]
        }
      ],
      "source": [
        "import numpy as np\n",
        "from tqdm import tqdm \n",
        "\n",
        "coherence = []\n",
        "for c in tqdm(coms_55.communities):\n",
        "  com = G_nw.subgraph(c).copy()\n",
        "  w = []\n",
        "  for e in com.edges():\n",
        "    w.append(com.get_edge_data(*e)['weight'])\n",
        "  w = np.array(w, dtype=np.float64)\n",
        "  ch = np.prod(w) ** (1/len(w)) / np.mean(w)\n",
        "  coherence.append(ch)\n"
      ]
    },
    {
      "cell_type": "code",
      "source": [
        "com = G_nw.subgraph(firms).copy()\n",
        "w = list()\n",
        "for e in com.edges():\n",
        "  w.append(com.get_edge_data(*e)['weight'])\n",
        "w = np.array(w)\n",
        "ch = np.prod(w) ** (1/len(w)) / np.mean(w)\n",
        "coherence.append(ch)\n"
      ],
      "metadata": {
        "id": "AOS5UbyPdvhb"
      },
      "execution_count": null,
      "outputs": []
    },
    {
      "cell_type": "code",
      "execution_count": null,
      "metadata": {
        "outputId": "ee586629-f4bd-4db5-f0d7-0ca32709f8db",
        "colab": {
          "base_uri": "https://localhost:8080/"
        },
        "id": "qn71rFZ1vGus"
      },
      "outputs": [
        {
          "output_type": "execute_result",
          "data": {
            "text/plain": [
              "[0.292237573673576,\n",
              " 0.40247833891573004,\n",
              " 0.7930064141590096,\n",
              " 0.4478013778612882,\n",
              " 0.2923554071605015,\n",
              " 0.5989012506152817,\n",
              " 0.957248629164196,\n",
              " 0.9504158349825812]"
            ]
          },
          "metadata": {},
          "execution_count": 166
        }
      ],
      "source": [
        "coherence"
      ]
    },
    {
      "cell_type": "code",
      "source": [
        "exclusivity = []\n",
        "for i in tqdm(range(7)):\n",
        "  # firms = auctions[auctions['com_n'] == i]['participant_inn'].unique().tolist()\n",
        "  ex = nx.conductance(G_nw, coms_55.communities[i], weight='weight')\n",
        "  exclusivity.append(1 - ex)"
      ],
      "metadata": {
        "id": "mzoRI6x3fEss",
        "outputId": "d8436c19-2dd6-4e8c-9bc8-eaf4753ef9aa",
        "colab": {
          "base_uri": "https://localhost:8080/"
        }
      },
      "execution_count": null,
      "outputs": [
        {
          "output_type": "stream",
          "name": "stderr",
          "text": [
            "100%|██████████| 7/7 [00:00<00:00, 1131.98it/s]\n"
          ]
        }
      ]
    },
    {
      "cell_type": "code",
      "source": [
        "ex = nx.conductance(G_nw, firms, weight='weight')\n",
        "exclusivity.append(1 - ex)"
      ],
      "metadata": {
        "id": "S7bSYNGHfZS8"
      },
      "execution_count": null,
      "outputs": []
    },
    {
      "cell_type": "code",
      "source": [
        "stable[6]"
      ],
      "metadata": {
        "id": "jpS-NDl1mOGw",
        "outputId": "dbc031d2-7d22-4d1c-f51b-9e8e73fe3fd6",
        "colab": {
          "base_uri": "https://localhost:8080/"
        }
      },
      "execution_count": null,
      "outputs": [
        {
          "output_type": "execute_result",
          "data": {
            "text/plain": [
              "0.17680860985262548"
            ]
          },
          "metadata": {},
          "execution_count": 103
        }
      ]
    },
    {
      "cell_type": "code",
      "execution_count": null,
      "metadata": {
        "colab": {
          "base_uri": "https://localhost:8080/"
        },
        "outputId": "d712f5aa-26ec-4f7d-e1dc-494088d27ea4",
        "id": "uChltK0pvRfS"
      },
      "outputs": [
        {
          "output_type": "stream",
          "name": "stderr",
          "text": [
            "100%|██████████| 7/7 [00:00<00:00, 54.05it/s]\n"
          ]
        }
      ],
      "source": [
        "from tqdm import tqdm\n",
        "import numpy as np \n",
        "\n",
        "stabls1 = []\n",
        "for i in tqdm(range(len(coms_55.communities))):\n",
        "  stabls1.append(stability(coms_55.communities[i]))\n",
        "  auctions.loc[auctions['firm'].isin(coms_55.communities[i]), ['com_n']] = i"
      ]
    },
    {
      "cell_type": "code",
      "execution_count": null,
      "metadata": {
        "id": "JBxIkbJoB9Iw",
        "colab": {
          "base_uri": "https://localhost:8080/"
        },
        "outputId": "5114d16a-309a-47c5-8a7f-3a67c4a7b01a"
      },
      "outputs": [
        {
          "output_type": "stream",
          "name": "stdout",
          "text": [
            "[list([0.9723107291552371, 0.8351205970751799, 0.6450424087401715, 0.4760964213767252, 0.9503851206297298, 0.9803777525359635, 0.7030077927083431, 0.998773873182599, 0.7157443489731997])\n",
            " list([0.9352875591071736, 0.45950377478429627, 0.3613881813557684, 0.8805877589174977, 0.8564034463640282, 0.9721557474536037, 0.9906633839803667, 0.39120275304749397, 0.39539628248187214])\n",
            " list([0.8350939520068612, 0.8736016849332897, 0.9579377988208321, -0.06470171182920291, 0.0, 0.28607724589212336, 0.580229351907866])\n",
            " list([0.9996701972927422, 0.7385465122580765, 0.8032964721973995, 0.9115371260262481, 0.8777551407776081, 0.775880800597465, 0.18812959155118758, 0.17255365679259455, 0.752910906494965])\n",
            " list([0.9999775405505467, 0.6610350702446839, 0.9977949467959654, 0.9999999999685776, 0.6227707073656391, 0.6246234848121438, 0.9997953323567261, 0.6239265977476993, 0.6247715891928395])\n",
            " list([-0.165452206337655, 0.2769454137700796, 0.9999999866310163, -0.014295549692800592, -0.0671729822750318, 0.02885763278181478, 0.3342262768894437, 0.447716670755525, 0.5279504172728415])\n",
            " list([0.17680860985262548])]\n"
          ]
        }
      ],
      "source": [
        "stabls = np.array(stabls1)\n",
        "mylen = np.vectorize(len)\n",
        "mysum = np.vectorize(sum)\n",
        "print(stabls)\n",
        "stable = [sum(stabls[i])/len(stabls[i]) for i in range(7)]\n",
        "mean_st = (mysum(stabls)/mylen(stabls)).mean()"
      ]
    },
    {
      "cell_type": "code",
      "execution_count": null,
      "metadata": {
        "id": "6Ev5ofM7vRfU"
      },
      "outputs": [],
      "source": [
        "mean_st = stable.mean()"
      ]
    },
    {
      "cell_type": "code",
      "execution_count": null,
      "metadata": {
        "colab": {
          "base_uri": "https://localhost:8080/",
          "height": 352
        },
        "id": "DFVjipc8vsGR",
        "outputId": "7806536b-1715-44b1-e2b1-3348d7ec5cc2"
      },
      "outputs": [
        {
          "output_type": "execute_result",
          "data": {
            "text/plain": [
              "(array([1., 1., 0., 0., 1., 0., 2., 0., 2., 1.]),\n",
              " array([0.17680861, 0.25396654, 0.33112446, 0.40828239, 0.48544032,\n",
              "        0.56259824, 0.63975617, 0.7169141 , 0.79407202, 0.87122995,\n",
              "        0.94838788]),\n",
              " <a list of 10 Patch objects>)"
            ]
          },
          "metadata": {},
          "execution_count": 158
        },
        {
          "output_type": "display_data",
          "data": {
            "text/plain": [
              "<Figure size 432x288 with 1 Axes>"
            ],
            "image/png": "[encoded data removed]"
          },
          "metadata": {
            "needs_background": "light"
          }
        }
      ],
      "source": [
        "import matplotlib.pyplot as plt\n",
        "\n",
        "plt.hist(stable)"
      ]
    },
    {
      "cell_type": "code",
      "source": [
        "stabls_c = stability(firms)\n",
        "car_s = sum(stabls_c)/len(stabls_c)"
      ],
      "metadata": {
        "id": "tnJEApsjc4-X"
      },
      "execution_count": null,
      "outputs": []
    },
    {
      "cell_type": "code",
      "source": [
        "stable.append(car_s)\n",
        "sum(stable)/len(stable)"
      ],
      "metadata": {
        "id": "DLenb2DHcFVN",
        "outputId": "f3558dea-c422-47fa-ab66-ed5fa06f6c17",
        "colab": {
          "base_uri": "https://localhost:8080/"
        }
      },
      "execution_count": null,
      "outputs": [
        {
          "output_type": "execute_result",
          "data": {
            "text/plain": [
              "0.6090157109364975"
            ]
          },
          "metadata": {},
          "execution_count": 156
        }
      ]
    },
    {
      "cell_type": "code",
      "source": [
        "stable"
      ],
      "metadata": {
        "id": "GZDOTN0uEE83",
        "outputId": "7eed5e6a-15fe-45eb-9a11-f26c9d937871",
        "colab": {
          "base_uri": "https://localhost:8080/"
        }
      },
      "execution_count": null,
      "outputs": [
        {
          "output_type": "execute_result",
          "data": {
            "text/plain": [
              "[0.8085398938196832,\n",
              " 0.6936209874991223,\n",
              " 0.4954626173902527,\n",
              " 0.6911422671098095,\n",
              " 0.7949661410038691,\n",
              " 0.26319729553280374,\n",
              " 0.17680860985262548,\n",
              " 0.9483878752838135]"
            ]
          },
          "metadata": {},
          "execution_count": 159
        }
      ]
    },
    {
      "cell_type": "code",
      "source": [
        "exclusivity = np.array(exclusivity)\n",
        "coherence = np.array(coherence)\n",
        "stable = np.array(stable)"
      ],
      "metadata": {
        "id": "H-15GTA2gwCq"
      },
      "execution_count": null,
      "outputs": []
    },
    {
      "cell_type": "code",
      "source": [
        "fig, ax = plt.subplots(1,1)\n",
        "ax.scatter(coherence[:-1], stable[:-1], label='Normal Groups')\n",
        "ax.scatter(coherence[-1], stable[-1], color='red', label='Cartel group')\n",
        "ax.set_xlabel(\"Coherence\")\n",
        "ax.set_ylabel(\"Stability\")\n",
        "# ax.legend()\n",
        "ax.annotate('cartel', (coherence[-1], stable[-1]), xytext=(0.85, 0.9))"
      ],
      "metadata": {
        "id": "iQu28B-HiBds",
        "outputId": "c0d63142-6a18-41f6-eb2f-a5255f8541ed",
        "colab": {
          "base_uri": "https://localhost:8080/",
          "height": 296
        }
      },
      "execution_count": null,
      "outputs": [
        {
          "output_type": "execute_result",
          "data": {
            "text/plain": [
              "Text(0.85, 0.9, 'cartel')"
            ]
          },
          "metadata": {},
          "execution_count": 175
        },
        {
          "output_type": "display_data",
          "data": {
            "text/plain": [
              "<Figure size 432x288 with 1 Axes>"
            ],
            "image/png": "[encoded data removed]"
          },
          "metadata": {
            "needs_background": "light"
          }
        }
      ]
    }
  ],
  "metadata": {
    "colab": {
      "collapsed_sections": [],
      "name": "Cartel_and_Corruption_Analysis.ipynb",
      "provenance": [],
      "mount_file_id": "1DISyVapV52Uhx75XXRpB9IQsl340tQn9",
      "authorship_tag": "ABX9TyN6okARDPmqK7l7JCJyoZEd",
      "include_colab_link": true
    },
    "kernelspec": {
      "display_name": "Python 3",
      "name": "python3"
    },
    "language_info": {
      "name": "python"
    }
  },
  "nbformat": 4,
  "nbformat_minor": 0
}